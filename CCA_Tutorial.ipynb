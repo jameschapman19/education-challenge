{
  "nbformat": 4,
  "nbformat_minor": 0,
  "metadata": {
    "colab": {
      "name": "CCA_Tutorial.ipynb",
      "provenance": [],
      "collapsed_sections": [],
      "authorship_tag": "ABX9TyODnGHi5fJq92xQu05U70sT",
      "include_colab_link": true
    },
    "kernelspec": {
      "name": "python3",
      "display_name": "Python 3"
    },
    "language_info": {
      "name": "python"
    },
    "widgets": {
      "application/vnd.jupyter.widget-state+json": {
        "51440888438c4b5c88ef5aa1d11f28ac": {
          "model_module": "@jupyter-widgets/controls",
          "model_name": "VBoxModel",
          "model_module_version": "1.5.0",
          "state": {
            "_view_name": "VBoxView",
            "_dom_classes": [
              "widget-interact"
            ],
            "_model_name": "VBoxModel",
            "_view_module": "@jupyter-widgets/controls",
            "_model_module_version": "1.5.0",
            "_view_count": null,
            "_view_module_version": "1.5.0",
            "box_style": "",
            "layout": "IPY_MODEL_7998ab630a404ae68a8fc7d04e1867bf",
            "_model_module": "@jupyter-widgets/controls",
            "children": [
              "IPY_MODEL_4b073481e6f2417e89d78a7e00bebb30",
              "IPY_MODEL_deb2554594b54b6598aabc3bdde00eec",
              "IPY_MODEL_b59d719330be4eb8b44752d04823c1f8",
              "IPY_MODEL_4aba134d30d4421bb6cdb6fbc1d5f393",
              "IPY_MODEL_f0852dcbef6e47b58cf6d64447c66e82",
              "IPY_MODEL_2fa5f6eae8c2481f9921e484c979f608",
              "IPY_MODEL_35011900c2c14778bc50c98ca6a29cad"
            ]
          }
        },
        "7998ab630a404ae68a8fc7d04e1867bf": {
          "model_module": "@jupyter-widgets/base",
          "model_name": "LayoutModel",
          "model_module_version": "1.2.0",
          "state": {
            "_view_name": "LayoutView",
            "grid_template_rows": null,
            "right": null,
            "justify_content": null,
            "_view_module": "@jupyter-widgets/base",
            "overflow": null,
            "_model_module_version": "1.2.0",
            "_view_count": null,
            "flex_flow": null,
            "width": null,
            "min_width": null,
            "border": null,
            "align_items": null,
            "bottom": null,
            "_model_module": "@jupyter-widgets/base",
            "top": null,
            "grid_column": null,
            "overflow_y": null,
            "overflow_x": null,
            "grid_auto_flow": null,
            "grid_area": null,
            "grid_template_columns": null,
            "flex": null,
            "_model_name": "LayoutModel",
            "justify_items": null,
            "grid_row": null,
            "max_height": null,
            "align_content": null,
            "visibility": null,
            "align_self": null,
            "height": null,
            "min_height": null,
            "padding": null,
            "grid_auto_rows": null,
            "grid_gap": null,
            "max_width": null,
            "order": null,
            "_view_module_version": "1.2.0",
            "grid_template_areas": null,
            "object_position": null,
            "object_fit": null,
            "grid_auto_columns": null,
            "margin": null,
            "display": null,
            "left": null
          }
        },
        "4b073481e6f2417e89d78a7e00bebb30": {
          "model_module": "@jupyter-widgets/controls",
          "model_name": "IntSliderModel",
          "model_module_version": "1.5.0",
          "state": {
            "_view_name": "IntSliderView",
            "style": "IPY_MODEL_c4c201259b4d4379bf889d732c796414",
            "_dom_classes": [],
            "description": "Train Samples",
            "step": 1,
            "_model_name": "IntSliderModel",
            "orientation": "horizontal",
            "max": 500,
            "_view_module": "@jupyter-widgets/controls",
            "_model_module_version": "1.5.0",
            "value": 100,
            "_view_count": null,
            "disabled": false,
            "_view_module_version": "1.5.0",
            "min": 10,
            "continuous_update": false,
            "readout_format": "d",
            "description_tooltip": null,
            "readout": true,
            "_model_module": "@jupyter-widgets/controls",
            "layout": "IPY_MODEL_72910d7a8f18459db60ab7f1708bec46"
          }
        },
        "deb2554594b54b6598aabc3bdde00eec": {
          "model_module": "@jupyter-widgets/controls",
          "model_name": "IntSliderModel",
          "model_module_version": "1.5.0",
          "state": {
            "_view_name": "IntSliderView",
            "style": "IPY_MODEL_06b5a631e31d4ce4ad3b11d948ef1f08",
            "_dom_classes": [],
            "description": "Test Samples",
            "step": 1,
            "_model_name": "IntSliderModel",
            "orientation": "horizontal",
            "max": 500,
            "_view_module": "@jupyter-widgets/controls",
            "_model_module_version": "1.5.0",
            "value": 100,
            "_view_count": null,
            "disabled": false,
            "_view_module_version": "1.5.0",
            "min": 10,
            "continuous_update": false,
            "readout_format": "d",
            "description_tooltip": null,
            "readout": true,
            "_model_module": "@jupyter-widgets/controls",
            "layout": "IPY_MODEL_11f4362549774c0594c39a08736134ba"
          }
        },
        "b59d719330be4eb8b44752d04823c1f8": {
          "model_module": "@jupyter-widgets/controls",
          "model_name": "IntSliderModel",
          "model_module_version": "1.5.0",
          "state": {
            "_view_name": "IntSliderView",
            "style": "IPY_MODEL_2d8ee5e900da4e319959bd258716077d",
            "_dom_classes": [],
            "description": "View 1 features",
            "step": 1,
            "_model_name": "IntSliderModel",
            "orientation": "horizontal",
            "max": 500,
            "_view_module": "@jupyter-widgets/controls",
            "_model_module_version": "1.5.0",
            "value": 60,
            "_view_count": null,
            "disabled": false,
            "_view_module_version": "1.5.0",
            "min": 10,
            "continuous_update": false,
            "readout_format": "d",
            "description_tooltip": null,
            "readout": true,
            "_model_module": "@jupyter-widgets/controls",
            "layout": "IPY_MODEL_9432142c75f6493d827a87dec0bcf1d1"
          }
        },
        "4aba134d30d4421bb6cdb6fbc1d5f393": {
          "model_module": "@jupyter-widgets/controls",
          "model_name": "IntSliderModel",
          "model_module_version": "1.5.0",
          "state": {
            "_view_name": "IntSliderView",
            "style": "IPY_MODEL_996dd8606ef94eddb8243f6857beab12",
            "_dom_classes": [],
            "description": "View 2 features",
            "step": 1,
            "_model_name": "IntSliderModel",
            "orientation": "horizontal",
            "max": 500,
            "_view_module": "@jupyter-widgets/controls",
            "_model_module_version": "1.5.0",
            "value": 60,
            "_view_count": null,
            "disabled": false,
            "_view_module_version": "1.5.0",
            "min": 10,
            "continuous_update": false,
            "readout_format": "d",
            "description_tooltip": null,
            "readout": true,
            "_model_module": "@jupyter-widgets/controls",
            "layout": "IPY_MODEL_992f77c5544c44c58115f07b53bf45e7"
          }
        },
        "f0852dcbef6e47b58cf6d64447c66e82": {
          "model_module": "@jupyter-widgets/controls",
          "model_name": "FloatSliderModel",
          "model_module_version": "1.5.0",
          "state": {
            "_view_name": "FloatSliderView",
            "style": "IPY_MODEL_41eb92b0f4934f4a9ab06b61725cf6b0",
            "_dom_classes": [],
            "description": "View 1 Sparsity",
            "step": 0.1,
            "_model_name": "FloatSliderModel",
            "orientation": "horizontal",
            "max": 1,
            "_view_module": "@jupyter-widgets/controls",
            "_model_module_version": "1.5.0",
            "value": 0.5,
            "_view_count": null,
            "disabled": false,
            "_view_module_version": "1.5.0",
            "min": 0,
            "continuous_update": false,
            "readout_format": ".2f",
            "description_tooltip": null,
            "readout": true,
            "_model_module": "@jupyter-widgets/controls",
            "layout": "IPY_MODEL_c900e24e64b74da1b670a841660f799d"
          }
        },
        "2fa5f6eae8c2481f9921e484c979f608": {
          "model_module": "@jupyter-widgets/controls",
          "model_name": "FloatSliderModel",
          "model_module_version": "1.5.0",
          "state": {
            "_view_name": "FloatSliderView",
            "style": "IPY_MODEL_2aa13220ecc442c99952678e769084cd",
            "_dom_classes": [],
            "description": "View 2 Sparsity",
            "step": 0.1,
            "_model_name": "FloatSliderModel",
            "orientation": "horizontal",
            "max": 1,
            "_view_module": "@jupyter-widgets/controls",
            "_model_module_version": "1.5.0",
            "value": 0.5,
            "_view_count": null,
            "disabled": false,
            "_view_module_version": "1.5.0",
            "min": 0,
            "continuous_update": false,
            "readout_format": ".2f",
            "description_tooltip": null,
            "readout": true,
            "_model_module": "@jupyter-widgets/controls",
            "layout": "IPY_MODEL_ca2e790b77c44fe198493eb521043787"
          }
        },
        "35011900c2c14778bc50c98ca6a29cad": {
          "model_module": "@jupyter-widgets/output",
          "model_name": "OutputModel",
          "model_module_version": "1.0.0",
          "state": {
            "_view_name": "OutputView",
            "msg_id": "",
            "_dom_classes": [],
            "_model_name": "OutputModel",
            "outputs": [
              {
                "output_type": "display_data",
                "data": {
                  "image/png": "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\n",
                  "text/plain": "<Figure size 720x360 with 1 Axes>"
                },
                "metadata": {}
              }
            ],
            "_view_module": "@jupyter-widgets/output",
            "_model_module_version": "1.0.0",
            "_view_count": null,
            "_view_module_version": "1.0.0",
            "layout": "IPY_MODEL_07b00f457f6e4e378ede32932c011526",
            "_model_module": "@jupyter-widgets/output"
          }
        },
        "c4c201259b4d4379bf889d732c796414": {
          "model_module": "@jupyter-widgets/controls",
          "model_name": "SliderStyleModel",
          "model_module_version": "1.5.0",
          "state": {
            "_view_name": "StyleView",
            "handle_color": null,
            "_model_name": "SliderStyleModel",
            "description_width": "initial",
            "_view_module": "@jupyter-widgets/base",
            "_model_module_version": "1.5.0",
            "_view_count": null,
            "_view_module_version": "1.2.0",
            "_model_module": "@jupyter-widgets/controls"
          }
        },
        "72910d7a8f18459db60ab7f1708bec46": {
          "model_module": "@jupyter-widgets/base",
          "model_name": "LayoutModel",
          "model_module_version": "1.2.0",
          "state": {
            "_view_name": "LayoutView",
            "grid_template_rows": null,
            "right": null,
            "justify_content": null,
            "_view_module": "@jupyter-widgets/base",
            "overflow": null,
            "_model_module_version": "1.2.0",
            "_view_count": null,
            "flex_flow": null,
            "width": null,
            "min_width": null,
            "border": null,
            "align_items": null,
            "bottom": null,
            "_model_module": "@jupyter-widgets/base",
            "top": null,
            "grid_column": null,
            "overflow_y": null,
            "overflow_x": null,
            "grid_auto_flow": null,
            "grid_area": null,
            "grid_template_columns": null,
            "flex": null,
            "_model_name": "LayoutModel",
            "justify_items": null,
            "grid_row": null,
            "max_height": null,
            "align_content": null,
            "visibility": null,
            "align_self": null,
            "height": null,
            "min_height": null,
            "padding": null,
            "grid_auto_rows": null,
            "grid_gap": null,
            "max_width": null,
            "order": null,
            "_view_module_version": "1.2.0",
            "grid_template_areas": null,
            "object_position": null,
            "object_fit": null,
            "grid_auto_columns": null,
            "margin": null,
            "display": null,
            "left": null
          }
        },
        "06b5a631e31d4ce4ad3b11d948ef1f08": {
          "model_module": "@jupyter-widgets/controls",
          "model_name": "SliderStyleModel",
          "model_module_version": "1.5.0",
          "state": {
            "_view_name": "StyleView",
            "handle_color": null,
            "_model_name": "SliderStyleModel",
            "description_width": "initial",
            "_view_module": "@jupyter-widgets/base",
            "_model_module_version": "1.5.0",
            "_view_count": null,
            "_view_module_version": "1.2.0",
            "_model_module": "@jupyter-widgets/controls"
          }
        },
        "11f4362549774c0594c39a08736134ba": {
          "model_module": "@jupyter-widgets/base",
          "model_name": "LayoutModel",
          "model_module_version": "1.2.0",
          "state": {
            "_view_name": "LayoutView",
            "grid_template_rows": null,
            "right": null,
            "justify_content": null,
            "_view_module": "@jupyter-widgets/base",
            "overflow": null,
            "_model_module_version": "1.2.0",
            "_view_count": null,
            "flex_flow": null,
            "width": null,
            "min_width": null,
            "border": null,
            "align_items": null,
            "bottom": null,
            "_model_module": "@jupyter-widgets/base",
            "top": null,
            "grid_column": null,
            "overflow_y": null,
            "overflow_x": null,
            "grid_auto_flow": null,
            "grid_area": null,
            "grid_template_columns": null,
            "flex": null,
            "_model_name": "LayoutModel",
            "justify_items": null,
            "grid_row": null,
            "max_height": null,
            "align_content": null,
            "visibility": null,
            "align_self": null,
            "height": null,
            "min_height": null,
            "padding": null,
            "grid_auto_rows": null,
            "grid_gap": null,
            "max_width": null,
            "order": null,
            "_view_module_version": "1.2.0",
            "grid_template_areas": null,
            "object_position": null,
            "object_fit": null,
            "grid_auto_columns": null,
            "margin": null,
            "display": null,
            "left": null
          }
        },
        "2d8ee5e900da4e319959bd258716077d": {
          "model_module": "@jupyter-widgets/controls",
          "model_name": "SliderStyleModel",
          "model_module_version": "1.5.0",
          "state": {
            "_view_name": "StyleView",
            "handle_color": null,
            "_model_name": "SliderStyleModel",
            "description_width": "initial",
            "_view_module": "@jupyter-widgets/base",
            "_model_module_version": "1.5.0",
            "_view_count": null,
            "_view_module_version": "1.2.0",
            "_model_module": "@jupyter-widgets/controls"
          }
        },
        "9432142c75f6493d827a87dec0bcf1d1": {
          "model_module": "@jupyter-widgets/base",
          "model_name": "LayoutModel",
          "model_module_version": "1.2.0",
          "state": {
            "_view_name": "LayoutView",
            "grid_template_rows": null,
            "right": null,
            "justify_content": null,
            "_view_module": "@jupyter-widgets/base",
            "overflow": null,
            "_model_module_version": "1.2.0",
            "_view_count": null,
            "flex_flow": null,
            "width": null,
            "min_width": null,
            "border": null,
            "align_items": null,
            "bottom": null,
            "_model_module": "@jupyter-widgets/base",
            "top": null,
            "grid_column": null,
            "overflow_y": null,
            "overflow_x": null,
            "grid_auto_flow": null,
            "grid_area": null,
            "grid_template_columns": null,
            "flex": null,
            "_model_name": "LayoutModel",
            "justify_items": null,
            "grid_row": null,
            "max_height": null,
            "align_content": null,
            "visibility": null,
            "align_self": null,
            "height": null,
            "min_height": null,
            "padding": null,
            "grid_auto_rows": null,
            "grid_gap": null,
            "max_width": null,
            "order": null,
            "_view_module_version": "1.2.0",
            "grid_template_areas": null,
            "object_position": null,
            "object_fit": null,
            "grid_auto_columns": null,
            "margin": null,
            "display": null,
            "left": null
          }
        },
        "996dd8606ef94eddb8243f6857beab12": {
          "model_module": "@jupyter-widgets/controls",
          "model_name": "SliderStyleModel",
          "model_module_version": "1.5.0",
          "state": {
            "_view_name": "StyleView",
            "handle_color": null,
            "_model_name": "SliderStyleModel",
            "description_width": "initial",
            "_view_module": "@jupyter-widgets/base",
            "_model_module_version": "1.5.0",
            "_view_count": null,
            "_view_module_version": "1.2.0",
            "_model_module": "@jupyter-widgets/controls"
          }
        },
        "992f77c5544c44c58115f07b53bf45e7": {
          "model_module": "@jupyter-widgets/base",
          "model_name": "LayoutModel",
          "model_module_version": "1.2.0",
          "state": {
            "_view_name": "LayoutView",
            "grid_template_rows": null,
            "right": null,
            "justify_content": null,
            "_view_module": "@jupyter-widgets/base",
            "overflow": null,
            "_model_module_version": "1.2.0",
            "_view_count": null,
            "flex_flow": null,
            "width": null,
            "min_width": null,
            "border": null,
            "align_items": null,
            "bottom": null,
            "_model_module": "@jupyter-widgets/base",
            "top": null,
            "grid_column": null,
            "overflow_y": null,
            "overflow_x": null,
            "grid_auto_flow": null,
            "grid_area": null,
            "grid_template_columns": null,
            "flex": null,
            "_model_name": "LayoutModel",
            "justify_items": null,
            "grid_row": null,
            "max_height": null,
            "align_content": null,
            "visibility": null,
            "align_self": null,
            "height": null,
            "min_height": null,
            "padding": null,
            "grid_auto_rows": null,
            "grid_gap": null,
            "max_width": null,
            "order": null,
            "_view_module_version": "1.2.0",
            "grid_template_areas": null,
            "object_position": null,
            "object_fit": null,
            "grid_auto_columns": null,
            "margin": null,
            "display": null,
            "left": null
          }
        },
        "41eb92b0f4934f4a9ab06b61725cf6b0": {
          "model_module": "@jupyter-widgets/controls",
          "model_name": "SliderStyleModel",
          "model_module_version": "1.5.0",
          "state": {
            "_view_name": "StyleView",
            "handle_color": null,
            "_model_name": "SliderStyleModel",
            "description_width": "initial",
            "_view_module": "@jupyter-widgets/base",
            "_model_module_version": "1.5.0",
            "_view_count": null,
            "_view_module_version": "1.2.0",
            "_model_module": "@jupyter-widgets/controls"
          }
        },
        "c900e24e64b74da1b670a841660f799d": {
          "model_module": "@jupyter-widgets/base",
          "model_name": "LayoutModel",
          "model_module_version": "1.2.0",
          "state": {
            "_view_name": "LayoutView",
            "grid_template_rows": null,
            "right": null,
            "justify_content": null,
            "_view_module": "@jupyter-widgets/base",
            "overflow": null,
            "_model_module_version": "1.2.0",
            "_view_count": null,
            "flex_flow": null,
            "width": null,
            "min_width": null,
            "border": null,
            "align_items": null,
            "bottom": null,
            "_model_module": "@jupyter-widgets/base",
            "top": null,
            "grid_column": null,
            "overflow_y": null,
            "overflow_x": null,
            "grid_auto_flow": null,
            "grid_area": null,
            "grid_template_columns": null,
            "flex": null,
            "_model_name": "LayoutModel",
            "justify_items": null,
            "grid_row": null,
            "max_height": null,
            "align_content": null,
            "visibility": null,
            "align_self": null,
            "height": null,
            "min_height": null,
            "padding": null,
            "grid_auto_rows": null,
            "grid_gap": null,
            "max_width": null,
            "order": null,
            "_view_module_version": "1.2.0",
            "grid_template_areas": null,
            "object_position": null,
            "object_fit": null,
            "grid_auto_columns": null,
            "margin": null,
            "display": null,
            "left": null
          }
        },
        "2aa13220ecc442c99952678e769084cd": {
          "model_module": "@jupyter-widgets/controls",
          "model_name": "SliderStyleModel",
          "model_module_version": "1.5.0",
          "state": {
            "_view_name": "StyleView",
            "handle_color": null,
            "_model_name": "SliderStyleModel",
            "description_width": "initial",
            "_view_module": "@jupyter-widgets/base",
            "_model_module_version": "1.5.0",
            "_view_count": null,
            "_view_module_version": "1.2.0",
            "_model_module": "@jupyter-widgets/controls"
          }
        },
        "ca2e790b77c44fe198493eb521043787": {
          "model_module": "@jupyter-widgets/base",
          "model_name": "LayoutModel",
          "model_module_version": "1.2.0",
          "state": {
            "_view_name": "LayoutView",
            "grid_template_rows": null,
            "right": null,
            "justify_content": null,
            "_view_module": "@jupyter-widgets/base",
            "overflow": null,
            "_model_module_version": "1.2.0",
            "_view_count": null,
            "flex_flow": null,
            "width": null,
            "min_width": null,
            "border": null,
            "align_items": null,
            "bottom": null,
            "_model_module": "@jupyter-widgets/base",
            "top": null,
            "grid_column": null,
            "overflow_y": null,
            "overflow_x": null,
            "grid_auto_flow": null,
            "grid_area": null,
            "grid_template_columns": null,
            "flex": null,
            "_model_name": "LayoutModel",
            "justify_items": null,
            "grid_row": null,
            "max_height": null,
            "align_content": null,
            "visibility": null,
            "align_self": null,
            "height": null,
            "min_height": null,
            "padding": null,
            "grid_auto_rows": null,
            "grid_gap": null,
            "max_width": null,
            "order": null,
            "_view_module_version": "1.2.0",
            "grid_template_areas": null,
            "object_position": null,
            "object_fit": null,
            "grid_auto_columns": null,
            "margin": null,
            "display": null,
            "left": null
          }
        },
        "07b00f457f6e4e378ede32932c011526": {
          "model_module": "@jupyter-widgets/base",
          "model_name": "LayoutModel",
          "model_module_version": "1.2.0",
          "state": {
            "_view_name": "LayoutView",
            "grid_template_rows": null,
            "right": null,
            "justify_content": null,
            "_view_module": "@jupyter-widgets/base",
            "overflow": null,
            "_model_module_version": "1.2.0",
            "_view_count": null,
            "flex_flow": null,
            "width": null,
            "min_width": null,
            "border": null,
            "align_items": null,
            "bottom": null,
            "_model_module": "@jupyter-widgets/base",
            "top": null,
            "grid_column": null,
            "overflow_y": null,
            "overflow_x": null,
            "grid_auto_flow": null,
            "grid_area": null,
            "grid_template_columns": null,
            "flex": null,
            "_model_name": "LayoutModel",
            "justify_items": null,
            "grid_row": null,
            "max_height": null,
            "align_content": null,
            "visibility": null,
            "align_self": null,
            "height": null,
            "min_height": null,
            "padding": null,
            "grid_auto_rows": null,
            "grid_gap": null,
            "max_width": null,
            "order": null,
            "_view_module_version": "1.2.0",
            "grid_template_areas": null,
            "object_position": null,
            "object_fit": null,
            "grid_auto_columns": null,
            "margin": null,
            "display": null,
            "left": null
          }
        },
        "f555b05d380243fe91b76250463dfdcd": {
          "model_module": "@jupyter-widgets/controls",
          "model_name": "VBoxModel",
          "model_module_version": "1.5.0",
          "state": {
            "_view_name": "VBoxView",
            "_dom_classes": [
              "widget-interact"
            ],
            "_model_name": "VBoxModel",
            "_view_module": "@jupyter-widgets/controls",
            "_model_module_version": "1.5.0",
            "_view_count": null,
            "_view_module_version": "1.5.0",
            "box_style": "",
            "layout": "IPY_MODEL_3ca4b047a20148898398843e8824ec76",
            "_model_module": "@jupyter-widgets/controls",
            "children": [
              "IPY_MODEL_8aa3c776f023423a92730a60be1036f1",
              "IPY_MODEL_67289f54b4e240e78bc2832d27e69f26"
            ]
          }
        },
        "3ca4b047a20148898398843e8824ec76": {
          "model_module": "@jupyter-widgets/base",
          "model_name": "LayoutModel",
          "model_module_version": "1.2.0",
          "state": {
            "_view_name": "LayoutView",
            "grid_template_rows": null,
            "right": null,
            "justify_content": null,
            "_view_module": "@jupyter-widgets/base",
            "overflow": null,
            "_model_module_version": "1.2.0",
            "_view_count": null,
            "flex_flow": null,
            "width": null,
            "min_width": null,
            "border": null,
            "align_items": null,
            "bottom": null,
            "_model_module": "@jupyter-widgets/base",
            "top": null,
            "grid_column": null,
            "overflow_y": null,
            "overflow_x": null,
            "grid_auto_flow": null,
            "grid_area": null,
            "grid_template_columns": null,
            "flex": null,
            "_model_name": "LayoutModel",
            "justify_items": null,
            "grid_row": null,
            "max_height": null,
            "align_content": null,
            "visibility": null,
            "align_self": null,
            "height": null,
            "min_height": null,
            "padding": null,
            "grid_auto_rows": null,
            "grid_gap": null,
            "max_width": null,
            "order": null,
            "_view_module_version": "1.2.0",
            "grid_template_areas": null,
            "object_position": null,
            "object_fit": null,
            "grid_auto_columns": null,
            "margin": null,
            "display": null,
            "left": null
          }
        },
        "8aa3c776f023423a92730a60be1036f1": {
          "model_module": "@jupyter-widgets/controls",
          "model_name": "ToggleButtonsModel",
          "model_module_version": "1.5.0",
          "state": {
            "_options_labels": [
              "CCA",
              "PLS"
            ],
            "_view_name": "ToggleButtonsView",
            "style": "IPY_MODEL_311ea0c41d534481abbc8de6dc3dea39",
            "_dom_classes": [],
            "description": "Model:",
            "_model_name": "ToggleButtonsModel",
            "tooltips": [],
            "index": 0,
            "button_style": "",
            "_view_module": "@jupyter-widgets/controls",
            "_model_module_version": "1.5.0",
            "_view_count": null,
            "disabled": false,
            "_view_module_version": "1.5.0",
            "icons": [],
            "description_tooltip": null,
            "_model_module": "@jupyter-widgets/controls",
            "layout": "IPY_MODEL_ff6afc728d934087b8d50571f91c267c"
          }
        },
        "67289f54b4e240e78bc2832d27e69f26": {
          "model_module": "@jupyter-widgets/output",
          "model_name": "OutputModel",
          "model_module_version": "1.0.0",
          "state": {
            "_view_name": "OutputView",
            "msg_id": "",
            "_dom_classes": [],
            "_model_name": "OutputModel",
            "outputs": [
              {
                "output_type": "error",
                "ename": "AttributeError",
                "evalue": "ignored",
                "traceback": [
                  "\u001b[0;31m---------------------------------------------------------------------------\u001b[0m",
                  "\u001b[0;31mAttributeError\u001b[0m                            Traceback (most recent call last)",
                  "\u001b[0;32m/usr/local/lib/python3.7/dist-packages/ipywidgets/widgets/interaction.py\u001b[0m in \u001b[0;36mupdate\u001b[0;34m(self, *args)\u001b[0m\n\u001b[1;32m    255\u001b[0m                     \u001b[0mvalue\u001b[0m \u001b[0;34m=\u001b[0m \u001b[0mwidget\u001b[0m\u001b[0;34m.\u001b[0m\u001b[0mget_interact_value\u001b[0m\u001b[0;34m(\u001b[0m\u001b[0;34m)\u001b[0m\u001b[0;34m\u001b[0m\u001b[0;34m\u001b[0m\u001b[0m\n\u001b[1;32m    256\u001b[0m                     \u001b[0mself\u001b[0m\u001b[0;34m.\u001b[0m\u001b[0mkwargs\u001b[0m\u001b[0;34m[\u001b[0m\u001b[0mwidget\u001b[0m\u001b[0;34m.\u001b[0m\u001b[0m_kwarg\u001b[0m\u001b[0;34m]\u001b[0m \u001b[0;34m=\u001b[0m \u001b[0mvalue\u001b[0m\u001b[0;34m\u001b[0m\u001b[0;34m\u001b[0m\u001b[0m\n\u001b[0;32m--> 257\u001b[0;31m                 \u001b[0mself\u001b[0m\u001b[0;34m.\u001b[0m\u001b[0mresult\u001b[0m \u001b[0;34m=\u001b[0m \u001b[0mself\u001b[0m\u001b[0;34m.\u001b[0m\u001b[0mf\u001b[0m\u001b[0;34m(\u001b[0m\u001b[0;34m**\u001b[0m\u001b[0mself\u001b[0m\u001b[0;34m.\u001b[0m\u001b[0mkwargs\u001b[0m\u001b[0;34m)\u001b[0m\u001b[0;34m\u001b[0m\u001b[0;34m\u001b[0m\u001b[0m\n\u001b[0m\u001b[1;32m    258\u001b[0m                 \u001b[0mshow_inline_matplotlib_plots\u001b[0m\u001b[0;34m(\u001b[0m\u001b[0;34m)\u001b[0m\u001b[0;34m\u001b[0m\u001b[0;34m\u001b[0m\u001b[0m\n\u001b[1;32m    259\u001b[0m                 \u001b[0;32mif\u001b[0m \u001b[0mself\u001b[0m\u001b[0;34m.\u001b[0m\u001b[0mauto_display\u001b[0m \u001b[0;32mand\u001b[0m \u001b[0mself\u001b[0m\u001b[0;34m.\u001b[0m\u001b[0mresult\u001b[0m \u001b[0;32mis\u001b[0m \u001b[0;32mnot\u001b[0m \u001b[0;32mNone\u001b[0m\u001b[0;34m:\u001b[0m\u001b[0;34m\u001b[0m\u001b[0;34m\u001b[0m\u001b[0m\n",
                  "\u001b[0;32m<ipython-input-5-722d65bf0e91>\u001b[0m in \u001b[0;36minteractive_cca\u001b[0;34m(tog)\u001b[0m\n\u001b[1;32m     13\u001b[0m     \u001b[0mrcca\u001b[0m\u001b[0;34m=\u001b[0m\u001b[0mrCCA\u001b[0m\u001b[0;34m(\u001b[0m\u001b[0mlatent_dims\u001b[0m\u001b[0;34m=\u001b[0m\u001b[0;36m1\u001b[0m\u001b[0;34m,\u001b[0m\u001b[0mc\u001b[0m\u001b[0;34m=\u001b[0m\u001b[0;36m1\u001b[0m\u001b[0;34m)\u001b[0m\u001b[0;34m.\u001b[0m\u001b[0mfit\u001b[0m\u001b[0;34m(\u001b[0m\u001b[0;34m[\u001b[0m\u001b[0mX_tr\u001b[0m\u001b[0;34m,\u001b[0m\u001b[0mY_tr\u001b[0m\u001b[0;34m]\u001b[0m\u001b[0;34m)\u001b[0m\u001b[0;34m\u001b[0m\u001b[0;34m\u001b[0m\u001b[0m\n\u001b[1;32m     14\u001b[0m   \u001b[0mtest_scores\u001b[0m\u001b[0;34m=\u001b[0m\u001b[0mrcca\u001b[0m\u001b[0;34m.\u001b[0m\u001b[0mtransform\u001b[0m\u001b[0;34m(\u001b[0m\u001b[0;34m[\u001b[0m\u001b[0mX_te\u001b[0m\u001b[0;34m,\u001b[0m\u001b[0mY_te\u001b[0m\u001b[0;34m]\u001b[0m\u001b[0;34m)\u001b[0m\u001b[0;34m\u001b[0m\u001b[0;34m\u001b[0m\u001b[0m\n\u001b[0;32m---> 15\u001b[0;31m   \u001b[0mplot_latent_train_test\u001b[0m\u001b[0;34m(\u001b[0m\u001b[0mrcca\u001b[0m\u001b[0;34m.\u001b[0m\u001b[0mscores\u001b[0m\u001b[0;34m,\u001b[0m\u001b[0mtest_scores\u001b[0m\u001b[0;34m)\u001b[0m\u001b[0;34m\u001b[0m\u001b[0;34m\u001b[0m\u001b[0m\n\u001b[0m\u001b[1;32m     16\u001b[0m \u001b[0;34m\u001b[0m\u001b[0m\n\u001b[1;32m     17\u001b[0m \u001b[0mplot_widget\u001b[0m\u001b[0;34m=\u001b[0m\u001b[0mwidgets\u001b[0m\u001b[0;34m.\u001b[0m\u001b[0minteractive\u001b[0m\u001b[0;34m(\u001b[0m\u001b[0minteractive_cca\u001b[0m\u001b[0;34m,\u001b[0m\u001b[0mtog\u001b[0m\u001b[0;34m=\u001b[0m\u001b[0mtog\u001b[0m\u001b[0;34m)\u001b[0m\u001b[0;34m\u001b[0m\u001b[0;34m\u001b[0m\u001b[0m\n",
                  "\u001b[0;31mAttributeError\u001b[0m: 'rCCA' object has no attribute 'scores'"
                ]
              }
            ],
            "_view_module": "@jupyter-widgets/output",
            "_model_module_version": "1.0.0",
            "_view_count": null,
            "_view_module_version": "1.0.0",
            "layout": "IPY_MODEL_984ae12c54df4bb0aa6f0f5877f6bbfe",
            "_model_module": "@jupyter-widgets/output"
          }
        },
        "311ea0c41d534481abbc8de6dc3dea39": {
          "model_module": "@jupyter-widgets/controls",
          "model_name": "ToggleButtonsStyleModel",
          "model_module_version": "1.5.0",
          "state": {
            "_view_name": "StyleView",
            "button_width": "",
            "_model_name": "ToggleButtonsStyleModel",
            "description_width": "",
            "_view_module": "@jupyter-widgets/base",
            "_model_module_version": "1.5.0",
            "_view_count": null,
            "font_weight": "",
            "_view_module_version": "1.2.0",
            "_model_module": "@jupyter-widgets/controls"
          }
        },
        "ff6afc728d934087b8d50571f91c267c": {
          "model_module": "@jupyter-widgets/base",
          "model_name": "LayoutModel",
          "model_module_version": "1.2.0",
          "state": {
            "_view_name": "LayoutView",
            "grid_template_rows": null,
            "right": null,
            "justify_content": null,
            "_view_module": "@jupyter-widgets/base",
            "overflow": null,
            "_model_module_version": "1.2.0",
            "_view_count": null,
            "flex_flow": null,
            "width": null,
            "min_width": null,
            "border": null,
            "align_items": null,
            "bottom": null,
            "_model_module": "@jupyter-widgets/base",
            "top": null,
            "grid_column": null,
            "overflow_y": null,
            "overflow_x": null,
            "grid_auto_flow": null,
            "grid_area": null,
            "grid_template_columns": null,
            "flex": null,
            "_model_name": "LayoutModel",
            "justify_items": null,
            "grid_row": null,
            "max_height": null,
            "align_content": null,
            "visibility": null,
            "align_self": null,
            "height": null,
            "min_height": null,
            "padding": null,
            "grid_auto_rows": null,
            "grid_gap": null,
            "max_width": null,
            "order": null,
            "_view_module_version": "1.2.0",
            "grid_template_areas": null,
            "object_position": null,
            "object_fit": null,
            "grid_auto_columns": null,
            "margin": null,
            "display": null,
            "left": null
          }
        },
        "984ae12c54df4bb0aa6f0f5877f6bbfe": {
          "model_module": "@jupyter-widgets/base",
          "model_name": "LayoutModel",
          "model_module_version": "1.2.0",
          "state": {
            "_view_name": "LayoutView",
            "grid_template_rows": null,
            "right": null,
            "justify_content": null,
            "_view_module": "@jupyter-widgets/base",
            "overflow": null,
            "_model_module_version": "1.2.0",
            "_view_count": null,
            "flex_flow": null,
            "width": null,
            "min_width": null,
            "border": null,
            "align_items": null,
            "bottom": null,
            "_model_module": "@jupyter-widgets/base",
            "top": null,
            "grid_column": null,
            "overflow_y": null,
            "overflow_x": null,
            "grid_auto_flow": null,
            "grid_area": null,
            "grid_template_columns": null,
            "flex": null,
            "_model_name": "LayoutModel",
            "justify_items": null,
            "grid_row": null,
            "max_height": null,
            "align_content": null,
            "visibility": null,
            "align_self": null,
            "height": null,
            "min_height": null,
            "padding": null,
            "grid_auto_rows": null,
            "grid_gap": null,
            "max_width": null,
            "order": null,
            "_view_module_version": "1.2.0",
            "grid_template_areas": null,
            "object_position": null,
            "object_fit": null,
            "grid_auto_columns": null,
            "margin": null,
            "display": null,
            "left": null
          }
        },
        "e94587f230824ba8897ac41915a21048": {
          "model_module": "@jupyter-widgets/controls",
          "model_name": "VBoxModel",
          "model_module_version": "1.5.0",
          "state": {
            "_view_name": "VBoxView",
            "_dom_classes": [
              "widget-interact"
            ],
            "_model_name": "VBoxModel",
            "_view_module": "@jupyter-widgets/controls",
            "_model_module_version": "1.5.0",
            "_view_count": null,
            "_view_module_version": "1.5.0",
            "box_style": "",
            "layout": "IPY_MODEL_df6ce3df3e2c400a89e920681c0dbfc0",
            "_model_module": "@jupyter-widgets/controls",
            "children": [
              "IPY_MODEL_d050946ccb67437b94c8a3987033fa2b",
              "IPY_MODEL_18edf41f48f3491a943e911893955630",
              "IPY_MODEL_7968f2dfb8fa4b1fa6ac96e2bab1220a"
            ]
          }
        },
        "df6ce3df3e2c400a89e920681c0dbfc0": {
          "model_module": "@jupyter-widgets/base",
          "model_name": "LayoutModel",
          "model_module_version": "1.2.0",
          "state": {
            "_view_name": "LayoutView",
            "grid_template_rows": null,
            "right": null,
            "justify_content": null,
            "_view_module": "@jupyter-widgets/base",
            "overflow": null,
            "_model_module_version": "1.2.0",
            "_view_count": null,
            "flex_flow": null,
            "width": null,
            "min_width": null,
            "border": null,
            "align_items": null,
            "bottom": null,
            "_model_module": "@jupyter-widgets/base",
            "top": null,
            "grid_column": null,
            "overflow_y": null,
            "overflow_x": null,
            "grid_auto_flow": null,
            "grid_area": null,
            "grid_template_columns": null,
            "flex": null,
            "_model_name": "LayoutModel",
            "justify_items": null,
            "grid_row": null,
            "max_height": null,
            "align_content": null,
            "visibility": null,
            "align_self": null,
            "height": null,
            "min_height": null,
            "padding": null,
            "grid_auto_rows": null,
            "grid_gap": null,
            "max_width": null,
            "order": null,
            "_view_module_version": "1.2.0",
            "grid_template_areas": null,
            "object_position": null,
            "object_fit": null,
            "grid_auto_columns": null,
            "margin": null,
            "display": null,
            "left": null
          }
        },
        "d050946ccb67437b94c8a3987033fa2b": {
          "model_module": "@jupyter-widgets/controls",
          "model_name": "FloatLogSliderModel",
          "model_module_version": "1.5.0",
          "state": {
            "_view_name": "FloatLogSliderView",
            "orientation": "horizontal",
            "_view_module": "@jupyter-widgets/controls",
            "_model_module_version": "1.5.0",
            "_view_count": null,
            "disabled": false,
            "readout_format": ".9f",
            "_model_module": "@jupyter-widgets/controls",
            "style": "IPY_MODEL_f34a18a3e6b1419fb866f1c7f243998b",
            "layout": "IPY_MODEL_15197f2459a341f8bb0b67ac1c1f1455",
            "min": -10,
            "continuous_update": false,
            "description_tooltip": null,
            "_dom_classes": [],
            "description": "cx",
            "_model_name": "FloatLogSliderModel",
            "max": 0,
            "readout": true,
            "step": 0.1,
            "base": 10,
            "value": 1e-10,
            "_view_module_version": "1.5.0"
          }
        },
        "18edf41f48f3491a943e911893955630": {
          "model_module": "@jupyter-widgets/controls",
          "model_name": "FloatLogSliderModel",
          "model_module_version": "1.5.0",
          "state": {
            "_view_name": "FloatLogSliderView",
            "orientation": "horizontal",
            "_view_module": "@jupyter-widgets/controls",
            "_model_module_version": "1.5.0",
            "_view_count": null,
            "disabled": false,
            "readout_format": ".9f",
            "_model_module": "@jupyter-widgets/controls",
            "style": "IPY_MODEL_2146004fb1f942de92dda5f8242f0fd9",
            "layout": "IPY_MODEL_cfcdddb4dd7341ddb190c3f26539539a",
            "min": -10,
            "continuous_update": false,
            "description_tooltip": null,
            "_dom_classes": [],
            "description": "cy",
            "_model_name": "FloatLogSliderModel",
            "max": 0,
            "readout": true,
            "step": 0.1,
            "base": 10,
            "value": 1e-10,
            "_view_module_version": "1.5.0"
          }
        },
        "7968f2dfb8fa4b1fa6ac96e2bab1220a": {
          "model_module": "@jupyter-widgets/output",
          "model_name": "OutputModel",
          "model_module_version": "1.0.0",
          "state": {
            "_view_name": "OutputView",
            "msg_id": "",
            "_dom_classes": [],
            "_model_name": "OutputModel",
            "outputs": [
              {
                "output_type": "error",
                "ename": "ValueError",
                "evalue": "ignored",
                "traceback": [
                  "\u001b[0;31m---------------------------------------------------------------------------\u001b[0m",
                  "\u001b[0;31mValueError\u001b[0m                                Traceback (most recent call last)",
                  "\u001b[0;32m/usr/local/lib/python3.7/dist-packages/ipywidgets/widgets/interaction.py\u001b[0m in \u001b[0;36mupdate\u001b[0;34m(self, *args)\u001b[0m\n\u001b[1;32m    255\u001b[0m                     \u001b[0mvalue\u001b[0m \u001b[0;34m=\u001b[0m \u001b[0mwidget\u001b[0m\u001b[0;34m.\u001b[0m\u001b[0mget_interact_value\u001b[0m\u001b[0;34m(\u001b[0m\u001b[0;34m)\u001b[0m\u001b[0;34m\u001b[0m\u001b[0;34m\u001b[0m\u001b[0m\n\u001b[1;32m    256\u001b[0m                     \u001b[0mself\u001b[0m\u001b[0;34m.\u001b[0m\u001b[0mkwargs\u001b[0m\u001b[0;34m[\u001b[0m\u001b[0mwidget\u001b[0m\u001b[0;34m.\u001b[0m\u001b[0m_kwarg\u001b[0m\u001b[0;34m]\u001b[0m \u001b[0;34m=\u001b[0m \u001b[0mvalue\u001b[0m\u001b[0;34m\u001b[0m\u001b[0;34m\u001b[0m\u001b[0m\n\u001b[0;32m--> 257\u001b[0;31m                 \u001b[0mself\u001b[0m\u001b[0;34m.\u001b[0m\u001b[0mresult\u001b[0m \u001b[0;34m=\u001b[0m \u001b[0mself\u001b[0m\u001b[0;34m.\u001b[0m\u001b[0mf\u001b[0m\u001b[0;34m(\u001b[0m\u001b[0;34m**\u001b[0m\u001b[0mself\u001b[0m\u001b[0;34m.\u001b[0m\u001b[0mkwargs\u001b[0m\u001b[0;34m)\u001b[0m\u001b[0;34m\u001b[0m\u001b[0;34m\u001b[0m\u001b[0m\n\u001b[0m\u001b[1;32m    258\u001b[0m                 \u001b[0mshow_inline_matplotlib_plots\u001b[0m\u001b[0;34m(\u001b[0m\u001b[0;34m)\u001b[0m\u001b[0;34m\u001b[0m\u001b[0;34m\u001b[0m\u001b[0m\n\u001b[1;32m    259\u001b[0m                 \u001b[0;32mif\u001b[0m \u001b[0mself\u001b[0m\u001b[0;34m.\u001b[0m\u001b[0mauto_display\u001b[0m \u001b[0;32mand\u001b[0m \u001b[0mself\u001b[0m\u001b[0;34m.\u001b[0m\u001b[0mresult\u001b[0m \u001b[0;32mis\u001b[0m \u001b[0;32mnot\u001b[0m \u001b[0;32mNone\u001b[0m\u001b[0;34m:\u001b[0m\u001b[0;34m\u001b[0m\u001b[0;34m\u001b[0m\u001b[0m\n",
                  "\u001b[0;32m<ipython-input-6-08e8d8470e56>\u001b[0m in \u001b[0;36minteractive_cca\u001b[0;34m(cx, cy)\u001b[0m\n\u001b[1;32m      6\u001b[0m \u001b[0;32mdef\u001b[0m \u001b[0minteractive_cca\u001b[0m\u001b[0;34m(\u001b[0m\u001b[0mcx\u001b[0m\u001b[0;34m,\u001b[0m\u001b[0mcy\u001b[0m\u001b[0;34m)\u001b[0m\u001b[0;34m:\u001b[0m\u001b[0;34m\u001b[0m\u001b[0;34m\u001b[0m\u001b[0m\n\u001b[1;32m      7\u001b[0m     \u001b[0mrcca\u001b[0m\u001b[0;34m=\u001b[0m\u001b[0mrCCA\u001b[0m\u001b[0;34m(\u001b[0m\u001b[0mlatent_dims\u001b[0m\u001b[0;34m=\u001b[0m\u001b[0;36m1\u001b[0m\u001b[0;34m,\u001b[0m\u001b[0mc\u001b[0m\u001b[0;34m=\u001b[0m\u001b[0;34m[\u001b[0m\u001b[0mcx\u001b[0m\u001b[0;34m,\u001b[0m\u001b[0mcy\u001b[0m\u001b[0;34m]\u001b[0m\u001b[0;34m)\u001b[0m\u001b[0;34m.\u001b[0m\u001b[0mfit\u001b[0m\u001b[0;34m(\u001b[0m\u001b[0;34m[\u001b[0m\u001b[0mX_tr\u001b[0m\u001b[0;34m,\u001b[0m\u001b[0mY_tr\u001b[0m\u001b[0;34m]\u001b[0m\u001b[0;34m)\u001b[0m\u001b[0;34m\u001b[0m\u001b[0;34m\u001b[0m\u001b[0m\n\u001b[0;32m----> 8\u001b[0;31m     \u001b[0mtest_scores\u001b[0m\u001b[0;34m=\u001b[0m\u001b[0mrcca\u001b[0m\u001b[0;34m.\u001b[0m\u001b[0mtransform\u001b[0m\u001b[0;34m(\u001b[0m\u001b[0mX_te\u001b[0m\u001b[0;34m,\u001b[0m\u001b[0mY_te\u001b[0m\u001b[0;34m)\u001b[0m\u001b[0;34m\u001b[0m\u001b[0;34m\u001b[0m\u001b[0m\n\u001b[0m\u001b[1;32m      9\u001b[0m     \u001b[0mplot_latent_train_test\u001b[0m\u001b[0;34m(\u001b[0m\u001b[0mrcca\u001b[0m\u001b[0;34m.\u001b[0m\u001b[0mscores\u001b[0m\u001b[0;34m,\u001b[0m\u001b[0mtest_scores\u001b[0m\u001b[0;34m)\u001b[0m\u001b[0;34m\u001b[0m\u001b[0;34m\u001b[0m\u001b[0m\n\u001b[1;32m     10\u001b[0m     \u001b[0mplot_train_test_corrs\u001b[0m\u001b[0;34m(\u001b[0m\u001b[0mrcca\u001b[0m\u001b[0;34m.\u001b[0m\u001b[0mscores\u001b[0m\u001b[0;34m,\u001b[0m\u001b[0mtest_scores\u001b[0m\u001b[0;34m)\u001b[0m\u001b[0;34m\u001b[0m\u001b[0;34m\u001b[0m\u001b[0m\n",
                  "\u001b[0;32m/usr/local/lib/python3.7/dist-packages/cca_zoo/models/cca_base.py\u001b[0m in \u001b[0;36mtransform\u001b[0;34m(self, views, y, **kwargs)\u001b[0m\n\u001b[1;32m     63\u001b[0m         \u001b[0mcheck_is_fitted\u001b[0m\u001b[0;34m(\u001b[0m\u001b[0mself\u001b[0m\u001b[0;34m,\u001b[0m \u001b[0mattributes\u001b[0m\u001b[0;34m=\u001b[0m\u001b[0;34m[\u001b[0m\u001b[0;34m\"weights\"\u001b[0m\u001b[0;34m]\u001b[0m\u001b[0;34m)\u001b[0m\u001b[0;34m\u001b[0m\u001b[0;34m\u001b[0m\u001b[0m\n\u001b[1;32m     64\u001b[0m         views = check_views(\n\u001b[0;32m---> 65\u001b[0;31m             \u001b[0;34m*\u001b[0m\u001b[0mviews\u001b[0m\u001b[0;34m,\u001b[0m \u001b[0mcopy\u001b[0m\u001b[0;34m=\u001b[0m\u001b[0mself\u001b[0m\u001b[0;34m.\u001b[0m\u001b[0mcopy_data\u001b[0m\u001b[0;34m,\u001b[0m \u001b[0maccept_sparse\u001b[0m\u001b[0;34m=\u001b[0m\u001b[0mself\u001b[0m\u001b[0;34m.\u001b[0m\u001b[0maccept_sparse\u001b[0m\u001b[0;34m\u001b[0m\u001b[0;34m\u001b[0m\u001b[0m\n\u001b[0m\u001b[1;32m     66\u001b[0m         )\n\u001b[1;32m     67\u001b[0m         \u001b[0mviews\u001b[0m \u001b[0;34m=\u001b[0m \u001b[0mself\u001b[0m\u001b[0;34m.\u001b[0m\u001b[0m_centre_scale_transform\u001b[0m\u001b[0;34m(\u001b[0m\u001b[0mviews\u001b[0m\u001b[0;34m)\u001b[0m\u001b[0;34m\u001b[0m\u001b[0;34m\u001b[0m\u001b[0m\n",
                  "\u001b[0;32m/usr/local/lib/python3.7/dist-packages/cca_zoo/utils/check_values.py\u001b[0m in \u001b[0;36mcheck_views\u001b[0;34m(copy, accept_sparse, *views)\u001b[0m\n\u001b[1;32m     24\u001b[0m     views = [\n\u001b[1;32m     25\u001b[0m         \u001b[0mcheck_array\u001b[0m\u001b[0;34m(\u001b[0m\u001b[0mview\u001b[0m\u001b[0;34m,\u001b[0m \u001b[0mallow_nd\u001b[0m\u001b[0;34m=\u001b[0m\u001b[0;32mFalse\u001b[0m\u001b[0;34m,\u001b[0m \u001b[0mcopy\u001b[0m\u001b[0;34m=\u001b[0m\u001b[0mcopy\u001b[0m\u001b[0;34m,\u001b[0m \u001b[0maccept_sparse\u001b[0m\u001b[0;34m=\u001b[0m\u001b[0maccept_sparse\u001b[0m\u001b[0;34m)\u001b[0m\u001b[0;34m\u001b[0m\u001b[0;34m\u001b[0m\u001b[0m\n\u001b[0;32m---> 26\u001b[0;31m         \u001b[0;32mfor\u001b[0m \u001b[0mview\u001b[0m \u001b[0;32min\u001b[0m \u001b[0mviews\u001b[0m\u001b[0;34m\u001b[0m\u001b[0;34m\u001b[0m\u001b[0m\n\u001b[0m\u001b[1;32m     27\u001b[0m     ]\n\u001b[1;32m     28\u001b[0m \u001b[0;34m\u001b[0m\u001b[0m\n",
                  "\u001b[0;32m/usr/local/lib/python3.7/dist-packages/cca_zoo/utils/check_values.py\u001b[0m in \u001b[0;36m<listcomp>\u001b[0;34m(.0)\u001b[0m\n\u001b[1;32m     24\u001b[0m     views = [\n\u001b[1;32m     25\u001b[0m         \u001b[0mcheck_array\u001b[0m\u001b[0;34m(\u001b[0m\u001b[0mview\u001b[0m\u001b[0;34m,\u001b[0m \u001b[0mallow_nd\u001b[0m\u001b[0;34m=\u001b[0m\u001b[0;32mFalse\u001b[0m\u001b[0;34m,\u001b[0m \u001b[0mcopy\u001b[0m\u001b[0;34m=\u001b[0m\u001b[0mcopy\u001b[0m\u001b[0;34m,\u001b[0m \u001b[0maccept_sparse\u001b[0m\u001b[0;34m=\u001b[0m\u001b[0maccept_sparse\u001b[0m\u001b[0;34m)\u001b[0m\u001b[0;34m\u001b[0m\u001b[0;34m\u001b[0m\u001b[0m\n\u001b[0;32m---> 26\u001b[0;31m         \u001b[0;32mfor\u001b[0m \u001b[0mview\u001b[0m \u001b[0;32min\u001b[0m \u001b[0mviews\u001b[0m\u001b[0;34m\u001b[0m\u001b[0;34m\u001b[0m\u001b[0m\n\u001b[0m\u001b[1;32m     27\u001b[0m     ]\n\u001b[1;32m     28\u001b[0m \u001b[0;34m\u001b[0m\u001b[0m\n",
                  "\u001b[0;32m/usr/local/lib/python3.7/dist-packages/sklearn/utils/validation.py\u001b[0m in \u001b[0;36mcheck_array\u001b[0;34m(array, accept_sparse, accept_large_sparse, dtype, order, copy, force_all_finite, ensure_2d, allow_nd, ensure_min_samples, ensure_min_features, warn_on_dtype, estimator)\u001b[0m\n\u001b[1;32m    554\u001b[0m                     \u001b[0;34m\"Reshape your data either using array.reshape(-1, 1) if \"\u001b[0m\u001b[0;34m\u001b[0m\u001b[0;34m\u001b[0m\u001b[0m\n\u001b[1;32m    555\u001b[0m                     \u001b[0;34m\"your data has a single feature or array.reshape(1, -1) \"\u001b[0m\u001b[0;34m\u001b[0m\u001b[0;34m\u001b[0m\u001b[0m\n\u001b[0;32m--> 556\u001b[0;31m                     \"if it contains a single sample.\".format(array))\n\u001b[0m\u001b[1;32m    557\u001b[0m \u001b[0;34m\u001b[0m\u001b[0m\n\u001b[1;32m    558\u001b[0m         \u001b[0;31m# in the future np.flexible dtypes will be handled like object dtypes\u001b[0m\u001b[0;34m\u001b[0m\u001b[0;34m\u001b[0m\u001b[0;34m\u001b[0m\u001b[0m\n",
                  "\u001b[0;31mValueError\u001b[0m: Expected 2D array, got 1D array instead:\narray=[ 0.24873507 -1.10304645 -0.78789571 -0.2254131  -1.31878264 -0.4543386\n -1.07305892  1.42619916 -0.40343571 -0.94682405  0.67444959 -0.62848586\n -1.1024857   0.88752992 -0.32314154  0.8410213  -0.01505387  0.12919879\n  0.56317879 -0.63482736 -0.81021457  1.20183681  0.57891931 -0.06749798\n  0.79570091  0.54015971  0.94330287 -1.14283454 -0.06417904  1.129803\n  1.67722708 -0.53593825  0.15916538  0.01933582 -1.24418122 -0.28755981\n -1.57869268 -0.16732161 -1.03801888  0.16991478 -0.30989722 -0.32581508\n  1.55342149  0.07080917  1.87822239  0.44637153  0.81555286 -0.86952237\n -0.69367864  0.01726388  1.21307524 -0.36295402 -1.43145229  0.39799036\n  0.06397831 -0.55101008 -0.37306379 -0.87107367  0.92390675  0.0233241 ].\nReshape your data either using array.reshape(-1, 1) if your data has a single feature or array.reshape(1, -1) if it contains a single sample."
                ]
              }
            ],
            "_view_module": "@jupyter-widgets/output",
            "_model_module_version": "1.0.0",
            "_view_count": null,
            "_view_module_version": "1.0.0",
            "layout": "IPY_MODEL_98dfd432f64a4cebb3292dc59598ca9f",
            "_model_module": "@jupyter-widgets/output"
          }
        },
        "f34a18a3e6b1419fb866f1c7f243998b": {
          "model_module": "@jupyter-widgets/controls",
          "model_name": "SliderStyleModel",
          "model_module_version": "1.5.0",
          "state": {
            "_view_name": "StyleView",
            "handle_color": null,
            "_model_name": "SliderStyleModel",
            "description_width": "initial",
            "_view_module": "@jupyter-widgets/base",
            "_model_module_version": "1.5.0",
            "_view_count": null,
            "_view_module_version": "1.2.0",
            "_model_module": "@jupyter-widgets/controls"
          }
        },
        "15197f2459a341f8bb0b67ac1c1f1455": {
          "model_module": "@jupyter-widgets/base",
          "model_name": "LayoutModel",
          "model_module_version": "1.2.0",
          "state": {
            "_view_name": "LayoutView",
            "grid_template_rows": null,
            "right": null,
            "justify_content": null,
            "_view_module": "@jupyter-widgets/base",
            "overflow": null,
            "_model_module_version": "1.2.0",
            "_view_count": null,
            "flex_flow": null,
            "width": null,
            "min_width": null,
            "border": null,
            "align_items": null,
            "bottom": null,
            "_model_module": "@jupyter-widgets/base",
            "top": null,
            "grid_column": null,
            "overflow_y": null,
            "overflow_x": null,
            "grid_auto_flow": null,
            "grid_area": null,
            "grid_template_columns": null,
            "flex": null,
            "_model_name": "LayoutModel",
            "justify_items": null,
            "grid_row": null,
            "max_height": null,
            "align_content": null,
            "visibility": null,
            "align_self": null,
            "height": null,
            "min_height": null,
            "padding": null,
            "grid_auto_rows": null,
            "grid_gap": null,
            "max_width": null,
            "order": null,
            "_view_module_version": "1.2.0",
            "grid_template_areas": null,
            "object_position": null,
            "object_fit": null,
            "grid_auto_columns": null,
            "margin": null,
            "display": null,
            "left": null
          }
        },
        "2146004fb1f942de92dda5f8242f0fd9": {
          "model_module": "@jupyter-widgets/controls",
          "model_name": "SliderStyleModel",
          "model_module_version": "1.5.0",
          "state": {
            "_view_name": "StyleView",
            "handle_color": null,
            "_model_name": "SliderStyleModel",
            "description_width": "initial",
            "_view_module": "@jupyter-widgets/base",
            "_model_module_version": "1.5.0",
            "_view_count": null,
            "_view_module_version": "1.2.0",
            "_model_module": "@jupyter-widgets/controls"
          }
        },
        "cfcdddb4dd7341ddb190c3f26539539a": {
          "model_module": "@jupyter-widgets/base",
          "model_name": "LayoutModel",
          "model_module_version": "1.2.0",
          "state": {
            "_view_name": "LayoutView",
            "grid_template_rows": null,
            "right": null,
            "justify_content": null,
            "_view_module": "@jupyter-widgets/base",
            "overflow": null,
            "_model_module_version": "1.2.0",
            "_view_count": null,
            "flex_flow": null,
            "width": null,
            "min_width": null,
            "border": null,
            "align_items": null,
            "bottom": null,
            "_model_module": "@jupyter-widgets/base",
            "top": null,
            "grid_column": null,
            "overflow_y": null,
            "overflow_x": null,
            "grid_auto_flow": null,
            "grid_area": null,
            "grid_template_columns": null,
            "flex": null,
            "_model_name": "LayoutModel",
            "justify_items": null,
            "grid_row": null,
            "max_height": null,
            "align_content": null,
            "visibility": null,
            "align_self": null,
            "height": null,
            "min_height": null,
            "padding": null,
            "grid_auto_rows": null,
            "grid_gap": null,
            "max_width": null,
            "order": null,
            "_view_module_version": "1.2.0",
            "grid_template_areas": null,
            "object_position": null,
            "object_fit": null,
            "grid_auto_columns": null,
            "margin": null,
            "display": null,
            "left": null
          }
        },
        "98dfd432f64a4cebb3292dc59598ca9f": {
          "model_module": "@jupyter-widgets/base",
          "model_name": "LayoutModel",
          "model_module_version": "1.2.0",
          "state": {
            "_view_name": "LayoutView",
            "grid_template_rows": null,
            "right": null,
            "justify_content": null,
            "_view_module": "@jupyter-widgets/base",
            "overflow": null,
            "_model_module_version": "1.2.0",
            "_view_count": null,
            "flex_flow": null,
            "width": null,
            "min_width": null,
            "border": null,
            "align_items": null,
            "bottom": null,
            "_model_module": "@jupyter-widgets/base",
            "top": null,
            "grid_column": null,
            "overflow_y": null,
            "overflow_x": null,
            "grid_auto_flow": null,
            "grid_area": null,
            "grid_template_columns": null,
            "flex": null,
            "_model_name": "LayoutModel",
            "justify_items": null,
            "grid_row": null,
            "max_height": null,
            "align_content": null,
            "visibility": null,
            "align_self": null,
            "height": null,
            "min_height": null,
            "padding": null,
            "grid_auto_rows": null,
            "grid_gap": null,
            "max_width": null,
            "order": null,
            "_view_module_version": "1.2.0",
            "grid_template_areas": null,
            "object_position": null,
            "object_fit": null,
            "grid_auto_columns": null,
            "margin": null,
            "display": null,
            "left": null
          }
        },
        "096ce8d7c2ee4f0f888c290327b57bd3": {
          "model_module": "@jupyter-widgets/controls",
          "model_name": "VBoxModel",
          "model_module_version": "1.5.0",
          "state": {
            "_view_name": "VBoxView",
            "_dom_classes": [
              "widget-interact"
            ],
            "_model_name": "VBoxModel",
            "_view_module": "@jupyter-widgets/controls",
            "_model_module_version": "1.5.0",
            "_view_count": null,
            "_view_module_version": "1.5.0",
            "box_style": "",
            "layout": "IPY_MODEL_b475903829064da9bc34a37267e1e1f5",
            "_model_module": "@jupyter-widgets/controls",
            "children": [
              "IPY_MODEL_85d9ceea0892446baf3bb463f9607abb",
              "IPY_MODEL_b4a0324afe744dea8a41cbde1b11b3e2",
              "IPY_MODEL_fe815325fcda4e4789ac9cea38796bf1"
            ]
          }
        },
        "b475903829064da9bc34a37267e1e1f5": {
          "model_module": "@jupyter-widgets/base",
          "model_name": "LayoutModel",
          "model_module_version": "1.2.0",
          "state": {
            "_view_name": "LayoutView",
            "grid_template_rows": null,
            "right": null,
            "justify_content": null,
            "_view_module": "@jupyter-widgets/base",
            "overflow": null,
            "_model_module_version": "1.2.0",
            "_view_count": null,
            "flex_flow": null,
            "width": null,
            "min_width": null,
            "border": null,
            "align_items": null,
            "bottom": null,
            "_model_module": "@jupyter-widgets/base",
            "top": null,
            "grid_column": null,
            "overflow_y": null,
            "overflow_x": null,
            "grid_auto_flow": null,
            "grid_area": null,
            "grid_template_columns": null,
            "flex": null,
            "_model_name": "LayoutModel",
            "justify_items": null,
            "grid_row": null,
            "max_height": null,
            "align_content": null,
            "visibility": null,
            "align_self": null,
            "height": null,
            "min_height": null,
            "padding": null,
            "grid_auto_rows": null,
            "grid_gap": null,
            "max_width": null,
            "order": null,
            "_view_module_version": "1.2.0",
            "grid_template_areas": null,
            "object_position": null,
            "object_fit": null,
            "grid_auto_columns": null,
            "margin": null,
            "display": null,
            "left": null
          }
        },
        "85d9ceea0892446baf3bb463f9607abb": {
          "model_module": "@jupyter-widgets/controls",
          "model_name": "FloatSliderModel",
          "model_module_version": "1.5.0",
          "state": {
            "_view_name": "FloatSliderView",
            "style": "IPY_MODEL_a46dd0e92ef742ada24bec0968121244",
            "_dom_classes": [],
            "description": "c1",
            "step": 0.1,
            "_model_name": "FloatSliderModel",
            "orientation": "horizontal",
            "max": 7.745966692414834,
            "_view_module": "@jupyter-widgets/controls",
            "_model_module_version": "1.5.0",
            "value": 3,
            "_view_count": null,
            "disabled": false,
            "_view_module_version": "1.5.0",
            "min": 1,
            "continuous_update": false,
            "readout_format": ".5f",
            "description_tooltip": null,
            "readout": true,
            "_model_module": "@jupyter-widgets/controls",
            "layout": "IPY_MODEL_df08fd8fd2614962af8372fe2ffc4417"
          }
        },
        "b4a0324afe744dea8a41cbde1b11b3e2": {
          "model_module": "@jupyter-widgets/controls",
          "model_name": "FloatSliderModel",
          "model_module_version": "1.5.0",
          "state": {
            "_view_name": "FloatSliderView",
            "style": "IPY_MODEL_e2fb473ef1944c27a915473d08b1528b",
            "_dom_classes": [],
            "description": "c2",
            "step": 0.1,
            "_model_name": "FloatSliderModel",
            "orientation": "horizontal",
            "max": 7.745966692414834,
            "_view_module": "@jupyter-widgets/controls",
            "_model_module_version": "1.5.0",
            "value": 3,
            "_view_count": null,
            "disabled": false,
            "_view_module_version": "1.5.0",
            "min": 1,
            "continuous_update": false,
            "readout_format": ".5f",
            "description_tooltip": null,
            "readout": true,
            "_model_module": "@jupyter-widgets/controls",
            "layout": "IPY_MODEL_393bc870d9394cf69188fa001781af64"
          }
        },
        "fe815325fcda4e4789ac9cea38796bf1": {
          "model_module": "@jupyter-widgets/output",
          "model_name": "OutputModel",
          "model_module_version": "1.0.0",
          "state": {
            "_view_name": "OutputView",
            "msg_id": "",
            "_dom_classes": [],
            "_model_name": "OutputModel",
            "outputs": [
              {
                "output_type": "display_data",
                "data": {
                  "image/png": "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\n",
                  "text/plain": "<Figure size 720x360 with 1 Axes>"
                },
                "metadata": {}
              },
              {
                "output_type": "display_data",
                "data": {
                  "image/png": "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\n",
                  "text/plain": "<Figure size 432x288 with 1 Axes>"
                },
                "metadata": {}
              },
              {
                "output_type": "display_data",
                "data": {
                  "image/png": "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\n",
                  "text/plain": "<Figure size 432x288 with 4 Axes>"
                },
                "metadata": {}
              }
            ],
            "_view_module": "@jupyter-widgets/output",
            "_model_module_version": "1.0.0",
            "_view_count": null,
            "_view_module_version": "1.0.0",
            "layout": "IPY_MODEL_3fd470a3f2b2471e817033faf7f104c1",
            "_model_module": "@jupyter-widgets/output"
          }
        },
        "a46dd0e92ef742ada24bec0968121244": {
          "model_module": "@jupyter-widgets/controls",
          "model_name": "SliderStyleModel",
          "model_module_version": "1.5.0",
          "state": {
            "_view_name": "StyleView",
            "handle_color": null,
            "_model_name": "SliderStyleModel",
            "description_width": "initial",
            "_view_module": "@jupyter-widgets/base",
            "_model_module_version": "1.5.0",
            "_view_count": null,
            "_view_module_version": "1.2.0",
            "_model_module": "@jupyter-widgets/controls"
          }
        },
        "df08fd8fd2614962af8372fe2ffc4417": {
          "model_module": "@jupyter-widgets/base",
          "model_name": "LayoutModel",
          "model_module_version": "1.2.0",
          "state": {
            "_view_name": "LayoutView",
            "grid_template_rows": null,
            "right": null,
            "justify_content": null,
            "_view_module": "@jupyter-widgets/base",
            "overflow": null,
            "_model_module_version": "1.2.0",
            "_view_count": null,
            "flex_flow": null,
            "width": null,
            "min_width": null,
            "border": null,
            "align_items": null,
            "bottom": null,
            "_model_module": "@jupyter-widgets/base",
            "top": null,
            "grid_column": null,
            "overflow_y": null,
            "overflow_x": null,
            "grid_auto_flow": null,
            "grid_area": null,
            "grid_template_columns": null,
            "flex": null,
            "_model_name": "LayoutModel",
            "justify_items": null,
            "grid_row": null,
            "max_height": null,
            "align_content": null,
            "visibility": null,
            "align_self": null,
            "height": null,
            "min_height": null,
            "padding": null,
            "grid_auto_rows": null,
            "grid_gap": null,
            "max_width": null,
            "order": null,
            "_view_module_version": "1.2.0",
            "grid_template_areas": null,
            "object_position": null,
            "object_fit": null,
            "grid_auto_columns": null,
            "margin": null,
            "display": null,
            "left": null
          }
        },
        "e2fb473ef1944c27a915473d08b1528b": {
          "model_module": "@jupyter-widgets/controls",
          "model_name": "SliderStyleModel",
          "model_module_version": "1.5.0",
          "state": {
            "_view_name": "StyleView",
            "handle_color": null,
            "_model_name": "SliderStyleModel",
            "description_width": "initial",
            "_view_module": "@jupyter-widgets/base",
            "_model_module_version": "1.5.0",
            "_view_count": null,
            "_view_module_version": "1.2.0",
            "_model_module": "@jupyter-widgets/controls"
          }
        },
        "393bc870d9394cf69188fa001781af64": {
          "model_module": "@jupyter-widgets/base",
          "model_name": "LayoutModel",
          "model_module_version": "1.2.0",
          "state": {
            "_view_name": "LayoutView",
            "grid_template_rows": null,
            "right": null,
            "justify_content": null,
            "_view_module": "@jupyter-widgets/base",
            "overflow": null,
            "_model_module_version": "1.2.0",
            "_view_count": null,
            "flex_flow": null,
            "width": null,
            "min_width": null,
            "border": null,
            "align_items": null,
            "bottom": null,
            "_model_module": "@jupyter-widgets/base",
            "top": null,
            "grid_column": null,
            "overflow_y": null,
            "overflow_x": null,
            "grid_auto_flow": null,
            "grid_area": null,
            "grid_template_columns": null,
            "flex": null,
            "_model_name": "LayoutModel",
            "justify_items": null,
            "grid_row": null,
            "max_height": null,
            "align_content": null,
            "visibility": null,
            "align_self": null,
            "height": null,
            "min_height": null,
            "padding": null,
            "grid_auto_rows": null,
            "grid_gap": null,
            "max_width": null,
            "order": null,
            "_view_module_version": "1.2.0",
            "grid_template_areas": null,
            "object_position": null,
            "object_fit": null,
            "grid_auto_columns": null,
            "margin": null,
            "display": null,
            "left": null
          }
        },
        "3fd470a3f2b2471e817033faf7f104c1": {
          "model_module": "@jupyter-widgets/base",
          "model_name": "LayoutModel",
          "model_module_version": "1.2.0",
          "state": {
            "_view_name": "LayoutView",
            "grid_template_rows": null,
            "right": null,
            "justify_content": null,
            "_view_module": "@jupyter-widgets/base",
            "overflow": null,
            "_model_module_version": "1.2.0",
            "_view_count": null,
            "flex_flow": null,
            "width": null,
            "min_width": null,
            "border": null,
            "align_items": null,
            "bottom": null,
            "_model_module": "@jupyter-widgets/base",
            "top": null,
            "grid_column": null,
            "overflow_y": null,
            "overflow_x": null,
            "grid_auto_flow": null,
            "grid_area": null,
            "grid_template_columns": null,
            "flex": null,
            "_model_name": "LayoutModel",
            "justify_items": null,
            "grid_row": null,
            "max_height": null,
            "align_content": null,
            "visibility": null,
            "align_self": null,
            "height": null,
            "min_height": null,
            "padding": null,
            "grid_auto_rows": null,
            "grid_gap": null,
            "max_width": null,
            "order": null,
            "_view_module_version": "1.2.0",
            "grid_template_areas": null,
            "object_position": null,
            "object_fit": null,
            "grid_auto_columns": null,
            "margin": null,
            "display": null,
            "left": null
          }
        },
        "e2c7c3087b1d4c5fafd27901afd2ce0d": {
          "model_module": "@jupyter-widgets/controls",
          "model_name": "VBoxModel",
          "model_module_version": "1.5.0",
          "state": {
            "_view_name": "VBoxView",
            "_dom_classes": [
              "widget-interact"
            ],
            "_model_name": "VBoxModel",
            "_view_module": "@jupyter-widgets/controls",
            "_model_module_version": "1.5.0",
            "_view_count": null,
            "_view_module_version": "1.5.0",
            "box_style": "",
            "layout": "IPY_MODEL_7663f34aed44461f95f89ed8691ac525",
            "_model_module": "@jupyter-widgets/controls",
            "children": [
              "IPY_MODEL_b648badf4bf94857ba1334cc518e2170",
              "IPY_MODEL_937fa120ee1e4a3ea4c82ae033014665",
              "IPY_MODEL_42ae69457068459086141d2b0cba8901"
            ]
          }
        },
        "7663f34aed44461f95f89ed8691ac525": {
          "model_module": "@jupyter-widgets/base",
          "model_name": "LayoutModel",
          "model_module_version": "1.2.0",
          "state": {
            "_view_name": "LayoutView",
            "grid_template_rows": null,
            "right": null,
            "justify_content": null,
            "_view_module": "@jupyter-widgets/base",
            "overflow": null,
            "_model_module_version": "1.2.0",
            "_view_count": null,
            "flex_flow": null,
            "width": null,
            "min_width": null,
            "border": null,
            "align_items": null,
            "bottom": null,
            "_model_module": "@jupyter-widgets/base",
            "top": null,
            "grid_column": null,
            "overflow_y": null,
            "overflow_x": null,
            "grid_auto_flow": null,
            "grid_area": null,
            "grid_template_columns": null,
            "flex": null,
            "_model_name": "LayoutModel",
            "justify_items": null,
            "grid_row": null,
            "max_height": null,
            "align_content": null,
            "visibility": null,
            "align_self": null,
            "height": null,
            "min_height": null,
            "padding": null,
            "grid_auto_rows": null,
            "grid_gap": null,
            "max_width": null,
            "order": null,
            "_view_module_version": "1.2.0",
            "grid_template_areas": null,
            "object_position": null,
            "object_fit": null,
            "grid_auto_columns": null,
            "margin": null,
            "display": null,
            "left": null
          }
        },
        "b648badf4bf94857ba1334cc518e2170": {
          "model_module": "@jupyter-widgets/controls",
          "model_name": "FloatLogSliderModel",
          "model_module_version": "1.5.0",
          "state": {
            "_view_name": "FloatLogSliderView",
            "orientation": "horizontal",
            "_view_module": "@jupyter-widgets/controls",
            "_model_module_version": "1.5.0",
            "_view_count": null,
            "disabled": false,
            "readout_format": ".9f",
            "_model_module": "@jupyter-widgets/controls",
            "style": "IPY_MODEL_57c40e0cf70147059b45453a0571ea3d",
            "layout": "IPY_MODEL_b54cbb2a44a340a49c9646f730f8f626",
            "min": -10,
            "continuous_update": false,
            "description_tooltip": null,
            "_dom_classes": [],
            "description": "c1",
            "_model_name": "FloatLogSliderModel",
            "max": 0,
            "readout": true,
            "step": 0.1,
            "base": 10,
            "value": 0.005,
            "_view_module_version": "1.5.0"
          }
        },
        "937fa120ee1e4a3ea4c82ae033014665": {
          "model_module": "@jupyter-widgets/controls",
          "model_name": "FloatLogSliderModel",
          "model_module_version": "1.5.0",
          "state": {
            "_view_name": "FloatLogSliderView",
            "orientation": "horizontal",
            "_view_module": "@jupyter-widgets/controls",
            "_model_module_version": "1.5.0",
            "_view_count": null,
            "disabled": false,
            "readout_format": ".9f",
            "_model_module": "@jupyter-widgets/controls",
            "style": "IPY_MODEL_087387fb090947768ef494289e49b62a",
            "layout": "IPY_MODEL_daeda251a3914a2ba6e95a04734b8212",
            "min": -10,
            "continuous_update": false,
            "description_tooltip": null,
            "_dom_classes": [],
            "description": "c2",
            "_model_name": "FloatLogSliderModel",
            "max": 0,
            "readout": true,
            "step": 0.1,
            "base": 10,
            "value": 0.005,
            "_view_module_version": "1.5.0"
          }
        },
        "42ae69457068459086141d2b0cba8901": {
          "model_module": "@jupyter-widgets/output",
          "model_name": "OutputModel",
          "model_module_version": "1.0.0",
          "state": {
            "_view_name": "OutputView",
            "msg_id": "",
            "_dom_classes": [],
            "_model_name": "OutputModel",
            "outputs": [
              {
                "output_type": "display_data",
                "data": {
                  "image/png": "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\n",
                  "text/plain": "<Figure size 720x360 with 1 Axes>"
                },
                "metadata": {}
              },
              {
                "output_type": "display_data",
                "data": {
                  "image/png": "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\n",
                  "text/plain": "<Figure size 432x288 with 1 Axes>"
                },
                "metadata": {}
              },
              {
                "output_type": "display_data",
                "data": {
                  "image/png": "iVBORw0KGgoAAAANSUhEUgAAAaMAAAEUCAYAAACGWlk5AAAABHNCSVQICAgIfAhkiAAAAAlwSFlzAAALEgAACxIB0t1+/AAAADh0RVh0U29mdHdhcmUAbWF0cGxvdGxpYiB2ZXJzaW9uMy4yLjIsIGh0dHA6Ly9tYXRwbG90bGliLm9yZy+WH4yJAAAgAElEQVR4nO2deWAURfbHv3PlTkgyOQhyH2IICYQQbiVA5BDCKYKwICqXqMiuopHfuqiIiqx44LIqoMACgkhEjYCA3JEjSAANiMqhkZxMEnJP5ujfH2GGOXquTM9MT8/7/AGZ7uqqV1Wv+lW9rkPEMAwDgiAIgvAgYk8LQBAEQRBkjAiCIAiPQ8aIIAiC8DhkjAiCIAiPQ8aIIAiC8DhkjAiCIAiPQ8bIyygsLERycjI0Go2nReGU0aNH49SpU3aFHTp0KH744QcXS0TwDdJ9Yes+GSM74JMCtGrVCnl5eZBIJC5L4+TJk5gxYwZSUlIwdOhQl6VjyLfffou+ffs6Hc+pU6dw3333cSARAfie7q9btw5jxoxBcnIyhg4dinXr1rksLR2k+02QMeIAtVrtaRE4JSgoCJMmTcLzzz/vaVEIniM03WcYBitWrEBubi7WrVuHLVu24Ntvv/W0WD4BGSMbLF68GIWFhZg/fz6Sk5Oxdu1a/PXXX+jatSt27NiBtLQ0PPLII6y9EsNepVarxccff4z09HT07dsXzzzzDCorK1nTHDVqFA4dOqT/rVar0a9fP+Tn5+vT1r0EqqursWTJEgwaNAj33nsv3nnnHb0bY8iQIfj5558BAF9//TW6du2K3377DQCwY8cOLFiwgDX9pKQkjB8/Hm3atLFZPi+88AI++eQTAEBJSQm6du2KLVu2AAD+/PNP9OnTB1qtFgBw6NAhjBs3Dr1798bUqVPxyy+/sJZVQ0MDXnjhBaSmpmLUqFFYu3atWdleunQJGRkZSElJwaJFi6BUKlFXV4c5c+agtLQUycnJSE5ORklJCS5cuICJEyeiV69eGDBgAN544w2b+SJ8U/fnzJmDhIQESKVSdOzYEcOGDcPZs2dZw5LucwsZIxusXLkSrVq1wocffoi8vDzMmTNHfy83Nxe7d+/G+vXrbcbzv//9DwcOHMDmzZtx7NgxtGjRAq+++ipr2NGjRyM7O1v/+/jx44iIiEBCQoJZ2MzMTEilUuzbtw+7du1CTk4OduzYAQBITU3F6dOn9bK2adMGubm5+t99+vSxvyAsYJjG6dOnjdI4ffo0UlJSIBaLcfHiRSxZsgSvvvoqTp06hSlTpmDBggVobGw0i/ODDz7AjRs3cODAAXz66af4+uuvzcLs2bMH69atw/fff4/Lly8jKysLQUFBWLt2LWJiYpCXl4e8vDzExsZi+fLlmDlzJs6ePYv9+/dj1KhRTufbF/B13WcYBmfOnEHnzp1Z75PucwsZIyd4+umnERQUhICAAJtht23bhr///e9o2bIl/Pz88NRTT+G7775jdXNkZGTg4MGDqK+vBwB88803GD16tFm4mzdv4siRI1iyZAmCgoIgl8sxa9YsvVvBsLGcOXMG8+bNM2qQqampzc67jj59+uDHH3+EVqtFbm4uZs+ere9JGjb67du3Y8qUKejRowckEgkmTJgAmUyGc+fOmcW5Z88ezJs3Dy1atEDLli0xc+ZMszAzZsxAbGwswsPDMWTIEFy6dMmijFKpFH/++SfKy8sRHByMnj17Op1vX8cXdH/16tXQarWYNGkS633SfW6ReloAb6Zly5Z2hy0sLMSTTz4JsfiO/ReLxVAoFIiNjTUK265dO3Tq1AmHDh3CkCFDcPDgQezatYs1TrVajUGDBumvabVaxMXFAWhqLG+99RZKS0uh1WoxatQofPDBB/jrr79QXV2N+Ph4R7NsRtu2bREYGIhLly7hxx9/xJNPPokvvvgCV69eRW5uLmbMmKGXddeuXdi8ebP+WZVKhdLSUrM4S0tL9XkA2Ms5Ojpa/3dgYCBrPDqWL1+O999/H6NGjULr1q3x1FNPYciQIc3KL9GE0HV/8+bN2LVrF7Zu3Qo/Pz/WMKT73ELGyAlEIpH+78DAQDQ0NOh/azQalJeX63+3bNkSr7/+OlJSUuyKe8yYMcjOzoZWq0Xnzp3Rrl07szC6nubJkychlZpXZbt27RAQEIDNmzejd+/eCAkJQVRUFD7//HO9C4ELUlNT8d1330GlUiE2NhapqanYtWsXbt26pW/0cXFxmD9/Pp544gmb8UVHR6O4uFjvHikuLrZbFsM60dG+fXusWrUKWq0W+/btw8KFC3Hq1CkEBQXZHS9hjJB1/4svvsDHH3+MLVu22DS6pPvcQW46O4iKikJBQYHVMB06dIBSqcThw4ehUqnw3//+18gn/PDDD+Pdd9/FjRs3AADl5eU4cOCAxfgeeOAB5OTk4LPPPsOYMWNYw8TExGDgwIF48803UVNTA61Wiz///FPvngCaeoibN2/WuyVMf7Oh1WqhVCqhUqnAMAyUSiWrf9s0jd69ewMA+vbti82bNyMlJUU/DXfy5MnYtm0bzp8/D4ZhUFdXh8OHD6OmpsYsvlGjRuGjjz7CrVu3UFJSYtSjtIVcLkdlZSWqq6v117766iuUl5dDLBYjLCwMADgzxELH13T/66+/xjvvvINPP/3Urgk8pPvcwU+peMbcuXPx3//+F71797b4wTY0NBRLly7FP//5T9x3330IDAw06lXNnDkTQ4cOxWOPPYbk5GQ89NBDuHDhgsU0Y2Ji0LNnT+Tl5eGBBx6wGO6tt96CSqXCAw88gNTUVCxcuBBlZWX6+6mpqaitrTVqkIa/2cjNzUVSUhLmzp2LwsJCJCUl4fHHH7cY3jSNlJQUNDQ06BsoACQmJmLZsmV49dVXkZqaiuHDhyMrK4s1vieffBItW7bEsGHDMGvWLIwYMcKiq8SUTp06YfTo0UhPT0fv3r1RUlKCY8eOYfTo0UhOTsby5cvxzjvv2PWtg/A93X/33XdRWVmJBx98UD8r7V//+pfF8KT73CGiw/UIvrN161bs3r3boV4iQQgBX9J9GhkRvKO0tFQ/S+nq1av49NNPkZ6e7mmxCMLl+LLu0wQGgneoVCosXboUf/31F0JDQzF69GhMmzbN02IRhMvxZd0nNx1BEAThcchNRxAEQXgcztx0165dQ2ZmJiorKxEeHo4VK1agffv2RmFWr16NrVu3IiYmBgDQq1cvLF26lCsRCIIgCC+FMzfdzJkzMWnSJIwbNw5fffUVdu7ciU2bNhmFWb16Nerq6vDCCy9wkSRBEAQhEDgZGSkUCly8eBGffvopgKYV1MuWLUN5eTkiIyO5SEJPRUUttFp2+ymXh0ChMF9I5u0INV+AcPNmmi+xWISIiGCn4yX9Fw5CzRfQPP3nxBgVFRUhNjZWv+JYIpEgJiYGRUVFZsbo22+/xfHjxxEdHY2nn34aycnJDqVlK0NyeYhjwnsJQs0XINy8uSJfpP/CQqj5AhzPm1undk+dOhXz58+HTCZDTk4OFixYgN27dyMiIsLuOBSKGos9w+joUJSVVbPe82aEmi9AuHkzzZdYLOLkxUP6LxyEmi+gefrPyWy6uLg4lJSU6A+20mg0ZrvPNgkYDZlMBgAYOHAg4uLi9AdeEQRBEL4LJyMjuVyO+Ph4ZGdnY9y4ccjOzkZ8fLyZi66kpES/ZfylS5dw48YNdOjQgQsRCMIn0WjUqKgog1rdiNJSsf5kUSHBh3xJpX6IiIiGREL7BLgKzkr25ZdfRmZmJtasWYOwsDCsWLECQNMxvgsXLkRiYiJWrVqF/Px8iMViyGQyvPXWW0ZncxAE4RgVFWUICAhCcHBLyGQSqNXCM0ZSqdij+WIYBrW1VaioKENUVJztB4hmwZkx6tSpk/7IX0PWrl2r/1tnoAiC4Aa1uhHBwS1Zz7IhuEEkEiE4OAw1NZWeFkXQ0A4MBOHlkCFyPVTGroeMEUEQBOFx6GscQRCc8uCDGQgMDMTGjdv0p4o++GAG3nrrHXTs2Nnp+I8fP4J16z4yulZRoQDDAF9//Z3T8ROegYwRQRCcU19fj+++241Ro9iPDXeGQYMGY9CgwfrflZWVePzxv2HBgmcciketVkMqpVcgX6CaIAgf5ER+MbKOXIGiSgl5mD8mDu6E/gktbT9oJ489NheffLIW6ekj9GsLAeCvvwqwcuXrqKysgEQiwdy5T6JfvwEAgEGDemPu3AU4evQwbt26hSefXIi0tGFW09FoNFi69EUMGZKOYcPuB9B0JtDHH6/BuXM/orFRhc6dO+PZZ19EUFAQli9/GRKJBH/++Qfq6uqwYcNWbN68Ad99txsAEB+fgEWLFiMoKIizsnAlrq5Hd0LfjDjmRH4xFq/JwWNvHsTiNTk4kV/saZEIwogT+cXYuOcXKKqUAABFlRIb9/zCqa7ec088una9B19++YXR9Vde+Sfuv38ENm7chpdeWoZly15CRUWF/n5wcDDWrduEl156Be+++2+b6Xz00QdgGAZPPPG0/tqWLRsRHByMtWs3YePGzyCXR+N///tUf/+3337F22+vxoYNW3HiRA6++243PvzwE2zatB0ajQYbNqzjoARcjzvq0Z2QMeIQoSkHIUyyjlxBo8m6nUa1FllHrnCazty5T2DLlo2oq6sDADAM8Pvvv+KBB8YCADp06IjOnbsiP/8n/TPDho0AACQkJOLmzTIolUqL8R86dAAHDuzDK6+8rt8XEwByco5i3749mDVrGmbNmoacnKMoLPxLfz8tbRgCAwMBAGfOnMawYcMRHBwCkUiEsWMn4syZ09wVggtxVz26C3LTcYg15fDWoTMhPHSdJXuvN5e2bdujf/+B2L59i93P+Pn5AYDeuGg0GmRnf4Vt2z4DAEybNgPDh4/C9evX8O9/v4GVK99DRITxTi8MAzz7bCZSUlJZ0wgKCmxOdniHu+rRXdDIiEOEphyEMJGH+Tt03Rkee2wusrJ2oK6uDiIR0Lnz3dizJxsAcP36NVy58isSEhKtxjFmzDhs2LAVGzZsxfDho1BXV4slS57D3LlPolu37mbhBw26D9u3b4FS2QAAqKurxfXr11jj7t27Dw4e3I+6ulowDIPs7F1ITe3rZK7dgzvr0R3QyIhD5GH+rIbHW5WDECYTB3fCxj2/GI3i/aRiTBzcifO0YmJiMWLEA9i2bTMAYOnS17By5ev4/POtkEgk+Oc/X3Vo134A2LlzB27c+AtffvmF2TepNWvW4m9/m4X16z/C7Nkzb08tF+Gxx+agfXvzfTD79x+IK1d+w7x5jwIA7rmnGx555PHmZdbNuLMe3QFnJ726Cz5voa/7ZmSqHI+MuscpN52n8+VK7Mkbn2YM2SuLu46QKC7+Ay1btgPg2B5ufCpTW3h6bzodhmXNBVy0a77WY3P0n0ZGHKJTAj4qB1+V1hamBl43KQSA2+XnkyzO0j+hpdfJTJgjpHokY8QxfFQOb36J8mlSCJ9kIQihQcbIB/DmlyifJoXwSRbCMWrqVaioVkKj0UIiESMi1B8hgTLbD3oR3ur90EGz6XwAb36J8mnGEJ9kIeynpl4Fxa0GaDRNHTKNRgvFrQbU1Ks8LBl3CGGNIxkjH8CbX6ITB3eCn9RYTT01Y4hPshD2U1GthOk8LYZhUFHN/86YvQhhASy56TiCz0Nkb54CyqdJIXyShbAf3YjI3uveiDd7P3SQMeIAvk8Q8PaXKJ8mhfBJFsI+JBIxq+GRSITjGBLCGkcyRhzgDRMEfPklyudRq9Dg41lDEaH+UNxqMHLViUQiRIR6z4vaFt7s/dBBxogDhDBEFip8H7V6iqqTP+Bm1k6oyxWQRsoRNXESwm4f5eAMXJw1xPU5Q7pZc56YTeeujpC3ez8AMkacwLchMo0E7uANo1Z3U3XyB5Rs2gCmsREAoC5XoGTTBgDgxCDpMD1rqLnnDIlEItxzTzenzhkKCZS5fSq3uztC3u79EI7T1IPwaZaVEKZ4cgmNWs25mbVTb4h0MI2NuJm1k9N0TM8aau45Q1u2fO5V5wzp8JYZbnw5g41GRhzApyEyjQSM4duolQ+oyxUOXW8OurOG1q//n/44iJyco6itrcXhwwcBACpVIzp37qJ/xtY5Q++9Z/uwPT7hDR0hPrmxyRhxBF+GyN7QANyJED7sco00Us5qeKSRck7it3TWkDefM6TbwWHJhoN2dza9oSPEp84ruekEhjcvcHUF/RNa4pFR9+jzLw/zd3oXdW8nauIkiG4fYqdD5OeHqImTnI7b2llDfD5nqKZehYLSGlwvqkJBaY3R7gz6HRxu75Zur+ubT+57S/Cp80ojI4Fhz0jA1yY48GXUyhd0kxRcMZvO1llD//vfBofPGRKJROjaNd5l5wzpjI1u6rduuyCgaeID2w4O9owe+OS+twSfRm90npEX4Gi+rBkbV5251Fx8pc74dp6RN+HqfBWU1lhcFNsmJgTXi6oAADVVRVj15Q2jMJ9kDm12unzQfXedwUbnGfkQ9o52+OQjJgg+YGu7IEs7OAjB9c2n0RsZIwHgyIwYPvmICffjC0cpOIqt7YJ0OzgYYu3bj7e5we11Y7s6Xz5hjLxNORzFkdEOn3zEBDcwDAORSGQznK1vI44iFMNma7ugkEAZGIZBbVVTGVt7h/BpqjSXuCNfgp9N5wuLQB0Z7XjDDB/CfsRiCTQatV1huTxKQUhnBIUEyiBvEaAfCUkkYshbBBgZ1kA/EaLCg/BJ5lCsXDDQ4gvYWxa6Ooo78iX4kZEvfCNxZLTDJx8x4TyBgSGorq5EeLgctvqWXB6lYM2weePoyNp2QQyjRXV1BQIDbU9AEaob3B35ErwxEqpyGOLowk5Hpjo74uLk0h3KFhdARtSUkJAWqKgoQ0nJXxCLRdBqLRuW+hqlfq2MIRKxCMXFFQ6le8vkG4ohMm2AQ3HZQiwWs+aroVGDeqUaGi0DiViEQH8pAvwknKbdhAh+fgEICWlhM6RQ3eDuyJfgjZFQlcMQV412HPETc+FTNjRAhiiqlPgk+yJEYhHUGuOFh47E76gM3mDwRCIRIiNjANieKnxNYXkab3xLx/L4dlaOxXa1csFAh+KyBVu++LZEQYdQd/xwR74Eb4yEqhymuGJhpyMuTmfdoWwvF0M0jO6f5sVvD0L9+KyDy06Lp9uVPfrmiY6FtTI2lWfWmAQktA13qTxc4Q73vuCNEX0jaT6OuDiddYeyvVzsgUt3q6UX3Nb9lwWjP1x1Wjzdrmzpmz0dC1cZK7YyZpPngx3nMXNkV6/RJVfvZCJ4YwQYF6JOAdd+c5FVAb3NTeNKHHFxOusOba5R4dLdakmG2gYNahs0+jBCGi05gye3WbKlb7ZGTu4eBbPJo1RpsD77osvS9DY42w7o2rVryMzMRGVlJcLDw7FixQq0b9/eKIxGo8Frr72GY8eOQSQSYe7cuZg8ebJD6bBtB6Q/tbKiHNKISP0+W6anWVb0Scfa64F6pYivuooh5XkIVddCJBaD0WpRLQ3GochkXArraHRfHBwMkUgEbU0NIBYDWi1EBtds7e/FdrImwL4/mGFYtrQs/c0mg60TPQ3vm8ZlWl5AkytmTvt6RJw+YBRnfmhHo8ZtWHYya+nerrN9oUk4LWtjsd4lIhh9M2pu3bCVre7+srOM/gUXX3UVaeV5CFPXokoajMO3dUKHPMwfL/USWYyrU8YIt2wHZFSWduiLvXqqKlegRhaCgxE9ERoow+DyPEiqKx3Sc5GNerH0t1nY2lp9u84P7cj6XdFUH2rr1QjUKlnr7t20APy2cStCVDVm903r1ZE2Y6oDhs889uZBi3Vq7VuXpbQcaff2vq+amxYbzdkOSPLyyy+/bDWEnTzzzDOYMmUKXnvtNfj5+WHNmjWYMGGCUZivv/4aubm52LFjBzIyMvCPf/wD999/P8LCwuxOp76+EYbmU3dqpbamBgCgra9H7c8/QVVRjvLsb4yui69chkIchJv+EYivuooHyk4gSKuECAAYBiIA/loVOtXdQLCqDvdWXrhzX6W6cyCZTgCDa7p0ZXI5/Fsbv1TZZKw5fw41585BW1drVW62tCz9bSqDpbKxdN80roA/f0P35M64qg5GvVLTtOP1XbUIO/ilWZwd4tuhVUIX/FFchfZlv+GBspP6srNHrtZVBaiUhuCmf4RZncvD/DFteFckd4lmjd/eurFUtrr7Xbp3xPkqP9xdecVINwJu64ShfO3LfkObU99ajMs/Ngai6Dh9HkQiEYKCjHfKbg629N+Wvtirp01toRGdawvQ7tYfkDbWO/S8mQwO6LGlOqy+cAGHrtXjOhNqlG5TWzbWBxmjYa27PqoCxOR8Az9VPet903p1pM2Y6oBhGR2/UIh6pca8QgFotAz+KK7C8NS29penA+3envdVc9MCmrxJ739xHtu+/x3HLxQiNMgPXdvLUVd35wBHe/Sfk0WvCoUCFy9exJgxYwAAY8aMwcWLF1FeXm4Ubvfu3Zg8eTLEYjEiIyORnp6OvXv3OpW2pVMrq44eMbsuY9RIK88DAKSV50HGsCuHjNGgV/VvFu9bwvS0TN0Jipc3bDGTBRoNYLJY0ZLczZXB1omebPdNw0acPoCVCwbqF/tFnD7AGuflDVuQdeQKJg7uhEnqS5Ax5nmzlq6M0ejrBmgyQHMyuhktMuyf0BIrFwxkjd+ecrFWtrq8PjLqHgytOGdW96byDa04ZzWuP/+3xSH5moutOmTD0qmubHFJwUAKY/eSI89ziUitwqCys2bXm+rLsj7o6s5PKsbg8jyrusdWr460GbZnAPbF5oawuRwdKU9nZWxuWpY2FTj8Y4FdcRnCyTejoqIixMbG6k90lEgkiImJQVFRESIjI43CtWrVSv87Li4OxcWO7YRgOtT7taKcPaCF9RZh6lqj/y0hQvO8l+qKckRHh+LwjwXYtPcylCqNzbQMYbRa2N7YxT4ZLJWNrftsYXVYeiZMXQtFlRKb9l7GonIFax5spasrp+iIQHzyz+EWZbJHblasrMHRyTc2rQty3mWvL518/jIJQlQ1VuNS3lQYlRtX2K3/NjCtV0fjcvb55sLWlmzVhe65px/qCcmyjRbvW6tXR9qM6TMAMDYtFGGhAXhnWx7rqQPREYFOl6czMjY3rV3HT7B+m9u055LVNsyG101gMPWZSyMi2Y9Lvu0nNaVaGgwAqJIGo4UVI8FA1CyDJI2IRFlZNTZk50Op0tiVFhfpsslgqWxs3WcLa/ib7Zmq2+WqVGlQIwtBKEujtpWuLo6yinqr62XskZsVCzrhiHy6SS2yEvbTUnX4R8nd8s2ouWVhWq+OxuXs881FpyOGWNI3Q2SRcnRtG46rFmSskYVg5siuFuvVkTZj+oyOhLbheHx0POuU+PGDOjhdns7I2Ny0yirqWe/fNGnD9ug/J266uLg4lJSUQKNpevlqNBqUlpYiLi7OLFxhYaH+d1FREVo6uNjOFEunVobdN5j1uih9DORh/jgcmQyViN0Wq0RSnA3tYvG+JQxPyzQcdjelZbIyXCIBJMbxq0SS2+k2fxW5oQy2TvRku28qz77QJKN9/NieUYkkOByZrP99MKKnw+kaxmFrhpwtudmwpBP2yify80PXWdP1LkNrMoj8/NB2xnSH5GsuzS0LtlNd2eJSQwS1yWvCkee5hJHKcDy6l9E1P6kYGDbaarr21G2XR6ZZrFdH2gzbM4YYnjwsgvWThx0pT2dlbG5altpqVITjR8hzMoEhKCgIx44dg1QqxT333INvvvkGZWVlmD7duEGqVCrs2rULGRkZqKiowOuvv47nn38eLVrY3mZDh+kHXP/WbSCTy9Fw/Tq0DQ2QRsoRM3Ua5A9k3LleX6+/3mH4UAxPbYuBw3ohICZKfx9iMcAwkEbKETd9OnrPnmZ0XxQcDLG/f5Nf9XZYw2u6+HWzTAw/WN70j0ClNARxSgX8tSrIIuWImTYdIcnJaLh+HZr6elRJg7E/KhWn5YlGYUUsaVn621QGo7IxKANL90XBwdBKZIBapZfnfFB7/HxVAXmLALSJCTF6xlBuw9lKTHRLPDAy2Wa6t367AlFjg1EcflIxHk6/G21iLPei2OS2p25MdUIXVhMajkMxfbC+IBjHLxQi6u5O6BDfzqL8bDIY6k/M1GloM3yYwx9w7cGq/hvIYa+OWCpXTX09amQh2BfVB8VRHdFWWwlxY4Pdz9tTL5b+NgurUkEaKUfsw9Pgn9IXfxRX6SfUPJx+N/qkJVtM19k2YUs32OS2VkYA0CYmBMNT22L2hCQMTIi1qOvWytORPNrzvmpuWqFBfvj5qsJomyk/qRhzxycipsWdbaHs0X/OpnZfuXIFmZmZqKqqQlhYGFasWIGOHTtizpw5WLhwIRITE6HRaPDqq68iJycHADBnzhxMmTLFoXS85aRXR7YrWbzG+tYq7syXLVkM4WJLlvw/K7EhO99j67r4dNKlPXiL/nOJp/Ll6i2HhFJfbGszx6Z18dxJr506dcKOHTvMrq9du1b/t0QiwSuvvMJVkrzGkRXqnt5axRBHdlLgYhV+Wkobj26J4gu7uhPNg3TDPrha/Ox1Exi8CXsrydNbqxji6E4KnlyFzwW+sKs7G7TTiG18VTc8BRkjnsCXlzqfRmnuwBd2dTdF6BvCcoUv6oYnEfxJr4RjGM72AazP9hECvnjyrVBPI+Uad+uGbpH8Y28exOI1OYI6jdoeaGREmMGXUZo74JOL1F14o/uJb8dBcA2NVskYEYRPGV/A+9xPh38s8NiL2l26QZMlyE1HED6Ht7kmN+25JFi3os41542jVa6hkRFB+Bje5pq8aWHLGW9/UZuO+Njg62jVFQjOGNGUVYKwjTe5JqMiAln3QPP2FzXbiM8QPo9WXYGgjJEnfcuEbdhXanO/szUhLGaOisfqz88JbrmBpREfAJ/sSAvKGFnzLftSpfIRS7OFwkIDPLoDA8F/0lLaoKq6QXAeD2sjPtOtt3wBQRkjofqWhYCl2UKb9lzCinn9PSQVwQXucI17k1vRXiyN+JI6yfWTGoRieO1BUMZIqL5lvuDMS8dSh8Caq4JwD87UK62PaT5sI76kTnLk/FTsk+UpKHvqYNkAACAASURBVGMkVN8yH3D2pWNpbUtzzj0huMPZeqX1Mc5hOuJbvCbHZ8tTUOuM0lLa+NRWNu7E2S1kLK1tmTkqnjMZCcdxtl5pfQy3+HJ5CmpkBAjTt8wHnG0klta2pKW0EcSZLt6Ks/Xqbbs58B1fLk/BGSPCNXDRSKijwD+crVdf2+Xd1fhyeQrKTUe4Dm/bQoawD2fr1dd2eXc1vlyeNDLyAN64S4S3bSFD2AcX9UojXm7x1fIkY+RmvHkqrK82EqFD9UrwAXLTuRk62IwgCMIcMkZuxpenbhIEQViCjJGbsTRLyRembhIEQViCjJGboVlpBEEQ5tAEBjdDs9IIgvA0fJzRS8bIA9DsJYIgPAUXM3pdYczIGBEEYTd87FETjuHs5rauWp5C34wIgrAL3UtIN/NT9xI6kV/sYckIR3B2Rq+rlqeQMSIIwi5ojZwwcHZGr6uWp5AxIgjCLmiNnDBwdkavq5ankDEiCMIuaI2cMHB2M1ZXLU+hCQwEQdiFLx9vIDScmdHrquUpZIwIgrALWiNH6HDF8hQyRgRB2A2tkSNcBX0zIgiCIDwOGSOCIAjC45CbjnAptGKfIAh7IGNEuAxvPtWWIAj34rSbrr6+HosWLcL999+PkSNH4tChQ6zhTp06hR49emDcuHEYN24cJk+e7GzSBM+hFfsEQdiL0yOj9evXIyQkBPv378f169cxffp07Nu3D8HBwWZhO3XqhKysLGeTJLwEWrFPEIS9OD0y2rNnD6ZMmQIAaN++Pbp3746jR486LRjh/dCKfYIg7MXpkVFhYSHuuusu/e+4uDgUF7Pv4nv9+nVMmDABUqkU06ZNw4QJExxOTy4PsXo/OjrU4Ti9AW/M16wxCfhgx3koVRr9NX+ZBLPGJBjlxxvzZg+uyBfpv7AQar4Ax/Nm0xhNmDABhYWFrPd++OEHuxNKSEjAkSNHEBoaioKCAjz66KOIjY3FgAED7JcWgEJRA62WYb0XHR2KsrJqh+LzBrw1XwltwzFzZFez2XQJbcP1+fHWvNnCNF9iscimIbEH0n/hINR8Ac3Tf5vG6Msvv7R6v1WrVrhx4wYiIyMBAEVFRejbt69ZuJCQO4K0adMG6enpOHv2rMPGSCwWOXXfW/HWfA1MjMPAxDirYbw1b7YwzBdXeST9FxZCzRfguP477aYbOXIktm/fjsTERFy/fh0//fQT3n77bbNwpaWliI6OhkgkQmVlJXJycvDMM884nF5EhPnECEO46H3yEaHmCxBu3lyRL9J/YSHUfAGO503EMAz7mN9O6urqkJmZiUuXLkEsFmPx4sVIT08HALz33nuIiYnBww8/jM2bN+Ozzz6DVCqFRqPB+PHjMXv2bGeSJgiCIASC08aIIAiCIJyF9qYjCIIgPA4ZI4IgCMLjkDEiCIIgPA4ZI4IgCMLjkDEiCIIgPA4ZI4IgCMLjkDEiCIIgPA4ZI4IgCMLjkDEiCIIgPA4ZI4IgCMLjkDEiCIIgPA4ZI4IgCMLjkDEiCIIgPA4ZI4IgCMLjkDFyE5mZmXjnnXfsCjt06FCHjnTX8eGHH+L//u//HH6Oz5w5cwYjRoywK+ypU6dw3333uVgiwlFI95uHr+m+0ye9Evxh/vz5Lk/j3Xffxffff48rV67giSeewNNPP+3S9Hr37o3vvvuOk7gyMzMRGxuLv//975zER/AHV+u+QqHA8uXLcfr0adTX16NLly548cUX0aNHD5el6Wu6TyMjwiHatWuH5557DoMHD/a0KAThNurq6pCYmIisrCycPn0aEyZMwNy5c1FbW+tp0QQDGSMDhg4dinXr1iEjIwM9e/bEkiVLcPPmTcyePRvJycmYNWsWbt26pQ///fffY/To0ejduzdmzJiBK1eu6O9dvHgREyZMQHJyMhYtWgSlUmmU1qFDhzBu3Dj07t0bU6dOxS+//GJTvvPnz2PgwIHQaDT6a/v370dGRgYAYPXq1Xjuuef0986dO4epU6eid+/eGDt2LE6dOgUAOHnypP4ZAHj00UcxadIk/e9p06bhwIEDrDJMmDABgwcPRnBwsFVZlUolkpKSUF5eDgD473//i27duqGmpgZA0whr+fLlAIDGxkasWLECaWlpGDBgAP71r3+hoaEBgLn7IT8/H+PHj0dycjIWLlyIRYsWmbmAPvnkE/Tv3x+DBg3Czp07AQDbt2/HN998g/Xr1yM5OVnfk/74449x7733Ijk5GSNGjMCJEyes5kuokO43YUn327Rpg0cffRQxMTGQSCSYMmUKVCoVrl27ZhaWdL+ZMISeIUOGMJMnT2bKysqY4uJipl+/fsz48eOZ/Px8pqGhgZkxYwazevVqhmEY5urVq0yPHj2Y48ePM42NjczHH3/MpKenM0qlklEqlUxaWhrz6aefMo2NjcyePXuYbt26MatWrWIYhmHy8/OZfv36MefOnWPUajWTlZXFDBkyhFEqlXo5cnJyWGUcNmwYc/z4cf3vp59+mvnoo48YhmGY999/n3n22WcZhmGY4uJipk+fPszhw4cZjUbDHD9+nOnTpw+jUCiY+vp6pnv37oxCoWAaGxuZ/v37M4MGDWKqq6uZ+vp6JjExkSkvL7daVs8++yzz/vvvWw0zbdo0Zu/evQzDMMyjjz7KDBs2jDl8+LD+3r59+xiGYZjly5cz8+bNYyoqKpjq6mpm3rx5zL///W+GYRjm5MmTzL333sswDKMv1w0bNjCNjY3Md999xyQkJOjL9eTJk0x8fDzz7rvvMo2Njczhw4eZpKQkprKykmEYhnnhhRf0YRmGYa5cucLcd999THFxMcMwDFNQUMD88ccfVvMkVEj37dd9hmGYixcvMt27d2eqqqpY75PuOw6NjEz429/+hqioKMTGxqJ3795ISkpCt27d4O/vj/vvvx8XL14EAOzevRuDBw/GwIEDIZPJ8Pjjj6OhoQF5eXk4f/48VCoVHnnkEchkMowcORKJiYn6NLZv344pU6agR48ekEgkmDBhAmQyGc6dO2dTvtGjRyM7OxsAUFNTg6NHj2L06NFm4b766ivcd999GDx4MMRiMQYOHIju3bvjyJEjCAgIQGJiIs6cOYP8/Hzcc8896NWrF86ePYtz586hXbt2iIiIcLosU1NTkZubC7VajcuXL2PGjBnIzc2FUqnETz/9hN69e4NhGHz++edYsmQJwsPDERISgnnz5uHbb781i+/8+fNQq9WYOXMmZDIZhg8fblSuACCVSvHkk09CJpNh8ODBCAoKYu29AoBEIkFjYyOuXLkClUqF1q1bo23btk7n21sh3bdP92tqavD888/jqaeeQmhoKGsY0n3HoQkMJkRFRen/9vf3N/odEBCAuro6AEBpaSlatWqlvycWixEXF4eSkhJIJBLExsZCJBLp7xuGLSwsxK5du7B582b9NZVKhdLSUpvyZWRkYOrUqXjllVewf/9+dOvWDXfddZdZuMLCQuzduxeHDh3SX1Or1ejbty+ApsZy+vRpxMbGIjU1FWFhYcjNzYWfnx/69OljUw576NOnD9544w1cvHgRd999NwYOHIj/+7//M2r0CoUC9fX1mDhxov45hmGg1WrN4istLTUr17i4OKMw4eHhkErvqHVgYKC+zkxp164dlixZgtWrV+P333/HoEGD9B96fRHSfdu639DQgPnz56NHjx6YN2+exXCk+45DxqiZxMTE4Ndff9X/ZhgGRUVFeoUpKSkBwzB65SksLESbNm0ANCnR/Pnz8cQTTzicbufOndGqVSscPXoU2dnZGDNmDGu4uLg4jBs3Dq+99hrr/T59+uDNN99Eq1atMGfOHLRo0QIvvfQSZDIZpk+f7rBcbCQnJ+PatWvYv38/UlNT0blzZxQWFuLIkSNITU0FAERERCAgIADffvutzYYQHR1tVq5FRUX6crWFYUPWkZGRgYyMDNTU1OBf//oX/v3vf2PlypUO5tS38FXdb2xsxJNPPonY2Fi8+uqrVmUl3XccctM1k1GjRuHIkSM4ceIEVCoVPvnkE/j5+SE5ORk9e/aEVCrFpk2boFKpsG/fPvz000/6ZydPnoxt27bh/PnzYBgGdXV1OHz4sP4Dpy3GjBmDjRs3Ijc3FyNHjmQNM3bsWBw6dAjHjh2DRqOBUqnEqVOnUFxcDOBOY7lw4QKSkpLQpUsX3LhxAxcuXNA3FjZUKhWUSiUYhoFarYZSqTT6qGxIYGAgunfvji1btuh7nMnJydi2bZs+DbFYjMmTJ+P111+HQqEAAJSUlODYsWNm8fXs2RMSiQSbN2+GWq3GgQMHjMrVFnK5HH/99Zf+99WrV3HixAk0NjbCz88P/v7+EIupSdjCF3VfpVJh4cKF8Pf3x4oVK2zqCem+41DLayYdO3bEypUrsWzZMvTr1w+HDh3Chx9+CD8/P/j5+WH16tX48ssv0adPH+zevRv333+//tnExEQsW7YMr776KlJTUzF8+HBkZWXZnfaYMWOQm5uLfv36ITIykjVMXFwc1qxZg48++gj9+/fH4MGDsX79er0LICgoCAkJCejcuTP8/PwANDWWVq1aQS6XW0z7pZdeQlJSErKzs/Hhhx8iKSkJX331lcXwqampUKvVSEpKAtDUK62trTVq9IsXL0a7du3w0EMPoVevXpg1axarr1tXrl988QVSU1Px9ddfIy0tTS+/LR588EH8/vvv6N27NxYsWIDGxka8/fbb6Nu3LwYNGoTy8nL84x//sCsuX8YXdT8vLw+HDh1CTk4OUlNTkZycjOTkZJw5c8airKT7jiFiGIbxqAQE4QSTJ0/G1KlTjabnEoQvIDTdp5ER4VWcPn0aZWVlUKvV+PLLL3H58mXce++9nhaLIFyO0HWfJjAQXsW1a9ewaNEi1NfXo3Xr1nj//fcRExPjabEIwuUIXffJTUcQBEF4HM5GRteuXUNmZiYqKysRHh6OFStWoH379kZhVq9eja1bt+qtea9evbB06VKuRCAIgiC8FM5GRjNnzsSkSZMwbtw4fPXVV9i5cyc2bdpkFGb16tWoq6vDCy+8wEWSBEEQhEDgZGSkUChw8eJFfPrppwCapl8uW7YM5eXlFqdfNpeKilpotez2Uy4PgUJh33oFb0Ko+QKEmzfTfInFIkREWN9c1h5I/4WDUPMFNE//OTFGutXXEokEQNO+RzExMSgqKjIzRt9++y2OHz+O6OhoPP3000hOTnYoLa2WsdgYdfeFiLfm60R+MbKOXIGiSgl5mD8mDu6E/gktjcJ4a95s4Yp8kf4LC6HmC3A8b26dTTd16lTMnz8fMpkMOTk5WLBgAXbv3u3QppxyeYjV+9HR7BsXejvemK/DPxZg097LUKqadmhQVCmxae9lhIUGIC3lzjYm3pg3e3BFvkj/hYVQ8wU4njdOjJFuk0SNRgOJRAKNRoPS0lKzjfyio6P1fw8cOBBxcXH47bffHNqYU6GosWhxo6NDUVZW3bxM8BhvzdeG7Hy9IdKhVGmwITsfCW3DAXhv3mxhmi+xWGTTkNgD6b9wEGq+gObpPyeLXuVyOeLj4/Xbu2dnZyM+Pt7MRVdSUqL/+9KlS7hx4wY6dOjAhQgED1FUKR26ThCE78KZm+7ll19GZmYm1qxZg7CwMKxYsQIAMGfOHCxcuBCJiYlYtWoV8vPzIRaLIZPJ8NZbbxmNlghhIQ/zZzU88jB/D0hDEASf4cwYderUCTt27DC7vnbtWv3fOgNF+AYTB3fCxj2/oFF953wWP6kYEwd38qBUBEHwEdoOiHAZullztmbTEQRBkDEiXEr/hJZkfAiCsAnt2k0QBEF4HDJGBEEQhMchNx1BEAThEPbsrOIoZIwIgiAIuzmRX2w0S1ZRpcTGPb8AgFMGidx0BEEQhN1kHblitFwDABrVWmQdueJUvDQyIgjCblzhniG8C1ftrELGiCAIu3CVe4ZwP850Kly1swq56QiCsAtXuWcI96LrVOgMiq5TcSK/2K7nJw7uBD+psengYmcVMkYEQdgFbXwrDJztVPRPaIlHRt2jHwnJw/zxyKh7aDYdQRDugTa+FQZcdCpcsbMKjYwIgrALV7lnCPdiqfPg6U4FjYw8AM1IIrwR2vhWGPB1N30yRm6GZiQR3gxtfOv98LVTQcbIzVj7eOhpZSAIwjfgY6eCvhm5GZqRRBAEYQ6NjNyMN89Iom9dwoTqleADNDJyM946I8nZhXIEP6F6JfgCGSM346oFY66GVt8LE6pXgi+Qm84D8PHjoS3oW5cw4aJeyc1HcAGNjAi74OtCOcI5nK1XcvMRXEHGiLALb/3WRVjH2XolNx/BFeSmI+yCi4VybO6csWmhrhKZsANn65Xct9zjq25PMkaE3TjzrcvSzhNhoQFIaBvOpZiEgzhTr968VIGP+PIOLeSmI9yCJXfOpj2XPCQRwQXkvuUWX3Z7Cm5k5KtDXL5jyW1zs6LezZIQXMLXfc68BdP3lS+7PQVljA7/WOCzQ1y+Y6mhRUUEekAagku8cakCH2B7X1nCF9yegnLTbdpzyWeHuHzHkjtn5qh4D0lEEJ6F7X3Fhq+4PQU1MrLk8vGFIS7fseTOSUtpg7Kyag9LR/AdIbrfrbmodZ4EoeTVHgRljKIiAlHGUsG+MMT1Bsidwx+86eUuVPe7pfeVjjkZ3bw6f44iKDfdzFHxNLOHIGzgbbsmCNX9zva+0sH3OnEFgjJGaSltvHITUoJwJ942fVio7nfT95UpfK4TVyAoNx1AriCCsIW3TR8Wsvtd97567M2DrPf5WieuQHDGiHAeb/qewAW+ll9v2zVh5qh4rP78nNFoTmjud2+rE1cgKDcd4Tze9j3BWXwtv4D37ZrgC+53b6sTV0AjI57Al965te8JQmr8OrjIb9XJH3AzayfU5QpII+WImjgJ0RkjXCEuJ3jjrgmecr+7q116Y51wDWfG6Nq1a8jMzERlZSXCw8OxYsUKtG/f3iiMRqPBa6+9hmPHjkEkEmHu3LmYPHkyVyKYwfaSCOs3wGXpNRc+bY5oz/cELspVF8evFeWQRkR6rG6c/X5SdfIHlGzaAKaxEQCgLlegZNMGhIYFQtQtmTM5bcngaFnSt1XbWGqXfpfyEHH6AOfvFVfUibe8AwFAxDAMw0VEM2fOxKRJkzBu3Dh89dVX2LlzJzZt2mQUZteuXfjmm2+wdu1aVFZWYvz48di6dStat25tdzoKRQ20WmOR9QVu0BgBGL0kAEDk54eqoROwrTQMiiol+qgKMLg8D5LqSkAsBrRaaELDcSQyGadlbYzui4KDIRKJoK2p0Yc1vMZW0Ya9KsO4dGEB4GbWTqjKFaiSBuNwZDIuhXVEfNVVpJXnIUxdCxFLWpb+ZpPBljIa3hcFB6OuQY0AjdJIHqDJNbJywUCzly8AqERS7I7uh9LW8frenLV02eOQ4Fjb+9Bj4gi7GiRb/LrytNbwDJ+DWAxGqzXLKwD0URVgePUFm3EVf7IO0JqvovePjkK7N/6t/y0WiyCXh9jMly1M9Z+tLEV+fggdMBB1Fy7o69WajpjmSaeTNbIQHIzoidBAmZnu2nreNF22NmPpb7OwtbX6dp0f2tHm6MFenTfMI5vumrZLAIivuooHyk5CxqjNM39bbltlpHsvlFcpEWljBGSpPO1p9yWfbQFTW8sarz3vAnvTYj8apovRYnZ79F/y8ssvv2w1hB0oFAq88847WLlyJcRiMbp06YI33ngDDz74IAID7+w9tmrVKjz44IPo0qULAgMDUVBQgJKSEvTq1cvutOrrG2FoPnWNUVtTAwDQ1tej9uefUHfpIph6kxk4Gg2U16/jaODdiK+6ivSiHEiVt8PcjlTc2IDWVQUIVtWhT9m5O/dVqjsNXieAwTVdujK5HP6t2+h7VTX1arO0tPX1qDl/DjXnzkFbVwsRgACtCp3qbiBYVYd7Ky8gSKuEyEJalv42lcFS2Vi6D5UKMkZjJE+lNARVwXI8nH432sSE4Mb7794JfxsJtIhTKnA08G78fFWBuMJLUO/aZjFd9jgYRNaW4dPyWMhbBKBNjGXFZctXzdkfUXP2R2jr75SxYZpsz4FhzPJ60z8CibXXMLz4BzC1d+KvyDuPjSdLsetyPUKD/NDi6gWUbNoAqFleSgA09fWQjx2v/y0SiRAU5GcxT/Ziqv9sZanTc11ZWNMRQwzLRwTAX9uIzrUFaHfrD0gbLZcr2/Om6Tqix5baV/WFCzh0rR7XmaYzsOqVGvx8VWGkL47ovC6PnepuoFATgEM3tEa6y6Ybk4sOIkhrYdR8W25rZWT4XrCUB7vK0452zzQ0sMtpo1wcSctSfmIjgxDTIkCfnj36z8kEhqKiIsTGxkIikQAAJBIJYmJiUFRUZBauVatW+t9xcXEoLnbuQ/HNrJ1GvUIAYBobzRvobULVTT2FtPI8yBgNaxgZo0Gv6t8s3rcE09iIm1k7ARh/i2BNS6MBNMYvsuama0kGS2Vj7b6pPEMrzhl9LFaXK1jDht0u10a1Fvj+W6vpWovDnrUVtuQ2TLN43ce4+vyz+l6fpedkjAZp5XkIDpDg3ptnIVKrTO6rkVaep3fV3Nj+uVUZ/KPkNuXjAktlaQ3DujCErXykYCCF8cjPkee5RKRWYVDZWaNrOn2pOvkDrj7/LIrXfcyqe79t3IoT+cWsMurq3pLu6u4Dd/TcFmxldCK/GOuzL9q9xsuR8nSkXTvzjOlzXB4N43UTGEyHer9WlDv0fJU0GIBtpRKhed5LdUU5oqNDUW7wzcFeBXYmXTYZLJWNrfuGhKprMTCti/73H9FRUJbdNAunK1cACFGxdwR06dqKo7xKieho8xNgD/9YgE17LuGxckXTqNFO1OUKlP5vI7RK69+BwtS1UGuAUBV7fRkaXHF1pcV4xP7+aDtjOmsenMVU/y2VpS10dWGII23J2eebC1tbivnrEgrOnYRMyz5KBZp08t29l7HIgu7o4rWku7r71dJgu9uzYRkd/rEAm/ZehtZC82bTeUfL05F27cwzhs+VW/i2erOi3mH958QYxcXFoaSkBBqNBhKJBBqNBqWlpYiLizMLV1hYiKSkJADmIyV7MPWZSyMiWXuHouBg46Emmr5tHI5s+qhcJQ1GCytKxUDULMMgjYhEWVk1Ig3WDdhKi4t02WSwVDa27huiCWmBWa/s1fuDp6YMQ9jBL82+9+jKFbCcX126EeMmsn4z0sXBAJj1yl4jX7rhx2RHylOHVqnU+/QtUSMLgVKlsRi/ocG1KINYjJgZjyBm8H0O+8ztwVT/2crSHnR1YXrN3pGWs883F8M60JFWnmfVEOmeU6o0qJGFIJTF4OjitXZfHuYPUfoYiEz03xKGZbQhOx9KlWWPR2SYv9Pl6Ui7duYZw+cirRwN46j+c+Kmk8vliI+PR3Z2NgAgOzsb8fHxiIyMNAo3cuRI7NixA1qtFuXl5Thw4ABGjHBuCmzUxEkQ+Rn7IkV+foh9eDpiZ86CNLLJXSKNlKNhxCRciewMADgcmQyVSMIap0okwdnQLhbvW0Lk56f/kG64boA1LYkEkEjNng9PSzPLT3NlsFQ21u4bwkhl2BuSaLQGZ+31QFQNnQBppBwMmhrp7uj+Rh//2fJrmG5YvwGInTkLmtBwMABuscShqFJi7TcX8dibB7F4TQ4+O/Cr3h1gre6sotVazK/Izw8HI3pajN/U4P54Vx/Wsm352Gy3zlbSlSXE9jdlw7owhE0f1BBBbfKacOR5LmGkMhyPNv++bGukYlh3ByN6msmou+8nFQPDRrPWa9dZ07FywUCkPDjK6L1iOU0pdkrjsXhNDk7kF1udnWlpPZEj5elIu3bmGdPnuDwahpMJDADQo0cPrFq1CuvXr8fly5exfPlyREREYM6cOejQoQNiY2Nx9913Iy8vD6+//jp27NiB+fPnY8AAxxqu6Qdc/9ZtIJPL0XD9OrQNDZBGyhEzdRrC+g2Af+s2iLh/BORjxyPi/hFo1a0L5C0C8EdxFf5EGDShEWirrYS4saGpMTMMNKHhONqyH46FJRjdFwUHQ+zv39Qjuh3W8JphugDQJibEYlrSSDlipk1HSHJyk9z19frn5Q9k3MlPfT1rWmx/axsbUSMLwZ6IFOypjUJokB8694o3istURqOyq683y8/3UanIC2hnVP4aLYOr6mBMWTIbUWPH448OKThTIUG98k6v76Z/BCqlIYhTKuCvVUFmkq4u7eiRI1HSMw1bbrXEnwizXOdKjZFf2jR+e112uvyblq3u+p7aKNQrNWbxV0mDsT8qVW8s/aRijBjbDx3i21ks2+Bgf9TVGcxwc9EEBuB2PUZHoy7/ZzAa8963NT01i+e2Pmjq61EjC8G+qD4ojuporLu3nz+RX4z3vziPbd//juMXChF1dyejMrHVZiz9bRZWpYI0Uo7Yh6fBP6Uv/iiuMtK3pKrfEaBVmeVH11kyrDsmuiUeGJlsnEd5Kkpbx+Ph9LvRJy3ZapvRlZPuvSKLiTHSJ4ZhUG2Qpu6DfqC/hPXsIrEIeHR0POtsOmvt01qdmj4njZQjZvoMhPRKada7wN73XL1SA3mYPx5OvxsjBnRwWP85m9rtLtimduuIjg4V5Nk4tvJluh4CaHphOrtK3dJ+WQDwSebQZoc1RJc3a89bQx7mj5d6iYym8gYlJaH6hxyz6c6xM2dZHbVYKseBiS1x4YrCocWIpnXmKjedIczFPFzbsNkta0pcpXNssOn/4jU5+tFG03TrE0YTfxipDLuj++Gn4A4ul8+SXIYEB0igUjNG5eUvk2DmyK6CXO/VHP33ugkMzYEvuxu4ClftmuDIflnO7q1l6Xlr6NwbYQktzV66QZ27OLzYz9tXwccMvs/mQluu2oKnd+qYOLiT3hjqRj1DyvMQqq6F7HZ99wvtiEI316UlHa5t0GBORjejsp81JgEJbcNdKo83IXhjxKfdDVyFq3ZhNmzwOiz5s2OcfQAACWFJREFUtx0Ja29apgQHSBDgJ7Xr5RLWb0CzRgVC3pmAy7bg6Z2/TTsOpa3joZo+Bl0N8tEf7m/j1jplprrlbZ4cV3fqBW+MPN2Dcweu2vHXkZGCs6MK0+dN8ZOKMe1+Ybo03AWXbYEPu0zzsePgbKeMr7ijUy94Y+TpHpw7cLQBONLDcaTBO/tyMHxe6K5VT8BlWxDqS9dZvN3Vawl3dOoFb4z40INzNY40AG9xW/Kx1+vtcNkWhPrStYSrOnDegjs69YI3Rr7Sg7O3AfiC25Jgh+u2IMSXLhve0oFzJe7o1AveGPlaD84WvuC2JNihtmAZayMf6sC5p1MveGME+E4PToe1huULbkvCMr7WFuzB1sjHmQ6cN3z7tEdGd3RkfMIY+RK2GpavuC0Jwl5sjXya24HzBveeIzK6uiPDyd50RFOlLl6To99L7US+c0djNBdrDQtoUqhHRt2jb0jyMH+Xr0onCD5ja+Rjaf81Wx04W22RD/BJRhoZcQCfekD2uBTIVUMQd7A18mmui8obvs/ySUYyRhzApw+c9E2IIBzDHtd1czpw3tAW+SQjuek4gE+9i+a6FIQMX1yoBD9xlevaG9oin2SkkREH8Kl3QdN3jeGTC5XwHLZmjLnCde3utticmXt8el+QMeIAvs1Qo29Cd+CTC5XwDJ7skLirLTqTR768L8hNxwE0Q42/8MmFSngGPs0YcxVCyCONjDiCL70Lwhg+uVAJz+ALHRIh5JFGRoSg4dMHWsIzWOp4CKlDIoQ8kjEiBA25UAlf6JAIIY/kpvMRvGGPLEs4Kzu5UH0bPs0YcxVCyCMZIx/Am6c3e7PsBH/whQ6Jt+eRjJEP4M3Tm/kmuzePMAmCz5Ax4hg+vqy8eaYNn2SnURpBuA4yRhzC15eVN09v5pPsfBulEQQfO7/NhWbTcQhfF55580wbPsnOp1EaQeg6vzr903V+vXXvRTJGHMLXl5U3T2/mk+xCWMtBCAe+dn6bC7npOIRPLiVTvHmmDV9k59sehIRvw9fOb3OhkRGH8MmlRHAPn0ZpBCG0kTqNjDhECAvPCOvwZZRGEEIbqZMx4hh6WREE4Q6E1vklY0QQBOGlCKnzS9+MCIIgCI9DxoggCILwOGSMCIIgCI9DxoggCILwOGSMCIIgCI9DxoggCILwOE5P7a6vr8eLL76I/Px8SCQSvPDCCxgyZIhZuFOnTmHu3Llo3749AMDPzw87duxwNnmCIAhCADhtjNavX4+QkBDs378f169fx/Tp07Fv3z4EBwebhe3UqROysrKcTZIgCIIQGE676fbs2YMpU6YAANq3b4/u3bvj6NGjTgtGEARB+A5OG6PCwkLcdddd+t9xcXEoLmY/T+P69euYMGECJk+ejC+//NLZpAmCIAiBYNNNN2HCBBQWFrLe++GHH+xOKCEhAUeOHEFoaCgKCgrw6KOPIjY2FgMGDLBfWgByeYjV+9HRoQ7F5y0INV+AcPPminyR/gsLoeYLcDxvNo2RrRFMq1atcOPGDURGRgIAioqK0LdvX7NwISF3GlGbNm2Qnp6Os2fPOmyMKipqodUyrPfk8hAoFDUOxecNCDVfgHDzZpovsViEiAjz76iOQvovHISaL6B5+u/0BIaRI0di+/btSExMxPXr1/HTTz/h7bffNgtXWlqK6OhoiEQiVFZWIicnB88884zD6dnKkK2eo7ci1HwBws2bK/JF+i8shJovwPG8iRiGYe9m2UldXR0yMzNx6dIliMViLF68GOnp6QCA9957DzExMXj44YexefNmfPbZZ5BKpdBoNBg/fjxmz57tTNIEQRCEQHDaGBEEQRCEs9AODARBEITHIWNEEARBeBwyRgRBEITHIWNEEARBeBwyRgRBEITHIWNEEARBeBwyRgRBEITHEYQxunbtGqZMmYIRI0ZgypQpuH79uqdFahYVFRWYM2cORowYgYyMDDz11FMoLy8HAJw7dw5jx47FiBEj8Nhjj0GhUHhY2ubxwQcfoGvXrvj1118BCCNfSqUSS5cuxfDhw5GRkYGXXnoJgPv0kvTfexCa/nOq+4wAmDFjBrNr1y6GYRhm165dzIwZMzwsUfOoqKhgTp48qf/95ptvMi+++CKj0WiY9PR0Jjc3l2EYhvnPf/7DZGZmekrMZvPzzz8zjz/+ODNkyBDm8uXLgsnXsmXLmOXLlzNarZZhGIYpKytjGMZ9ekn67x0IUf+51H2vN0Y3b95kUlJSGLVazTAMw6jVaiYlJYVRKBQelsx59u7dyzzyyCPM+fPnmdGjR+uvKxQKpmfPnh6UzHGUSiXz0EMPMQUFBfrGKIR81dTUMCkpKUxNTY3RdXfpJem/dyBE/eda973eTVdUVITY2FhIJBIAgEQiQUxMDIqKijwsmXNotVp89tlnGDp0KIqKitCqVSv9vcjISGi1WlRWVnpQQsd47733MHbsWLRu3Vp/TQj5KigoQHh4OD744ANMnDgRM2bMwJkzZ9yml6T/3oEQ9Z9r3fd6YyRUli1bhqCgIPztb3/ztChOk5eXh59//hnTpk3ztCico9FoUFBQgG7duiErKwvPPfccnn76adTV1XlaNK+G9J//cK37Th8h4Wni4uJQUlICjUYDiUQCjUaD0tJSxMXFeVq0ZrNixQr88ccf+PDDDyEWixEXF2d0wGF5eTnEYjHCw8M9KKX95Obm4sqVKxg2bBgAoLi4GI8//jhmzJjh1fkCmvRPKpVizJgxAIAePXogIiICAQEBbtFL0n/+I1T951r3vX5kJJfLER8fj+zsbABAdnY24uPj9Yf9eRurVq3Czz//jP/85z/w8/MDAHTv3h0NDQ04c+YMAGDbtm0YOXKkJ8V0iLlz5+L48eM4ePAgDh48iJYtW2L9+vWYPXu2V+cLaHKt9O3bFzk5OQCaZhEpFAq0b9/eLXpJ+s9/hKr/XOu+II6QuHLlCjIzM1FVVYWwsDCsWLECHTt29LRYDvPbb79hzJgxaN++PQICAgAArVu3xn/+8x+cPXsWS5cuhVKpxF133YWVK1ciKirKwxI3j6FDh+LDDz/E3XffLYh8FRQUYMmSJaisrIRUKsWiRYswePBgt+kl6b93IST951L3BWGMCIIgCO/G6910BEEQhPdDxoggCILwOGSMCIIgCI9DxoggCILwOGSMCIIgCI9DxoggCILwOGSMCIIgCI9DxoggCILwOP8PjX+YdiJYcQoAAAAASUVORK5CYII=\n",
                  "text/plain": "<Figure size 432x288 with 4 Axes>"
                },
                "metadata": {}
              }
            ],
            "_view_module": "@jupyter-widgets/output",
            "_model_module_version": "1.0.0",
            "_view_count": null,
            "_view_module_version": "1.0.0",
            "layout": "IPY_MODEL_dc45503ddcb941e596594f3f9ec7d288",
            "_model_module": "@jupyter-widgets/output"
          }
        },
        "57c40e0cf70147059b45453a0571ea3d": {
          "model_module": "@jupyter-widgets/controls",
          "model_name": "SliderStyleModel",
          "model_module_version": "1.5.0",
          "state": {
            "_view_name": "StyleView",
            "handle_color": null,
            "_model_name": "SliderStyleModel",
            "description_width": "initial",
            "_view_module": "@jupyter-widgets/base",
            "_model_module_version": "1.5.0",
            "_view_count": null,
            "_view_module_version": "1.2.0",
            "_model_module": "@jupyter-widgets/controls"
          }
        },
        "b54cbb2a44a340a49c9646f730f8f626": {
          "model_module": "@jupyter-widgets/base",
          "model_name": "LayoutModel",
          "model_module_version": "1.2.0",
          "state": {
            "_view_name": "LayoutView",
            "grid_template_rows": null,
            "right": null,
            "justify_content": null,
            "_view_module": "@jupyter-widgets/base",
            "overflow": null,
            "_model_module_version": "1.2.0",
            "_view_count": null,
            "flex_flow": null,
            "width": null,
            "min_width": null,
            "border": null,
            "align_items": null,
            "bottom": null,
            "_model_module": "@jupyter-widgets/base",
            "top": null,
            "grid_column": null,
            "overflow_y": null,
            "overflow_x": null,
            "grid_auto_flow": null,
            "grid_area": null,
            "grid_template_columns": null,
            "flex": null,
            "_model_name": "LayoutModel",
            "justify_items": null,
            "grid_row": null,
            "max_height": null,
            "align_content": null,
            "visibility": null,
            "align_self": null,
            "height": null,
            "min_height": null,
            "padding": null,
            "grid_auto_rows": null,
            "grid_gap": null,
            "max_width": null,
            "order": null,
            "_view_module_version": "1.2.0",
            "grid_template_areas": null,
            "object_position": null,
            "object_fit": null,
            "grid_auto_columns": null,
            "margin": null,
            "display": null,
            "left": null
          }
        },
        "087387fb090947768ef494289e49b62a": {
          "model_module": "@jupyter-widgets/controls",
          "model_name": "SliderStyleModel",
          "model_module_version": "1.5.0",
          "state": {
            "_view_name": "StyleView",
            "handle_color": null,
            "_model_name": "SliderStyleModel",
            "description_width": "initial",
            "_view_module": "@jupyter-widgets/base",
            "_model_module_version": "1.5.0",
            "_view_count": null,
            "_view_module_version": "1.2.0",
            "_model_module": "@jupyter-widgets/controls"
          }
        },
        "daeda251a3914a2ba6e95a04734b8212": {
          "model_module": "@jupyter-widgets/base",
          "model_name": "LayoutModel",
          "model_module_version": "1.2.0",
          "state": {
            "_view_name": "LayoutView",
            "grid_template_rows": null,
            "right": null,
            "justify_content": null,
            "_view_module": "@jupyter-widgets/base",
            "overflow": null,
            "_model_module_version": "1.2.0",
            "_view_count": null,
            "flex_flow": null,
            "width": null,
            "min_width": null,
            "border": null,
            "align_items": null,
            "bottom": null,
            "_model_module": "@jupyter-widgets/base",
            "top": null,
            "grid_column": null,
            "overflow_y": null,
            "overflow_x": null,
            "grid_auto_flow": null,
            "grid_area": null,
            "grid_template_columns": null,
            "flex": null,
            "_model_name": "LayoutModel",
            "justify_items": null,
            "grid_row": null,
            "max_height": null,
            "align_content": null,
            "visibility": null,
            "align_self": null,
            "height": null,
            "min_height": null,
            "padding": null,
            "grid_auto_rows": null,
            "grid_gap": null,
            "max_width": null,
            "order": null,
            "_view_module_version": "1.2.0",
            "grid_template_areas": null,
            "object_position": null,
            "object_fit": null,
            "grid_auto_columns": null,
            "margin": null,
            "display": null,
            "left": null
          }
        },
        "dc45503ddcb941e596594f3f9ec7d288": {
          "model_module": "@jupyter-widgets/base",
          "model_name": "LayoutModel",
          "model_module_version": "1.2.0",
          "state": {
            "_view_name": "LayoutView",
            "grid_template_rows": null,
            "right": null,
            "justify_content": null,
            "_view_module": "@jupyter-widgets/base",
            "overflow": null,
            "_model_module_version": "1.2.0",
            "_view_count": null,
            "flex_flow": null,
            "width": null,
            "min_width": null,
            "border": null,
            "align_items": null,
            "bottom": null,
            "_model_module": "@jupyter-widgets/base",
            "top": null,
            "grid_column": null,
            "overflow_y": null,
            "overflow_x": null,
            "grid_auto_flow": null,
            "grid_area": null,
            "grid_template_columns": null,
            "flex": null,
            "_model_name": "LayoutModel",
            "justify_items": null,
            "grid_row": null,
            "max_height": null,
            "align_content": null,
            "visibility": null,
            "align_self": null,
            "height": null,
            "min_height": null,
            "padding": null,
            "grid_auto_rows": null,
            "grid_gap": null,
            "max_width": null,
            "order": null,
            "_view_module_version": "1.2.0",
            "grid_template_areas": null,
            "object_position": null,
            "object_fit": null,
            "grid_auto_columns": null,
            "margin": null,
            "display": null,
            "left": null
          }
        },
        "94a5bd227d7b488caf59c822680a4a3e": {
          "model_module": "@jupyter-widgets/controls",
          "model_name": "VBoxModel",
          "model_module_version": "1.5.0",
          "state": {
            "_view_name": "VBoxView",
            "_dom_classes": [
              "widget-interact"
            ],
            "_model_name": "VBoxModel",
            "_view_module": "@jupyter-widgets/controls",
            "_model_module_version": "1.5.0",
            "_view_count": null,
            "_view_module_version": "1.5.0",
            "box_style": "",
            "layout": "IPY_MODEL_0e22b29bcbff461dadcbbdff4e08c958",
            "_model_module": "@jupyter-widgets/controls",
            "children": [
              "IPY_MODEL_881a0caab57e4dca893d676b4d182a2f",
              "IPY_MODEL_5455f8ed1c154c379872027632cc1921",
              "IPY_MODEL_1e0254cf2d904bf8b6e8dfc2777497bb"
            ]
          }
        },
        "0e22b29bcbff461dadcbbdff4e08c958": {
          "model_module": "@jupyter-widgets/base",
          "model_name": "LayoutModel",
          "model_module_version": "1.2.0",
          "state": {
            "_view_name": "LayoutView",
            "grid_template_rows": null,
            "right": null,
            "justify_content": null,
            "_view_module": "@jupyter-widgets/base",
            "overflow": null,
            "_model_module_version": "1.2.0",
            "_view_count": null,
            "flex_flow": null,
            "width": null,
            "min_width": null,
            "border": null,
            "align_items": null,
            "bottom": null,
            "_model_module": "@jupyter-widgets/base",
            "top": null,
            "grid_column": null,
            "overflow_y": null,
            "overflow_x": null,
            "grid_auto_flow": null,
            "grid_area": null,
            "grid_template_columns": null,
            "flex": null,
            "_model_name": "LayoutModel",
            "justify_items": null,
            "grid_row": null,
            "max_height": null,
            "align_content": null,
            "visibility": null,
            "align_self": null,
            "height": null,
            "min_height": null,
            "padding": null,
            "grid_auto_rows": null,
            "grid_gap": null,
            "max_width": null,
            "order": null,
            "_view_module_version": "1.2.0",
            "grid_template_areas": null,
            "object_position": null,
            "object_fit": null,
            "grid_auto_columns": null,
            "margin": null,
            "display": null,
            "left": null
          }
        },
        "881a0caab57e4dca893d676b4d182a2f": {
          "model_module": "@jupyter-widgets/controls",
          "model_name": "FloatLogSliderModel",
          "model_module_version": "1.5.0",
          "state": {
            "_view_name": "FloatLogSliderView",
            "orientation": "horizontal",
            "_view_module": "@jupyter-widgets/controls",
            "_model_module_version": "1.5.0",
            "_view_count": null,
            "disabled": false,
            "readout_format": ".9f",
            "_model_module": "@jupyter-widgets/controls",
            "style": "IPY_MODEL_71c017b242e145d396af100d01569ce0",
            "layout": "IPY_MODEL_f482cd5c147344ffa721939de832eb04",
            "min": -10,
            "continuous_update": false,
            "description_tooltip": null,
            "_dom_classes": [],
            "description": "cx",
            "_model_name": "FloatLogSliderModel",
            "max": 0,
            "readout": true,
            "step": 0.1,
            "base": 10,
            "value": 1e-10,
            "_view_module_version": "1.5.0"
          }
        },
        "5455f8ed1c154c379872027632cc1921": {
          "model_module": "@jupyter-widgets/controls",
          "model_name": "FloatLogSliderModel",
          "model_module_version": "1.5.0",
          "state": {
            "_view_name": "FloatLogSliderView",
            "orientation": "horizontal",
            "_view_module": "@jupyter-widgets/controls",
            "_model_module_version": "1.5.0",
            "_view_count": null,
            "disabled": false,
            "readout_format": ".9f",
            "_model_module": "@jupyter-widgets/controls",
            "style": "IPY_MODEL_74c7d292bc064023869b1eb06c0ceceb",
            "layout": "IPY_MODEL_0b92cdfcaaf9461e85ef2929a532cfcc",
            "min": -10,
            "continuous_update": false,
            "description_tooltip": null,
            "_dom_classes": [],
            "description": "cy",
            "_model_name": "FloatLogSliderModel",
            "max": 0,
            "readout": true,
            "step": 0.1,
            "base": 10,
            "value": 1e-10,
            "_view_module_version": "1.5.0"
          }
        },
        "1e0254cf2d904bf8b6e8dfc2777497bb": {
          "model_module": "@jupyter-widgets/output",
          "model_name": "OutputModel",
          "model_module_version": "1.0.0",
          "state": {
            "_view_name": "OutputView",
            "msg_id": "",
            "_dom_classes": [],
            "_model_name": "OutputModel",
            "outputs": [
              {
                "output_type": "error",
                "ename": "AttributeError",
                "evalue": "ignored",
                "traceback": [
                  "\u001b[0;31m---------------------------------------------------------------------------\u001b[0m",
                  "\u001b[0;31mAttributeError\u001b[0m                            Traceback (most recent call last)",
                  "\u001b[0;32m/usr/local/lib/python3.7/dist-packages/ipywidgets/widgets/interaction.py\u001b[0m in \u001b[0;36mupdate\u001b[0;34m(self, *args)\u001b[0m\n\u001b[1;32m    255\u001b[0m                     \u001b[0mvalue\u001b[0m \u001b[0;34m=\u001b[0m \u001b[0mwidget\u001b[0m\u001b[0;34m.\u001b[0m\u001b[0mget_interact_value\u001b[0m\u001b[0;34m(\u001b[0m\u001b[0;34m)\u001b[0m\u001b[0;34m\u001b[0m\u001b[0;34m\u001b[0m\u001b[0m\n\u001b[1;32m    256\u001b[0m                     \u001b[0mself\u001b[0m\u001b[0;34m.\u001b[0m\u001b[0mkwargs\u001b[0m\u001b[0;34m[\u001b[0m\u001b[0mwidget\u001b[0m\u001b[0;34m.\u001b[0m\u001b[0m_kwarg\u001b[0m\u001b[0;34m]\u001b[0m \u001b[0;34m=\u001b[0m \u001b[0mvalue\u001b[0m\u001b[0;34m\u001b[0m\u001b[0;34m\u001b[0m\u001b[0m\n\u001b[0;32m--> 257\u001b[0;31m                 \u001b[0mself\u001b[0m\u001b[0;34m.\u001b[0m\u001b[0mresult\u001b[0m \u001b[0;34m=\u001b[0m \u001b[0mself\u001b[0m\u001b[0;34m.\u001b[0m\u001b[0mf\u001b[0m\u001b[0;34m(\u001b[0m\u001b[0;34m**\u001b[0m\u001b[0mself\u001b[0m\u001b[0;34m.\u001b[0m\u001b[0mkwargs\u001b[0m\u001b[0;34m)\u001b[0m\u001b[0;34m\u001b[0m\u001b[0;34m\u001b[0m\u001b[0m\n\u001b[0m\u001b[1;32m    258\u001b[0m                 \u001b[0mshow_inline_matplotlib_plots\u001b[0m\u001b[0;34m(\u001b[0m\u001b[0;34m)\u001b[0m\u001b[0;34m\u001b[0m\u001b[0;34m\u001b[0m\u001b[0m\n\u001b[1;32m    259\u001b[0m                 \u001b[0;32mif\u001b[0m \u001b[0mself\u001b[0m\u001b[0;34m.\u001b[0m\u001b[0mauto_display\u001b[0m \u001b[0;32mand\u001b[0m \u001b[0mself\u001b[0m\u001b[0;34m.\u001b[0m\u001b[0mresult\u001b[0m \u001b[0;32mis\u001b[0m \u001b[0;32mnot\u001b[0m \u001b[0;32mNone\u001b[0m\u001b[0;34m:\u001b[0m\u001b[0;34m\u001b[0m\u001b[0;34m\u001b[0m\u001b[0m\n",
                  "\u001b[0;32m<ipython-input-10-7e8b4b6e4c0b>\u001b[0m in \u001b[0;36minteractive_cca\u001b[0;34m(cx, cy)\u001b[0m\n\u001b[1;32m      6\u001b[0m     \u001b[0mrcca\u001b[0m\u001b[0;34m=\u001b[0m\u001b[0mrCCA\u001b[0m\u001b[0;34m(\u001b[0m\u001b[0mlatent_dims\u001b[0m\u001b[0;34m=\u001b[0m\u001b[0;36m1\u001b[0m\u001b[0;34m,\u001b[0m\u001b[0mc\u001b[0m\u001b[0;34m=\u001b[0m\u001b[0;34m[\u001b[0m\u001b[0mcx\u001b[0m\u001b[0;34m,\u001b[0m\u001b[0mcy\u001b[0m\u001b[0;34m]\u001b[0m\u001b[0;34m)\u001b[0m\u001b[0;34m.\u001b[0m\u001b[0mfit\u001b[0m\u001b[0;34m(\u001b[0m\u001b[0;34m[\u001b[0m\u001b[0mHX_tr\u001b[0m\u001b[0;34m,\u001b[0m\u001b[0mHY_tr\u001b[0m\u001b[0;34m]\u001b[0m\u001b[0;34m)\u001b[0m\u001b[0;34m\u001b[0m\u001b[0;34m\u001b[0m\u001b[0m\n\u001b[1;32m      7\u001b[0m     \u001b[0mtest_scores\u001b[0m\u001b[0;34m=\u001b[0m\u001b[0mrcca\u001b[0m\u001b[0;34m.\u001b[0m\u001b[0mtransform\u001b[0m\u001b[0;34m(\u001b[0m\u001b[0;34m[\u001b[0m\u001b[0mHX_te\u001b[0m\u001b[0;34m,\u001b[0m\u001b[0mHY_te\u001b[0m\u001b[0;34m]\u001b[0m\u001b[0;34m)\u001b[0m\u001b[0;34m\u001b[0m\u001b[0;34m\u001b[0m\u001b[0m\n\u001b[0;32m----> 8\u001b[0;31m     \u001b[0mplot_latent_train_test\u001b[0m\u001b[0;34m(\u001b[0m\u001b[0mrcca\u001b[0m\u001b[0;34m.\u001b[0m\u001b[0mscores\u001b[0m\u001b[0;34m,\u001b[0m\u001b[0mtest_scores\u001b[0m\u001b[0;34m)\u001b[0m\u001b[0;34m\u001b[0m\u001b[0;34m\u001b[0m\u001b[0m\n\u001b[0m\u001b[1;32m      9\u001b[0m     \u001b[0mplot_train_test_corrs\u001b[0m\u001b[0;34m(\u001b[0m\u001b[0mrcca\u001b[0m\u001b[0;34m.\u001b[0m\u001b[0mscores\u001b[0m\u001b[0;34m,\u001b[0m\u001b[0mtest_scores\u001b[0m\u001b[0;34m)\u001b[0m\u001b[0;34m\u001b[0m\u001b[0;34m\u001b[0m\u001b[0m\n\u001b[1;32m     10\u001b[0m     \u001b[0mplot_model_weights\u001b[0m\u001b[0;34m(\u001b[0m\u001b[0mrcca\u001b[0m\u001b[0;34m.\u001b[0m\u001b[0mweights\u001b[0m\u001b[0;34m[\u001b[0m\u001b[0;36m0\u001b[0m\u001b[0;34m]\u001b[0m\u001b[0;34m,\u001b[0m\u001b[0mrcca\u001b[0m\u001b[0;34m.\u001b[0m\u001b[0mweights\u001b[0m\u001b[0;34m[\u001b[0m\u001b[0;36m1\u001b[0m\u001b[0;34m]\u001b[0m\u001b[0;34m,\u001b[0m \u001b[0mtitle\u001b[0m\u001b[0;34m=\u001b[0m\u001b[0;34m'Model weights'\u001b[0m\u001b[0;34m)\u001b[0m\u001b[0;34m\u001b[0m\u001b[0;34m\u001b[0m\u001b[0m\n",
                  "\u001b[0;31mAttributeError\u001b[0m: 'rCCA' object has no attribute 'scores'"
                ]
              }
            ],
            "_view_module": "@jupyter-widgets/output",
            "_model_module_version": "1.0.0",
            "_view_count": null,
            "_view_module_version": "1.0.0",
            "layout": "IPY_MODEL_728f862954b043af8f9fe0ea336ee514",
            "_model_module": "@jupyter-widgets/output"
          }
        },
        "71c017b242e145d396af100d01569ce0": {
          "model_module": "@jupyter-widgets/controls",
          "model_name": "SliderStyleModel",
          "model_module_version": "1.5.0",
          "state": {
            "_view_name": "StyleView",
            "handle_color": null,
            "_model_name": "SliderStyleModel",
            "description_width": "initial",
            "_view_module": "@jupyter-widgets/base",
            "_model_module_version": "1.5.0",
            "_view_count": null,
            "_view_module_version": "1.2.0",
            "_model_module": "@jupyter-widgets/controls"
          }
        },
        "f482cd5c147344ffa721939de832eb04": {
          "model_module": "@jupyter-widgets/base",
          "model_name": "LayoutModel",
          "model_module_version": "1.2.0",
          "state": {
            "_view_name": "LayoutView",
            "grid_template_rows": null,
            "right": null,
            "justify_content": null,
            "_view_module": "@jupyter-widgets/base",
            "overflow": null,
            "_model_module_version": "1.2.0",
            "_view_count": null,
            "flex_flow": null,
            "width": null,
            "min_width": null,
            "border": null,
            "align_items": null,
            "bottom": null,
            "_model_module": "@jupyter-widgets/base",
            "top": null,
            "grid_column": null,
            "overflow_y": null,
            "overflow_x": null,
            "grid_auto_flow": null,
            "grid_area": null,
            "grid_template_columns": null,
            "flex": null,
            "_model_name": "LayoutModel",
            "justify_items": null,
            "grid_row": null,
            "max_height": null,
            "align_content": null,
            "visibility": null,
            "align_self": null,
            "height": null,
            "min_height": null,
            "padding": null,
            "grid_auto_rows": null,
            "grid_gap": null,
            "max_width": null,
            "order": null,
            "_view_module_version": "1.2.0",
            "grid_template_areas": null,
            "object_position": null,
            "object_fit": null,
            "grid_auto_columns": null,
            "margin": null,
            "display": null,
            "left": null
          }
        },
        "74c7d292bc064023869b1eb06c0ceceb": {
          "model_module": "@jupyter-widgets/controls",
          "model_name": "SliderStyleModel",
          "model_module_version": "1.5.0",
          "state": {
            "_view_name": "StyleView",
            "handle_color": null,
            "_model_name": "SliderStyleModel",
            "description_width": "initial",
            "_view_module": "@jupyter-widgets/base",
            "_model_module_version": "1.5.0",
            "_view_count": null,
            "_view_module_version": "1.2.0",
            "_model_module": "@jupyter-widgets/controls"
          }
        },
        "0b92cdfcaaf9461e85ef2929a532cfcc": {
          "model_module": "@jupyter-widgets/base",
          "model_name": "LayoutModel",
          "model_module_version": "1.2.0",
          "state": {
            "_view_name": "LayoutView",
            "grid_template_rows": null,
            "right": null,
            "justify_content": null,
            "_view_module": "@jupyter-widgets/base",
            "overflow": null,
            "_model_module_version": "1.2.0",
            "_view_count": null,
            "flex_flow": null,
            "width": null,
            "min_width": null,
            "border": null,
            "align_items": null,
            "bottom": null,
            "_model_module": "@jupyter-widgets/base",
            "top": null,
            "grid_column": null,
            "overflow_y": null,
            "overflow_x": null,
            "grid_auto_flow": null,
            "grid_area": null,
            "grid_template_columns": null,
            "flex": null,
            "_model_name": "LayoutModel",
            "justify_items": null,
            "grid_row": null,
            "max_height": null,
            "align_content": null,
            "visibility": null,
            "align_self": null,
            "height": null,
            "min_height": null,
            "padding": null,
            "grid_auto_rows": null,
            "grid_gap": null,
            "max_width": null,
            "order": null,
            "_view_module_version": "1.2.0",
            "grid_template_areas": null,
            "object_position": null,
            "object_fit": null,
            "grid_auto_columns": null,
            "margin": null,
            "display": null,
            "left": null
          }
        },
        "728f862954b043af8f9fe0ea336ee514": {
          "model_module": "@jupyter-widgets/base",
          "model_name": "LayoutModel",
          "model_module_version": "1.2.0",
          "state": {
            "_view_name": "LayoutView",
            "grid_template_rows": null,
            "right": null,
            "justify_content": null,
            "_view_module": "@jupyter-widgets/base",
            "overflow": null,
            "_model_module_version": "1.2.0",
            "_view_count": null,
            "flex_flow": null,
            "width": null,
            "min_width": null,
            "border": null,
            "align_items": null,
            "bottom": null,
            "_model_module": "@jupyter-widgets/base",
            "top": null,
            "grid_column": null,
            "overflow_y": null,
            "overflow_x": null,
            "grid_auto_flow": null,
            "grid_area": null,
            "grid_template_columns": null,
            "flex": null,
            "_model_name": "LayoutModel",
            "justify_items": null,
            "grid_row": null,
            "max_height": null,
            "align_content": null,
            "visibility": null,
            "align_self": null,
            "height": null,
            "min_height": null,
            "padding": null,
            "grid_auto_rows": null,
            "grid_gap": null,
            "max_width": null,
            "order": null,
            "_view_module_version": "1.2.0",
            "grid_template_areas": null,
            "object_position": null,
            "object_fit": null,
            "grid_auto_columns": null,
            "margin": null,
            "display": null,
            "left": null
          }
        },
        "ad01695dbcdc489d8415f0c3cc924cdb": {
          "model_module": "@jupyter-widgets/controls",
          "model_name": "VBoxModel",
          "model_module_version": "1.5.0",
          "state": {
            "_view_name": "VBoxView",
            "_dom_classes": [
              "widget-interact"
            ],
            "_model_name": "VBoxModel",
            "_view_module": "@jupyter-widgets/controls",
            "_model_module_version": "1.5.0",
            "_view_count": null,
            "_view_module_version": "1.5.0",
            "box_style": "",
            "layout": "IPY_MODEL_4bb6933b2fd64a0da6d6fb6959aade49",
            "_model_module": "@jupyter-widgets/controls",
            "children": [
              "IPY_MODEL_7d7fddd785a74588801cd71896b14952",
              "IPY_MODEL_9ed516053b5b4e2d9d787f1b99e15c4a",
              "IPY_MODEL_a4cacf496c554dfb9350c53b557c9375"
            ]
          }
        },
        "4bb6933b2fd64a0da6d6fb6959aade49": {
          "model_module": "@jupyter-widgets/base",
          "model_name": "LayoutModel",
          "model_module_version": "1.2.0",
          "state": {
            "_view_name": "LayoutView",
            "grid_template_rows": null,
            "right": null,
            "justify_content": null,
            "_view_module": "@jupyter-widgets/base",
            "overflow": null,
            "_model_module_version": "1.2.0",
            "_view_count": null,
            "flex_flow": null,
            "width": null,
            "min_width": null,
            "border": null,
            "align_items": null,
            "bottom": null,
            "_model_module": "@jupyter-widgets/base",
            "top": null,
            "grid_column": null,
            "overflow_y": null,
            "overflow_x": null,
            "grid_auto_flow": null,
            "grid_area": null,
            "grid_template_columns": null,
            "flex": null,
            "_model_name": "LayoutModel",
            "justify_items": null,
            "grid_row": null,
            "max_height": null,
            "align_content": null,
            "visibility": null,
            "align_self": null,
            "height": null,
            "min_height": null,
            "padding": null,
            "grid_auto_rows": null,
            "grid_gap": null,
            "max_width": null,
            "order": null,
            "_view_module_version": "1.2.0",
            "grid_template_areas": null,
            "object_position": null,
            "object_fit": null,
            "grid_auto_columns": null,
            "margin": null,
            "display": null,
            "left": null
          }
        },
        "7d7fddd785a74588801cd71896b14952": {
          "model_module": "@jupyter-widgets/controls",
          "model_name": "FloatSliderModel",
          "model_module_version": "1.5.0",
          "state": {
            "_view_name": "FloatSliderView",
            "style": "IPY_MODEL_778390be376d4dd4b471502d6e5edab0",
            "_dom_classes": [],
            "description": "c1",
            "step": 0.1,
            "_model_name": "FloatSliderModel",
            "orientation": "horizontal",
            "max": 21.540659228538015,
            "_view_module": "@jupyter-widgets/controls",
            "_model_module_version": "1.5.0",
            "value": 3,
            "_view_count": null,
            "disabled": false,
            "_view_module_version": "1.5.0",
            "min": 1,
            "continuous_update": false,
            "readout_format": ".5f",
            "description_tooltip": null,
            "readout": true,
            "_model_module": "@jupyter-widgets/controls",
            "layout": "IPY_MODEL_aa5c980c1fa14946b2a77c46ebbbf938"
          }
        },
        "9ed516053b5b4e2d9d787f1b99e15c4a": {
          "model_module": "@jupyter-widgets/controls",
          "model_name": "FloatSliderModel",
          "model_module_version": "1.5.0",
          "state": {
            "_view_name": "FloatSliderView",
            "style": "IPY_MODEL_ba401055761440a4b4235c07df788126",
            "_dom_classes": [],
            "description": "c2",
            "step": 0.1,
            "_model_name": "FloatSliderModel",
            "orientation": "horizontal",
            "max": 4.898979485566356,
            "_view_module": "@jupyter-widgets/controls",
            "_model_module_version": "1.5.0",
            "value": 3,
            "_view_count": null,
            "disabled": false,
            "_view_module_version": "1.5.0",
            "min": 1,
            "continuous_update": false,
            "readout_format": ".5f",
            "description_tooltip": null,
            "readout": true,
            "_model_module": "@jupyter-widgets/controls",
            "layout": "IPY_MODEL_df67a74b94cc4c3c96310dacd2c181cd"
          }
        },
        "a4cacf496c554dfb9350c53b557c9375": {
          "model_module": "@jupyter-widgets/output",
          "model_name": "OutputModel",
          "model_module_version": "1.0.0",
          "state": {
            "_view_name": "OutputView",
            "msg_id": "",
            "_dom_classes": [],
            "_model_name": "OutputModel",
            "outputs": [
              {
                "output_type": "display_data",
                "data": {
                  "image/png": "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\n",
                  "text/plain": "<Figure size 720x360 with 1 Axes>"
                },
                "metadata": {}
              },
              {
                "output_type": "display_data",
                "data": {
                  "image/png": "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\n",
                  "text/plain": "<Figure size 432x288 with 1 Axes>"
                },
                "metadata": {}
              },
              {
                "output_type": "display_data",
                "data": {
                  "image/png": "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\n",
                  "text/plain": "<Figure size 432x288 with 2 Axes>"
                },
                "metadata": {}
              }
            ],
            "_view_module": "@jupyter-widgets/output",
            "_model_module_version": "1.0.0",
            "_view_count": null,
            "_view_module_version": "1.0.0",
            "layout": "IPY_MODEL_b8f10b7b621d46c09b27f67b6c7961de",
            "_model_module": "@jupyter-widgets/output"
          }
        },
        "778390be376d4dd4b471502d6e5edab0": {
          "model_module": "@jupyter-widgets/controls",
          "model_name": "SliderStyleModel",
          "model_module_version": "1.5.0",
          "state": {
            "_view_name": "StyleView",
            "handle_color": null,
            "_model_name": "SliderStyleModel",
            "description_width": "initial",
            "_view_module": "@jupyter-widgets/base",
            "_model_module_version": "1.5.0",
            "_view_count": null,
            "_view_module_version": "1.2.0",
            "_model_module": "@jupyter-widgets/controls"
          }
        },
        "aa5c980c1fa14946b2a77c46ebbbf938": {
          "model_module": "@jupyter-widgets/base",
          "model_name": "LayoutModel",
          "model_module_version": "1.2.0",
          "state": {
            "_view_name": "LayoutView",
            "grid_template_rows": null,
            "right": null,
            "justify_content": null,
            "_view_module": "@jupyter-widgets/base",
            "overflow": null,
            "_model_module_version": "1.2.0",
            "_view_count": null,
            "flex_flow": null,
            "width": null,
            "min_width": null,
            "border": null,
            "align_items": null,
            "bottom": null,
            "_model_module": "@jupyter-widgets/base",
            "top": null,
            "grid_column": null,
            "overflow_y": null,
            "overflow_x": null,
            "grid_auto_flow": null,
            "grid_area": null,
            "grid_template_columns": null,
            "flex": null,
            "_model_name": "LayoutModel",
            "justify_items": null,
            "grid_row": null,
            "max_height": null,
            "align_content": null,
            "visibility": null,
            "align_self": null,
            "height": null,
            "min_height": null,
            "padding": null,
            "grid_auto_rows": null,
            "grid_gap": null,
            "max_width": null,
            "order": null,
            "_view_module_version": "1.2.0",
            "grid_template_areas": null,
            "object_position": null,
            "object_fit": null,
            "grid_auto_columns": null,
            "margin": null,
            "display": null,
            "left": null
          }
        },
        "ba401055761440a4b4235c07df788126": {
          "model_module": "@jupyter-widgets/controls",
          "model_name": "SliderStyleModel",
          "model_module_version": "1.5.0",
          "state": {
            "_view_name": "StyleView",
            "handle_color": null,
            "_model_name": "SliderStyleModel",
            "description_width": "initial",
            "_view_module": "@jupyter-widgets/base",
            "_model_module_version": "1.5.0",
            "_view_count": null,
            "_view_module_version": "1.2.0",
            "_model_module": "@jupyter-widgets/controls"
          }
        },
        "df67a74b94cc4c3c96310dacd2c181cd": {
          "model_module": "@jupyter-widgets/base",
          "model_name": "LayoutModel",
          "model_module_version": "1.2.0",
          "state": {
            "_view_name": "LayoutView",
            "grid_template_rows": null,
            "right": null,
            "justify_content": null,
            "_view_module": "@jupyter-widgets/base",
            "overflow": null,
            "_model_module_version": "1.2.0",
            "_view_count": null,
            "flex_flow": null,
            "width": null,
            "min_width": null,
            "border": null,
            "align_items": null,
            "bottom": null,
            "_model_module": "@jupyter-widgets/base",
            "top": null,
            "grid_column": null,
            "overflow_y": null,
            "overflow_x": null,
            "grid_auto_flow": null,
            "grid_area": null,
            "grid_template_columns": null,
            "flex": null,
            "_model_name": "LayoutModel",
            "justify_items": null,
            "grid_row": null,
            "max_height": null,
            "align_content": null,
            "visibility": null,
            "align_self": null,
            "height": null,
            "min_height": null,
            "padding": null,
            "grid_auto_rows": null,
            "grid_gap": null,
            "max_width": null,
            "order": null,
            "_view_module_version": "1.2.0",
            "grid_template_areas": null,
            "object_position": null,
            "object_fit": null,
            "grid_auto_columns": null,
            "margin": null,
            "display": null,
            "left": null
          }
        },
        "b8f10b7b621d46c09b27f67b6c7961de": {
          "model_module": "@jupyter-widgets/base",
          "model_name": "LayoutModel",
          "model_module_version": "1.2.0",
          "state": {
            "_view_name": "LayoutView",
            "grid_template_rows": null,
            "right": null,
            "justify_content": null,
            "_view_module": "@jupyter-widgets/base",
            "overflow": null,
            "_model_module_version": "1.2.0",
            "_view_count": null,
            "flex_flow": null,
            "width": null,
            "min_width": null,
            "border": null,
            "align_items": null,
            "bottom": null,
            "_model_module": "@jupyter-widgets/base",
            "top": null,
            "grid_column": null,
            "overflow_y": null,
            "overflow_x": null,
            "grid_auto_flow": null,
            "grid_area": null,
            "grid_template_columns": null,
            "flex": null,
            "_model_name": "LayoutModel",
            "justify_items": null,
            "grid_row": null,
            "max_height": null,
            "align_content": null,
            "visibility": null,
            "align_self": null,
            "height": null,
            "min_height": null,
            "padding": null,
            "grid_auto_rows": null,
            "grid_gap": null,
            "max_width": null,
            "order": null,
            "_view_module_version": "1.2.0",
            "grid_template_areas": null,
            "object_position": null,
            "object_fit": null,
            "grid_auto_columns": null,
            "margin": null,
            "display": null,
            "left": null
          }
        },
        "f57a6ccd4bec4baab3c3671fdb0a4716": {
          "model_module": "@jupyter-widgets/controls",
          "model_name": "VBoxModel",
          "model_module_version": "1.5.0",
          "state": {
            "_view_name": "VBoxView",
            "_dom_classes": [
              "widget-interact"
            ],
            "_model_name": "VBoxModel",
            "_view_module": "@jupyter-widgets/controls",
            "_model_module_version": "1.5.0",
            "_view_count": null,
            "_view_module_version": "1.5.0",
            "box_style": "",
            "layout": "IPY_MODEL_97f9ea9d12a5470c985a84effe3c5dff",
            "_model_module": "@jupyter-widgets/controls",
            "children": [
              "IPY_MODEL_273793c55bed4e679b0223622c3996a6",
              "IPY_MODEL_b9643dd502144e8bbbd6b40b08276e2a",
              "IPY_MODEL_f627454aecc34f7180c78f97b2521cc1"
            ]
          }
        },
        "97f9ea9d12a5470c985a84effe3c5dff": {
          "model_module": "@jupyter-widgets/base",
          "model_name": "LayoutModel",
          "model_module_version": "1.2.0",
          "state": {
            "_view_name": "LayoutView",
            "grid_template_rows": null,
            "right": null,
            "justify_content": null,
            "_view_module": "@jupyter-widgets/base",
            "overflow": null,
            "_model_module_version": "1.2.0",
            "_view_count": null,
            "flex_flow": null,
            "width": null,
            "min_width": null,
            "border": null,
            "align_items": null,
            "bottom": null,
            "_model_module": "@jupyter-widgets/base",
            "top": null,
            "grid_column": null,
            "overflow_y": null,
            "overflow_x": null,
            "grid_auto_flow": null,
            "grid_area": null,
            "grid_template_columns": null,
            "flex": null,
            "_model_name": "LayoutModel",
            "justify_items": null,
            "grid_row": null,
            "max_height": null,
            "align_content": null,
            "visibility": null,
            "align_self": null,
            "height": null,
            "min_height": null,
            "padding": null,
            "grid_auto_rows": null,
            "grid_gap": null,
            "max_width": null,
            "order": null,
            "_view_module_version": "1.2.0",
            "grid_template_areas": null,
            "object_position": null,
            "object_fit": null,
            "grid_auto_columns": null,
            "margin": null,
            "display": null,
            "left": null
          }
        },
        "273793c55bed4e679b0223622c3996a6": {
          "model_module": "@jupyter-widgets/controls",
          "model_name": "FloatLogSliderModel",
          "model_module_version": "1.5.0",
          "state": {
            "_view_name": "FloatLogSliderView",
            "orientation": "horizontal",
            "_view_module": "@jupyter-widgets/controls",
            "_model_module_version": "1.5.0",
            "_view_count": null,
            "disabled": false,
            "readout_format": ".9f",
            "_model_module": "@jupyter-widgets/controls",
            "style": "IPY_MODEL_7eddd5452e7744abaecafb2c5fead94f",
            "layout": "IPY_MODEL_d6dbd61dbc5f434bb23afba97ce37772",
            "min": -10,
            "continuous_update": false,
            "description_tooltip": null,
            "_dom_classes": [],
            "description": "c1",
            "_model_name": "FloatLogSliderModel",
            "max": 0,
            "readout": true,
            "step": 0.1,
            "base": 10,
            "value": 0.005,
            "_view_module_version": "1.5.0"
          }
        },
        "b9643dd502144e8bbbd6b40b08276e2a": {
          "model_module": "@jupyter-widgets/controls",
          "model_name": "FloatLogSliderModel",
          "model_module_version": "1.5.0",
          "state": {
            "_view_name": "FloatLogSliderView",
            "orientation": "horizontal",
            "_view_module": "@jupyter-widgets/controls",
            "_model_module_version": "1.5.0",
            "_view_count": null,
            "disabled": false,
            "readout_format": ".9f",
            "_model_module": "@jupyter-widgets/controls",
            "style": "IPY_MODEL_22ab22b2e0d64fafa316210d48498524",
            "layout": "IPY_MODEL_67ad838913b740c2be9f5f0b32f96342",
            "min": -10,
            "continuous_update": false,
            "description_tooltip": null,
            "_dom_classes": [],
            "description": "c2",
            "_model_name": "FloatLogSliderModel",
            "max": 0,
            "readout": true,
            "step": 0.1,
            "base": 10,
            "value": 0.005,
            "_view_module_version": "1.5.0"
          }
        },
        "f627454aecc34f7180c78f97b2521cc1": {
          "model_module": "@jupyter-widgets/output",
          "model_name": "OutputModel",
          "model_module_version": "1.0.0",
          "state": {
            "_view_name": "OutputView",
            "msg_id": "",
            "_dom_classes": [],
            "_model_name": "OutputModel",
            "outputs": [
              {
                "output_type": "display_data",
                "data": {
                  "image/png": "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\n",
                  "text/plain": "<Figure size 720x360 with 1 Axes>"
                },
                "metadata": {}
              },
              {
                "output_type": "display_data",
                "data": {
                  "image/png": "iVBORw0KGgoAAAANSUhEUgAAAZkAAAEcCAYAAAAV2MmlAAAABHNCSVQICAgIfAhkiAAAAAlwSFlzAAALEgAACxIB0t1+/AAAADh0RVh0U29mdHdhcmUAbWF0cGxvdGxpYiB2ZXJzaW9uMy4yLjIsIGh0dHA6Ly9tYXRwbG90bGliLm9yZy+WH4yJAAAgAElEQVR4nO3de1iUdf7/8SczgKB4AAIc1Na0UkstDPF8RsVC0cyzmecyy9JK8LuVybrt6lZmZpabWu6qmespyZToMk1dtTysrtphLU05CognkMPM/fvD385GIAzJDaivx3V5XTP35zDve1Re3J/7nnvcDMMwEBERMYGlsgsQEZGbl0JGRERMo5ARERHTKGRERMQ0ChkRETGNQkZEREyjkJGbxvjx41m/fn1ll3HTO3PmDE2aNKGgoOA3jX/33Xf5/e9/X85VSVXlps/JSGUKCQlxPs7JycHT0xOr1QrArFmz6NevX2WVViYvv/wymzZtAiA/Px/DMPD09ATggQce4P333y/TfOvWrWPNmjWsWrWq3Gu9XmfOnKFHjx4cPXoUd3f3Evvu3buXF154gR07dlRQdVLVlPwvRMRkBw8edD7u3r07s2fPpn379kX6FRQUlPoDrTLFxsYSGxsLwIIFCzh16hSvvfZaJVdVuuLe16r+XsuNRctlUiXt3buXzp07s3jxYjp06MCMGTM4f/48jz/+OG3btqV169Y8/vjjpKSkOMc8+uijrFmzBrh6JDBs2DDmzJlD69at6d69O9u3by/2tRYvXsyUKVMKbZs9ezazZ892ztWjRw9CQkLo3r07n3zySZn25dChQwwdOpTQ0FD69evH3r17nW3FzX3ixAlmzpzJoUOHCAkJITQ0tNh5s7KymDFjBh07dqR169Y8+eSTzraPP/6Ynj17EhYWxhNPPEFqaqqzrUmTJqxYsYJevXrRq1evYt9rh8PB4sWLCQ8Pp02bNjzzzDNkZWUVW8fatWvp06cPISEh9OjRg48++giA7OxsJkyYQFpaGiEhIYSEhJCamsqCBQt4/vnnneO/+OILHnroIUJDQ3n00Uc5ceKEs6179+4sWbKEvn378sADD/Dss8+Sm5sLQGZmJo8//jihoaGEhYUxfPhwHA5Hmf5upAIYIlVEt27djF27dhmGYRh79uwxmjVrZsydO9fIzc01cnJyjMzMTGPLli1Gdna2cfHiRePpp582Jk2a5Bw/cuRI4+OPPzYMwzDWrl1r3HPPPcbq1auNgoICY8WKFUaHDh0Mh8NR5HXPnDljtGzZ0rh48aJhGIZRUFBgdOjQwTh48KBx+fJlIyQkxDhx4oRhGIaRmppqfP/99yXux1tvvWU899xzhmEYRkpKihEWFmZ8+eWXht1uN3bu3GmEhYUZGRkZJc69du1aY+jQoSW+zoQJE4xnnnnGyMrKMvLy8oy9e/cahmEYu3fvNsLCwox///vfRm5urhEbG2sMHz7cOe7uu+82Ro8ebZw7d87Iyckp9r3+4IMPjEGDBhnJyclGbm6u8dJLLxlTp041DMMwTp8+bdx9991Gfn6+YRiGsW3bNuPUqVOGw+Ew9u7da7Rs2dL497//7fx77NSp0zXfnx9//NG47777jJ07dxp5eXnG4sWLjfDwcCM3N9cwjKv/JgYOHGikpKQY586dMyIiIoyVK1cahmEYr732mvHSSy8ZeXl5Rl5envH1118X+/crlUtHMlJlWSwWpkyZgqenJ15eXvj6+tK7d2+8vb3x8fFh0qRJfP3119ccHxwczODBg7FarQwYMICzZ8+Snp5epF+9evW45557SEhIAGDPnj14eXlx//33O+v44YcfuHLlCoGBgdx1110u78PGjRvp3LkzXbp0wWKx0KFDB5o3b+48qvqtc6elpbFjxw5mzZpF7dq18fDwICwsDIBNmzYxcOBA7r33Xjw9PZk2bRqHDh3izJkzzvETJ06kTp06eHl5Oev45Xv90UcfMXXqVOrWrYunpydPPfUUW7duLfZkf9euXbn99ttxc3MjLCyMDh068M0337i0H5s3b6ZLly506NABDw8Pxo0bx5UrVwotoz766KMEBQVRp04dunXrxvHjxwFwd3fn7NmzJCUl4eHhQWhoKG5ubi69rlQchYxUWb6+vlSrVs35PCcnh5dffplu3brRqlUrRowYwYULF7Db7cWOv+2225yPvb29gatLOMWJjIwkLi4OgLi4OCIjIwGoXr068+bN46OPPqJjx45MnDix0HJOaZKSktiyZQuhoaHOP/v37+fs2bPXNXdKSgq1a9emdu3aRdrS0tKoV6+e83mNGjWoU6dOoSUzm81WaMyv3+ukpCQmT57srPnBBx/EYrGQkZFR5PW2b9/O4MGDCQsLIzQ0lB07dnDu3DmX9iMtLY3g4GDnc4vFgs1mK1RrQECA87G3t7fz73DcuHH87ne/Y+zYsfTo0YPFixe79JpSsRQyUmX9+rfSpUuX8tNPP/Hxxx9z4MABVqxYAYBRDhdI9unTh3379pGSksLnn39O3759nW2dOnVi2bJl7Ny5k0aNGvHSSy+5PK/NZiMqKopvvvnG+efQoUNMnDixxLlL+428bt26nD9/ngsXLhRpCwwMJDEx0fk8OzubrKwsgoKCnNt+Pf+vn9etW5e//vWvheo+cuRIoTkA8vLymDJlCmPHjmXXrl188803dO7c2fl3Utp+BAYGkpSU5HxuGAbJyclFXqc4Pj4+xMTE8MUXX7Bo0SKWLVvGP//5z1LHScVSyMgN4/Lly1SrVo1atWqRlZXF22+/XW5z+/n5ERYWxowZM6hfvz6NGzcGID09nYSEBLKzs/H09KR69epYLK7/t+nXrx/btm3jq6++wm63k5uby969e0lJSSlxbn9/f1JTU8nLyyt23sDAQDp37sysWbM4f/48+fn5zqXDyMhI1q1bx/Hjx8nLy+ONN96gZcuW1K9f3+W6hw0bxptvvukMq8zMTOdy4i/l5eWRl5eHn58f7u7ubN++nV27djnb/f39ycrK4uLFi8W+Tp8+fdi+fTv//Oc/yc/PZ+nSpXh6eha6tP1atm3bxqlTpzAMg5o1a2K1WrVcVgUpZOSG8dhjj5Gbm0vbtm0ZMmQInTp1Ktf5IyMj2b17t3OpDMDhcPDBBx/QqVMnwsLC+Prrr3nllVdcntNms/HOO+/w3nvv0a5dO7p06cKSJUtwOBwlzt22bVvuvPNOOnbsSJs2bYqde+7cubi7u9OnTx/at2/Phx9+CED79u155plnePrpp+nYsSOnT59m3rx5ZXovRo0aRffu3Rk7diwhISEMHjyYw4cPF+nn4+PDiy++yLPPPkvr1q2Ji4uje/fuzvbGjRvz0EMPER4eTmhoaKFlMIBGjRrxl7/8hT/84Q+0bduWbdu28e677zo/Y1SSU6dOMWbMGEJCQhgyZAjDhg2jbdu2ZdpPMZ8+jCkiIqbRkYyIiJimSoXMnDlz6N69O02aNOH7778vto/dbmfWrFmEh4fTs2dP54fvSmsTEZGKV6XuHdGjRw9GjRrFiBEjrtln06ZN/Pzzz8THx5OVlUX//v1p164d9evXL7FNREQqXpU6kgkNDS1y/f6vbd68mUGDBmGxWPDz8yM8PJwtW7aU2iYiIhWvSoWMK5KTkwt9eMtmsznvX1VSm4iIVLwbLmREROTGUaXOybjCZrORlJREy5YtgcJHLyW1uercucs4HLqqW0TEFRaLG76+Na7ZfsOFTEREBGvWrKFXr15kZWWRkJDgvL1ISW2ucjgMhYyISDmpUiEze/Zs4uPjSU9PZ8yYMdSpU4dPP/2UCRMmMGXKFFq0aEFUVBT/+te/6NWrFwCTJ0+mQYMGACW2iYhIxdMn/n8lI+OSjmRERFxksbjh7+9zzfYqdSQjIlJVGYbBuXNnycu7Atx6v4hare74+NTB2/va51+Ko5AREXHBpUvncXNzIyioPm5ut9aFuYZhkJ+fR1bWWYAyBc2t9U6JiPxGOTmXqFmzzi0XMHD1e4E8PatRp04Aly5llWnsrfduiYj8Bg6HHav11l788fDwxG4v+hXcJVHIiIi46Fb/UrTfsv8KGRGRSnTgwDcMGPBgZZdhGoWMiIiYRiEjIiKmubXPYomIVJBHHulLVNTDbN26mfT0dDp37spzz8U421et+jsrVnyI1Wph4sTJPPRQPwB2797JX//6DomJifj4+PDQQ/0YN+5xAHJzc5kzZzZ79uzG4bBTv/7tzJ07Dz8/fy5dusSCBW+wZ88u3NwsPPhgX8aNexyr1Vqh+62QERGpIPHxn/H66wvw9vYmOnoqH364hNDQMDIzM7h8+RIbNnzG11/v4cUXo+nUqSu1atXCy8uLF1+M5Y47GvHjjyeYOnUyd93VhM6du/LZZ3FcunSJdes+xcPDgx9++J5q1aoB8Mc/voKvry8ffbSBK1dymD79WQIDg+jff2CF7rOWy0REKsjAgYMJCqpLrVq1GTVqLAkJW4Grn6YfPXo87u7utGvXEW/v6vz88ykAWrUKpXHjO7FYLNx5512Eh/fm0KH9ALi7u3PhwnnOnDmN1WqladNm1KjhQ2ZmBnv27OKZZ57D29sbX18/Bg8ezhdfxFf4PutIRkSkggQG1nU+DgqykZ6eDkDt2rVxd//fj2MvLy9ycrIBOHr037z77gJ++ukE+fn55Ofn061bDwAiIh4iLS2VV175Py5evEjv3n2YOHEyKSnJFBQUEBUV4ZzT4TAIDAyqiN0sRCEjIlJB0tL+9029qakp3HbbbaWOmTXr9wwcOJjXXnuLatWqMX/+65w/f/VT9+7u7owdO5GxYyeSnJzECy88w+23/462bTvi4eFJXFxCofCqDFouExGpIOvWrSEtLZULF86zfPlSevToVeqY7OxsatWqTbVq1Th27N98/vkWZ9uBA99w4sR/sNvt1KhRA6vVHTc3C7fddhthYW14++03uXz5Eg6Hg8TEMxw8uN/M3SuWjmRERCpIz54RTJv2FOnpZ+nYsQuPPTaOY8f+XeKY556L5u233+SNN+YSEtKK7t3DuXTpEgAZGen85S+vcvZsGt7e1enRoye9e1/9YOeLL8by7rsLGDlyMNnZlwkOrseIEY+Zvo+/pu+T+RV9n4yIFCcl5RR16/7uN49/5JG+REe/SOvWbcqxqor36/ehtO+T0XKZiIiYRiEjIiKmqVLnZH766SdiYmLIysqiTp06zJkzh4YNGxbqM336dL777jvn8++++46FCxfSo0cPFixYwMqVKwkMDASgVatWzJw5syJ3QUSkWP/4x6bKLqFSVKlzMqNGjWLgwIFERUWxceNG1q5dy/Lly6/Z/9tvv+Wxxx7jq6++wtPTkwULFpCdnU10dPRvrkHnZESkONd7TuZmccOek8nIyODYsWNERkYCEBkZybFjx8jMzLzmmH/84x/07dsXT0/PiipTRETKoMqETHJyMkFBQc6bt1mtVgIDA0lOTi62f15eHps2bWLgwML34fn000/p27cvY8eO5eDBg6bXLSIi11alzsmURUJCAsHBwTRr1sy5bejQoTzxxBN4eHiwa9cunnzySTZv3oyvr6/L85Z02Ccit660NAvu7lXm9/JKY7FYCAio6XL/KhMyNpuN1NRU7HY7VqsVu91OWloaNput2P5r164tchQTEBDgfNyhQwdsNhs//PADYWFhLtehczIiUhyHw0FBgaOyy6h0DoeDs2cvOp+Xdk6myoSMv78/zZo1Iy4ujqioKOLi4mjWrBl+fn5F+qakpLB//37eeOONQttTU1MJCrp6A7jjx4+TmJjIHXfcUSH1i8itp2YtL7yqeZT7vFdy87l44Uqp/ZYseY9Ro8bi4VG2Gr799hirV69k5szZv7VEl1Wpq8tOnDhBTEwMFy5coFatWsyZM4dGjRoxYcIEpkyZQosWLQBYtGgR33//PfPmzSs0Pjo6mqNHj2KxWPDw8GDKlCl06dKlTDXoSEZEilPc1WUBATUZPn1Fub/WyrkjCh0tXEvHjqHEx++gevXqhbYXFBSYdmPMsl5dVqVCpipQyIhIcapayLz++hzWr19D48Z34uZmwWazUbt2HX7++RTZ2dl88MFKZs16kZ9/PkV+fh716jVgxoyXqVWrFgcOfMPChfNZsuRvJCcnMX78o/Tr9zB79uziypUrxMS8zH333V/s696wlzCLiIjrnnvu6ucBFy1aygcfrMTHpyY//PA9r7++gA8+WAnAM888z5Ilf2P58tXccUcjVqz4sNi5zp8/T/PmLVm2bCVjxkzg3XffKrc6q8w5GRERuT5du/bA29vb+XzLljji47dQUJBPTs4VGjS4vdhx3t7V6dChEwD33tuCt99+s9xqUsiIiNwkqlf/X8D8618H2bBhLYsWLcXX15f4+C188sm6Ysd5ev7vwgGLxYLdXlBuNWm5TETkBlW9eg0uX75UbNvFixepUcOH2rVrk5eXx6efflLB1V2lI5kqyKzLIuXG5uplrVJxruTms3LuCFPmdcXQoSOYMuUJqlXzKvKZwrZt2xMf/xnDhj1M7dp1uP/+EI4dO1rutZZGV5f9SlW4usysK1bkxubqZa1iDt0g8ypdXSYiIlWGQkZEREyjkBEREdMoZERExDQKGRERMY1CRkRETKPPyYiI/Ea+tT1x96xW7vMW5OVy7nxeqf1+663+y2u8KxQyIiK/kbtnNfbPHV/u8z4w/X2g9JBZtuyvDBv26G8Oiesd7wqFjIjIDej11+cAMGnSWNzcLPz5z2/wwQd/5cSJH8jLyyMkJJSnn56K1Wpl6dLFJCRsxdOzGm5u8NZb77F48TuFxi9Y8B41a7r+tcquUsiIiNyAnnsumvXr17Bo0VKqV6/On//8B+6/vxUxMS/hcDiYNetFPv30E7p27c7HH69k48YtVKvmRXb2ZTw9qxUZbxaFjIjITWDnzh0cP36Ujz66ekuqK1euEBgYRI0aPtSr14A//GEmYWFtad++E9Wr16iwuhQyIiI3BYNXX32NevXqF2l5771lHDnyLw4c+IZx40by+usLuPPOuyqkKl3CLCJyg/rlrf47dOjM3//+IXa7HYCsrCySkhLJzr5MVlYWISEPMG7c4zRq1JgffzxRZLxZqtSRzE8//URMTAxZWVnUqVOHOXPm0LBhw0J9FixYwMqVKwkMDASgVatWzJw5E4CcnBxmzJjB0aNHsVqtREdH061bt4reDRGRCvHLW/3PmfMGf/vbMkaPHoabmxseHp5MmfIc7u7u/P7308nLy8XhcHD33U3p0qVbkfFmnfivUrf6HzVqFAMHDiQqKoqNGzeydu1ali9fXqjPggULyM7OJjo6usj4t99+m5SUFGbPns3JkycZMWIE8fHx1Kjh+vqjbvUvVZVu9V+5irvVf2V/TqYylPVW/1XmSCYjI4Njx46xbNkyACIjI/nDH/5AZmYmfn5+Ls3x2Wef8ec//xmAhg0b0rx5c3bs2EGfPn1Mq1tEbl1Xg6BqhkFVUWVCJjk5maCgIKxWKwBWq5XAwECSk5OLhMynn37Kzp07CQgI4OmnnyYkJASApKQk6tWr5+xns9lISUkpUx0lJbJIZQsIKP/lDHFNWpoFd3edxrZYLGX6d1hlQsZVQ4cO5YknnsDDw4Ndu3bx5JNPsnnzZnx9fctl/qqyXCZSHC2XVR6Hw0FBgaOyy6h0Doej0L/DG+abMW02G6mpqc4rI+x2O2lpaUW+tzogIMB5C4QOHTpgs9n44YcfAAgODiYxMdHZNzk5mbp161bQHojIza4KncKuFIbhANzKNKbKhIy/vz/NmjUjLi4OgLi4OJo1a1ZkqSw1NdX5+Pjx4yQmJnLHHXcAEBERwerVqwE4efIkR44coVOnThW0ByJyM3N39+Ty5Qu3ZNAYhkFBQT5ZWel4enqVaWyVWi575ZVXiImJ4Z133qFWrVrMmXP13jwTJkxgypQptGjRgjfeeIOjR49isVjw8PBg7ty5BAQEADBu3DhiYmLo2bMnFouF2NhYfHx0jkVErp+vbwDnzp3l0qWsyi6lUlgsVry9ffDxqV2mcVXqEuaqoKqck9ElzPJruoRZqqIb5pyMiIjcfBQyIiJiGoWMiIiYRiEjIiKmUciIiIhpFDIiImIahYyIiJhGISMiIqZRyIiIiGkUMiIiYhqFjIiImEYhIyIiplHIiIiIaRQyIiJiGoWMiIiYRiEjIiKmUciIiIhpFDIiImIa98ou4Jd++uknYmJiyMrKok6dOsyZM4eGDRsW6rNw4UI2b96MxWLBw8ODqVOn0qlTJwBiYmLYvXs3vr6+AERERDBp0qSK3g0REfn/yhQyO3fu5Pjx42RnZxfa/swzz5RLMTNnzmT48OFERUWxceNGXn75ZZYvX16oT8uWLRk7dize3t58++23jBw5kp07d+Ll5QXAxIkTGTlyZLnUIyIi18fl5bLY2FheeOEFjh49SkpKSqE/5SEjI4Njx44RGRkJQGRkJMeOHSMzM7NQv06dOuHt7Q1AkyZNMAyDrKyscqlBRETKl8tHMnFxcWzcuBGbzWZKIcnJyQQFBWG1WgGwWq0EBgaSnJyMn59fsWM2bNjA7bffTt26dZ3bli1bxurVq2nQoAHPPfccjRs3LlMd/v4+v30nREwWEFCzsksQKROXQ8bX15eaNavOP/B9+/Yxf/58li5d6tw2depUAgICsFgsbNiwgfHjx5OQkOAMLldkZFzC4TDMKNll+kEi13L27MXKLkGkEIvFrcRfzl1eLhszZgzPP/88Bw8e5PTp04X+lAebzUZqaip2ux0Au91OWlpasUdOBw8e5IUXXmDhwoU0atTIuT0oKAiL5eou9e/fn+zs7HJbzhMRkbJz+UjmlVdeAeDLL78stN3NzY3jx49fdyH+/v40a9aMuLg4oqKiiIuLo1mzZkWWyg4fPszUqVN56623uPfeewu1paamEhQUBMBXX32FxWJxPhcRkYrnZhhG5a4N/cKJEyeIiYnhwoUL1KpVizlz5tCoUSMmTJjAlClTaNGiBQMHDiQxMbFQeMydO5cmTZowevRoMjIycHNzw8fHh+nTp3P//feXqYaqslw2fPqKSq1Bqp6Vc0douUyqnNKWy8ocMklJSaSmplK3bl3TLgKoTAoZqaoUMlIVlRYyLi+XpaWlMW3aNA4dOkSdOnXIysrivvvu44033tCSlIiIFMvlE/+vvPIKTZs2Zd++fezcuZN9+/bRrFkzZs6caWZ9IiJyA3P5SGb//v3Mnz8fDw8PAKpXr8706dOdt3QRERH5NZePZGrXrs2JEycKbfvxxx+pVatWuRclIiI3B5ePZMaPH8/o0aN55JFHCA4OJikpiXXr1pXbfctEROTm43LIDB48mAYNGhAXF8d3331HYGAgr7/+Ou3atTOzPhERuYGV6S7M7dq1U6iIiIjLSgyZRYsWOb+PZf78+dfspyUzEREpTokh88v7fukeYCIiUlYlhsysWbOcj//0pz+ZXoyIiNxcXL6EOSwsrNjtOkcjIiLX4nLI5OfnF7vN4XCUa0EiInLzKPXqsuHDh+Pm5kZeXh4jRowo1JaSkkJISIhpxYmIyI2t1JAZNGgQhmFw5MgRHnnkEed2Nzc3/P39adu2rakFiojIjavUkBkwYAAA9913H40bNza9IBERuXm4/GHMxo0bk56ezuHDhzl37hy//BqaXx7hiIiI/JfLIZOQkMALL7zA7373O/7zn/9w55138sMPP9CqVSuFjIiIFMvlkHnzzTd59dVX6dOnD61bt2bDhg2sXbuW//znP2bWJyIiNzCXL2FOSkqiT58+hbYNGDCADRs2lFsxP/30E0OGDKF3794MGTKEkydPFuljt9uZNWsW4eHh9OzZkzVr1rjUJiIiFc/lkPH39yc9PR2AevXqcfDgQX7++edy/ZzMzJkzGT58OFu3bmX48OG8/PLLRfps2rSJn3/+mfj4eFavXs2CBQs4c+ZMqW0iIlLxXA6ZQYMGsX//fgBGjx7NqFGjiIqKYtiwYeVSSEZGBseOHSMyMhKAyMhIjh07RmZmZqF+mzdvZtCgQVgsFvz8/AgPD2fLli2ltomISMVz+ZzMxIkTnY/79+9PWFgYOTk55XZZc3JyMkFBQVitVgCsViuBgYEkJyfj5+dXqF9wcLDzuc1mc968s6Q2ERGpeGX6Pplf+uUP85uJv79PZZdAXr6dlXNHlN5Rbil2u4OAgJqVXYZImZQYMl26dMHNza3USb788svrLsRms5GamordbsdqtWK320lLS8NmsxXpl5SURMuWLYHCRy8ltbkqI+MSDodRekcREcFicSvxl/MSQ+Yvf/lLuRd0Lf7+/jRr1oy4uDiioqKIi4ujWbNmhZbKACIiIlizZg29evUiKyuLhIQEVqxYUWqbiIhUPDfjlx/dr2QnTpwgJiaGCxcuUKtWLebMmUOjRo2YMGECU6ZMoUWLFtjtdmJjY9m1axcAEyZMYMiQIQAltrlKRzIiIq4r7UjG5ZDJy8tj4cKFxMXFkZWVxf79+9m5cycnT55k5MiR5VZwZVPIiIi4rrSQcfkS5ldffZXvv/+e1157zXme5q677mLVqlXXX6WIiNyUynTvsvj4eKpXr47FcjWbgoKCSE1NNa04ERG5sbl8JOPh4YHdbi+0LTMzkzp16pR7USIicnNwOWQiIiKIjo7m9OnTAKSlpREbG8tDDz1kWnEiInJjczlkpk6dSv369enXrx8XLlygd+/eBAYGMnnyZDPrExGRG5hLV5fZ7XbefvttJk2ahKenJ5mZmfj6+rr0Qc0bja4uExFxXblcXWa1Wlm5ciXu7levE/Dz87spA0ZERMqXy8tl/fv31+XKIiJSJi5/GHPYsGEcPnyYoKAg6tatW+hI5ma6dYuWy0REXHdd9y77pcGDBzN48OByKUpERG4NLoWM3W5n3bp1LFmyBE9PT7NrEhGRm4TLJ/7PnDlDFbqXpoiI3ABcPvE/efJkZs6cSWJiIna7HYfD4fwjIiJSHJdP/Ddt2vTqgF+c8DcMAzc3N44fP25OdZVAJ/5FRFxXbif+v/jii3IpSEREbh0uh0y9evUAcDgcpKenc9tttznvxiwiIlIcl1Pi0qVLTNvXgxgAAA7gSURBVJ8+nZYtW9K5c2datmxJdHQ0Fy9eNLM+ERG5gbkcMrNnzyYnJ4dNmzZx+PBhNm3aRE5ODrNnzzazPhERuYG5fOK/Q4cOJCQk4O3t7dx2+fJlevbsye7du6+7kJycHGbMmMHRo0exWq1ER0fTrVu3Iv0SEhJ45513yMvLwzAMBg4cyNixYwFYt24dr776qnNpr379+ixcuLBMdejEv4iI68rtxH+1atXIzMx0/gAHOHfuXLl9OHPJkiX4+Pjw+eefc/LkSUaMGEF8fDw1atQo1C8gIIBFixYRFBTExYsXefjhh2nZsiWhoaEAtG/fnrfeeqtcahIRkevj8nLZI488wtixY1m1ahXbt29n1apVjBs3jkGDBpVLIZ999hlDhgwBoGHDhjRv3pwdO3YU6XffffcRFBQEQM2aNWncuDGJiYnlUoOIiJQvl49kJk2aRFBQEJs2bSItLY3AwEDGjx9fbiGTlJRU6CjJZrORkpJS4pgTJ05w6NAhZs2a5dy2b98+oqKi8PHxYcKECXTt2rVc6hMRkbJzOWT++Mc/8uCDD/LBBx84tx04cIA//vGP/P73vy91/IABA0hKSiq27bec00lLS+PJJ59k5syZziObrl278uCDD+Ll5cWxY8eYMGECy5cvp3Hjxi7PW9LaooiIlI3LIRMXF8f06dMLbWvevDmTJ092KWTWr19fYntwcDCJiYn4+fkBkJycTJs2bYrtm5GRwZgxYxg/fjx9+vRxbv/vWIB77rmHVq1acfjw4TKFjE78i4i4rly+GROu3k7m1/cp++89zMpDREQEq1evBuDkyZMcOXKETp06Fel37tw5xowZw4gRI4os1aWmpjofJyYmcujQIZo0aVIu9YmISNm5fCQTGhrK/PnzeeGFF7BYLDgcDhYsWOC8qut6jRs3jpiYGHr27InFYiE2NhYfn6vpOH/+fAIDAxk2bBiLFy/m5MmTrF692hlKo0aNYuDAgaxYsYIvvvgCq9UKwLRp07jnnnvKpT4RESk7lz8nk5KSwuOPP87Zs2cJDg4mOTmZgIAA3n33XerWrWt2nRVGy2UiIq4rbbnM5ZCBq/ctO3z4MMnJydhsNlq2bHnT3b9MISMi4rpyDZlbgUJGRMR15XbiX0REpKwUMiIiYhqFjIiImEYhIyIiplHIiIiIaRQyIiJiGoWMiIiYRiEjIiKmUciIiIhpFDIiImIahYyIiJhGISMiIqZRyIiIiGkUMiIiYhqFjIiImEYhIyIipnGv7AIAcnJymDFjBkePHsVqtRIdHU23bt2K9Nu7dy8TJ06kYcOGAHh6erJmzRpn+8KFC1m/fj0AAwYMYPLkyRVSv4iIFK9KhMySJUvw8fHh888/5+TJk4wYMYL4+Hhq1KhRpG/jxo1Zt25dke1ff/01W7ZsIS4uDoBBgwYRFhZG69atTa9fRESKVyWWyz777DOGDBkCQMOGDWnevDk7duwo0xybN2+mf//+eHl54eXlRf/+/dm8ebMZ5YqIiIuqRMgkJSVRr14953ObzUZKSkqxfU+ePMmAAQMYNGiQc2kMIDk5meDg4EJzJCcnm1e0iIiUqkKWywYMGEBSUlKxbbt373Z5nnvvvZft27dTs2ZNTp8+zZgxYwgKCqJ9+/blVSr+/j7lNpeIyK2uQkLml0ccxQkODiYxMRE/Pz/g6lFJmzZtivTz8flfADRo0IDw8HAOHDhA+/btsdlshYIsOTkZm81W5lozMi7hcBhlHiciciuyWNxK/OW8SiyXRUREsHr1auDqctiRI0fo1KlTkX5paWkYxtUAyMrKYteuXTRt2tQ5x4YNG7hy5QpXrlxhw4YN9OnTp+J2QkREiqgSV5eNGzeOmJgYevbsicViITY21nnUMn/+fAIDAxk2bBjx8fGsWrUKd3d37HY7/fv3Jzw8HIA2bdrQq1cvHnroIQD69+9PWFhYpe2TiIiAm/HfQwMBtFwmIlIWN8RymYiI3JwUMiIiYhqFjIiImEYhIyIiplHIiIiIaRQyIiJiGoWMiIiYRiEjIiKmUciIiIhpFDIiImIahYyIiJhGISMiIqZRyIiIiGkUMiIiYhqFjIiImEYhIyIiplHIiIiIaRQyIiJiGvfKLgAgJyeHGTNmcPToUaxWK9HR0XTr1q1Iv+XLl7N27Vrn89OnTzNo0CBmzJjB3r17mThxIg0bNgTA09OTNWvWVNQuiIhIMapEyCxZsgQfHx8+//xzTp48yYgRI4iPj6dGjRqF+o0aNYpRo0YBkJ+fT+fOnYmMjHS2N27cmHXr1lVo7SIicm1VYrnss88+Y8iQIQA0bNiQ5s2bs2PHjhLHbNu2jYCAAFq0aFERJYqIyG9QJUImKSmJevXqOZ/bbDZSUlJKHLN27VoefvjhQttOnjzJgAEDGDRoEOvXrzelVhERcV2FLJcNGDCApKSkYtt2795d5vnS0tLYs2cPf/rTn5zb7r33XrZv307NmjU5ffo0Y8aMISgoiPbt25dpbn9/nzLXIyIixauQkCntqCI4OJjExET8/PwASE5Opk2bNtfsv2HDBrp06eLsD+Dj879waNCgAeHh4Rw4cKDMIZORcQmHwyjTGBGRW5XF4lbiL+dVYrksIiKC1atXA1eXvI4cOUKnTp2u2X/t2rUMHDiw0La0tDQM42o4ZGVlsWvXLpo2bWpe0SIiUqoqcXXZuHHjiImJoWfPnlgsFmJjY51HJvPnzycwMJBhw4YBsH//frKzs+nYsWOhOeLj41m1ahXu7u7Y7Xb69+9PeHh4he+LiIj8j5vx31//BdBymYhIWdwQy2UiInJzUsiIiIhpFDIiImIahYyIiJhGISMiIqZRyIiIiGkUMiIiYhqFjIiImEYhIyIiplHIiIiIaRQyIiJiGoWMiIiYRiEjIiKmUciIiIhpFDIiImIahYyIiJhGISMiIqZRyIiIiGkUMiIiYpoqETIbN26kb9++3HPPPfz9738vse/HH39Mz549CQ8PJzY2FofD4VKbiIhUvCoRMs2aNWPevHlERkaW2O/06dO8/fbbrF69mvj4eE6dOsUnn3xSapuIiFQO98ouAODuu+8GwGIpOfO2bt1KeHg4fn5+AAwaNIh169bRv3//EtvKwmJx+w17ICJyayrtZ2aVCBlXJScnExwc7HweHBxMcnJyqW1l4etb4/oLFRERoIJCZsCAASQlJRXbtnv3bqxWa0WUISIiFaxCQmb9+vXlMo/NZisUVklJSdhstlLbRESkclSJE/+u6t27NwkJCWRmZuJwOFizZg19+vQptU1ERCqHm2EYRmUXERcXx9y5c7lw4QIeHh54e3uzdOlS7rzzTubPn09gYCDDhg0D4KOPPuL9998HoEOHDrz88svO5baS2kREpOJViZAREZGb0w21XCYiIjcWhYyIiJhGISMiIqZRyIiIiGkUMiJV2Jw5c+jevTtNmjTh+++/r+xyRMpMISNShfXo0YMVK1ZQr169yi5F5De5oe5dJnKrCQ0NrewSRK6LjmRERMQ0ChkRETGNQkZEREyjkBEREdPo3mUiVdjs2bOJj48nPT0dX19f6tSpw6efflrZZYm4TCEjIiKm0XKZiIiYRiEjIiKmUciIiIhpFDIiImIahYyIiJhGISNynWJiYpg3bx7ffPMNvXv3ruxyChk/fjzr16+v7DLkFqYbZIqUk9DQULZu3VrZZRTy/vvvV3YJcovTkYyIiJhGISNSRseOHWPAgAGEhITw7LPPkpubC8DevXvp3Lmzs1/37t15//336du3L/fffz//93//R3p6OuPHjyckJITRo0dz/vx5Z/9Dhw4xdOhQQkND6devH3v37nW2Pfroo7z55psMHTqUkJAQxo4dS2ZmJgC5ubk8//zztGnThtDQUAYOHEh6erpz3Jo1awBwOBy88847dOvWjXbt2jF9+nQuXrwIwJkzZ2jSpAnr16+na9eutGnThkWLFpn7RsotQSEjUgZ5eXlMnjyZqKgo9u3bR0REBPHx8dfsHx8fz7Jly9i6dSvbtm1jwoQJTJs2jT179uBwOPjb3/4GQGpqKo8//jiTJk1i3759REdHM2XKFGeQAMTFxfGnP/2Jf/7zn+Tn57N06VIA1q9fz6VLl/jyyy/Zu3cvs2bNwsvLq0gt69atY/369SxfvpyEhASys7OJjY0t1Gf//v1s2bKFDz/8kIULF3LixInyeNvkFqaQESmDf/3rX+Tn5/PYY4/h4eFBREQELVq0uGb/kSNHcttttxEUFERoaCgtW7bknnvuoVq1avTs2ZNjx44BsHHjRjp37kyXLl2wWCx06NCB5s2bs337dudcDz/8MHfccQdeXl5ERERw/PhxANzd3cnKyuLUqVNYrVaaN2+Oj49PkVo2bdrE6NGjadCgATVq1GDatGls3ryZgoICZ5+nnnoKLy8vmjZtStOmTfn222/L662TW5RO/IuUQVpaGkFBQbi5uTm3BQcHX7P/bbfd5nxcrVq1Qs+9vLzIzs4GICkpiS1btrBt2zZne0FBAW3atHE+DwgIcD729vZ2jo2KiiIlJYVp06Zx4cIF+vXrx9SpU/Hw8ChS+y+/xrlevXoUFBSQkZFRbL2/fA2R30ohI1IGAQEBpKamYhiGM2iSkpJo0KDBdc1rs9mIiopi9uzZZR7r4eHBU089xVNPPcWZM2eYOHEid9xxB4MGDSrULzAwkMTEROfzpKQk3N3d8ff3JyUl5brqF7kWLZeJlMH999+Pu7s7y5cvJz8/n/j4eI4cOXLd8/br149t27bx1VdfYbfbyc3NZe/evS798N+zZw/fffcddrsdHx8f3N3dsViK/teOjIzkww8/5PTp01y+fJl58+bRp08f3N31u6aYRyEjUgaenp4sWLCA9evXExYWxubNm+nZs+d1z2uz2XjnnXd47733aNeuHV26dGHJkiU4HI5Sx6anpzNlyhQeeOABHnzwQcLCwoiKiirSb+DAgfTr14+RI0fSo0cPPD09eemll667dpGS6PtkRETENDqSERER0yhkRETENAoZERExjUJGRERMo5ARERHTKGRERMQ0ChkRETGNQkZEREyjkBEREdP8PzOrtVclwSe9AAAAAElFTkSuQmCC\n",
                  "text/plain": "<Figure size 432x288 with 1 Axes>"
                },
                "metadata": {}
              },
              {
                "output_type": "display_data",
                "data": {
                  "image/png": "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\n",
                  "text/plain": "<Figure size 432x288 with 2 Axes>"
                },
                "metadata": {}
              }
            ],
            "_view_module": "@jupyter-widgets/output",
            "_model_module_version": "1.0.0",
            "_view_count": null,
            "_view_module_version": "1.0.0",
            "layout": "IPY_MODEL_12abc5621c7d48c9afc1418cfd5f2452",
            "_model_module": "@jupyter-widgets/output"
          }
        },
        "7eddd5452e7744abaecafb2c5fead94f": {
          "model_module": "@jupyter-widgets/controls",
          "model_name": "SliderStyleModel",
          "model_module_version": "1.5.0",
          "state": {
            "_view_name": "StyleView",
            "handle_color": null,
            "_model_name": "SliderStyleModel",
            "description_width": "initial",
            "_view_module": "@jupyter-widgets/base",
            "_model_module_version": "1.5.0",
            "_view_count": null,
            "_view_module_version": "1.2.0",
            "_model_module": "@jupyter-widgets/controls"
          }
        },
        "d6dbd61dbc5f434bb23afba97ce37772": {
          "model_module": "@jupyter-widgets/base",
          "model_name": "LayoutModel",
          "model_module_version": "1.2.0",
          "state": {
            "_view_name": "LayoutView",
            "grid_template_rows": null,
            "right": null,
            "justify_content": null,
            "_view_module": "@jupyter-widgets/base",
            "overflow": null,
            "_model_module_version": "1.2.0",
            "_view_count": null,
            "flex_flow": null,
            "width": null,
            "min_width": null,
            "border": null,
            "align_items": null,
            "bottom": null,
            "_model_module": "@jupyter-widgets/base",
            "top": null,
            "grid_column": null,
            "overflow_y": null,
            "overflow_x": null,
            "grid_auto_flow": null,
            "grid_area": null,
            "grid_template_columns": null,
            "flex": null,
            "_model_name": "LayoutModel",
            "justify_items": null,
            "grid_row": null,
            "max_height": null,
            "align_content": null,
            "visibility": null,
            "align_self": null,
            "height": null,
            "min_height": null,
            "padding": null,
            "grid_auto_rows": null,
            "grid_gap": null,
            "max_width": null,
            "order": null,
            "_view_module_version": "1.2.0",
            "grid_template_areas": null,
            "object_position": null,
            "object_fit": null,
            "grid_auto_columns": null,
            "margin": null,
            "display": null,
            "left": null
          }
        },
        "22ab22b2e0d64fafa316210d48498524": {
          "model_module": "@jupyter-widgets/controls",
          "model_name": "SliderStyleModel",
          "model_module_version": "1.5.0",
          "state": {
            "_view_name": "StyleView",
            "handle_color": null,
            "_model_name": "SliderStyleModel",
            "description_width": "initial",
            "_view_module": "@jupyter-widgets/base",
            "_model_module_version": "1.5.0",
            "_view_count": null,
            "_view_module_version": "1.2.0",
            "_model_module": "@jupyter-widgets/controls"
          }
        },
        "67ad838913b740c2be9f5f0b32f96342": {
          "model_module": "@jupyter-widgets/base",
          "model_name": "LayoutModel",
          "model_module_version": "1.2.0",
          "state": {
            "_view_name": "LayoutView",
            "grid_template_rows": null,
            "right": null,
            "justify_content": null,
            "_view_module": "@jupyter-widgets/base",
            "overflow": null,
            "_model_module_version": "1.2.0",
            "_view_count": null,
            "flex_flow": null,
            "width": null,
            "min_width": null,
            "border": null,
            "align_items": null,
            "bottom": null,
            "_model_module": "@jupyter-widgets/base",
            "top": null,
            "grid_column": null,
            "overflow_y": null,
            "overflow_x": null,
            "grid_auto_flow": null,
            "grid_area": null,
            "grid_template_columns": null,
            "flex": null,
            "_model_name": "LayoutModel",
            "justify_items": null,
            "grid_row": null,
            "max_height": null,
            "align_content": null,
            "visibility": null,
            "align_self": null,
            "height": null,
            "min_height": null,
            "padding": null,
            "grid_auto_rows": null,
            "grid_gap": null,
            "max_width": null,
            "order": null,
            "_view_module_version": "1.2.0",
            "grid_template_areas": null,
            "object_position": null,
            "object_fit": null,
            "grid_auto_columns": null,
            "margin": null,
            "display": null,
            "left": null
          }
        },
        "12abc5621c7d48c9afc1418cfd5f2452": {
          "model_module": "@jupyter-widgets/base",
          "model_name": "LayoutModel",
          "model_module_version": "1.2.0",
          "state": {
            "_view_name": "LayoutView",
            "grid_template_rows": null,
            "right": null,
            "justify_content": null,
            "_view_module": "@jupyter-widgets/base",
            "overflow": null,
            "_model_module_version": "1.2.0",
            "_view_count": null,
            "flex_flow": null,
            "width": null,
            "min_width": null,
            "border": null,
            "align_items": null,
            "bottom": null,
            "_model_module": "@jupyter-widgets/base",
            "top": null,
            "grid_column": null,
            "overflow_y": null,
            "overflow_x": null,
            "grid_auto_flow": null,
            "grid_area": null,
            "grid_template_columns": null,
            "flex": null,
            "_model_name": "LayoutModel",
            "justify_items": null,
            "grid_row": null,
            "max_height": null,
            "align_content": null,
            "visibility": null,
            "align_self": null,
            "height": null,
            "min_height": null,
            "padding": null,
            "grid_auto_rows": null,
            "grid_gap": null,
            "max_width": null,
            "order": null,
            "_view_module_version": "1.2.0",
            "grid_template_areas": null,
            "object_position": null,
            "object_fit": null,
            "grid_auto_columns": null,
            "margin": null,
            "display": null,
            "left": null
          }
        }
      }
    }
  },
  "cells": [
    {
      "cell_type": "markdown",
      "metadata": {
        "id": "view-in-github",
        "colab_type": "text"
      },
      "source": [
        "<a href=\"https://colab.research.google.com/github/jameschapman19/education-challenge/blob/main/CCA_Tutorial.ipynb\" target=\"_parent\"><img src=\"https://colab.research.google.com/assets/colab-badge.svg\" alt=\"Open In Colab\"/></a>"
      ]
    },
    {
      "cell_type": "markdown",
      "metadata": {
        "id": "h9McsiUZLsp0"
      },
      "source": [
        "# An interactive introduction to Multiview Learning with Canonical Correlation Analysis and Partial Least Squares using cca-zoo\n"
      ]
    },
    {
      "cell_type": "markdown",
      "metadata": {
        "id": "UmQifwjwI1mh"
      },
      "source": [
        "## Table of Contents\n",
        "1. [Objective of the Tutorial](#obj)\n",
        "2. [Set-up](#set-up)\n",
        "3. [Introduction to multiview machine learning](#mv)\n",
        "  *   [Machine Learning Framework](#mlframework)\n",
        "  *   [Latent Variable Models](#lv)\n",
        "4. [Simulating Data](#datagen)\n",
        "5. [Overfitting and Sample Size](#samplesize)\n",
        "6. [Ridge Regularisation: From CCA to PLS](#ridge)\n",
        "7. [Lasso Regularisation](#lasso)\n",
        "  *   [Sparse Partial Least Squares](#spls)\n",
        "  *   [Sparse Canonical Correlation Analysis](#scca)\n",
        "8. [Application: a neuroimaging case study](#haxby)\n",
        "  *   [Regularised CCA](#rccahaxby)\n",
        "  *   [Sparse Partial Least Squares](#splshaxby)\n",
        "  *   [Sparse Canonical Correlation Analysis](#sccahaxby)\n",
        "9. [Conclusion](#conclusion)\n",
        "10. [References](#references)"
      ]
    },
    {
      "cell_type": "markdown",
      "metadata": {
        "id": "WoKA75AsKSTp"
      },
      "source": [
        "## Objective <a name=\"Set-up\"></a>\n",
        "With the large multiview and multimodal datasets available in medical imaging and healthcare informatics, there is a strong need for multivariate statistical and machine learning methods which can capture relationships across different views of data.\n",
        "\n",
        "Canonical correlation analysis and partial least squares are arguably the two most commonly used methods in modelling two-view data with latent variable models. Extensions to these methods have included Generalized CCA (and Multiset CCA) which can capture relationships between more than 2 views and various forms of regularised CCA and PLS.\n",
        "\n",
        "This tutorial has three main aims \n",
        "\n",
        "*   to give an interactive and visual introduction to CCA and PLS and to demonstrate the effect and benefits of using regularised versions of these classical methods\n",
        "*   to demonstrate how we might use these methods in a neuroimaging example\n",
        "*   to introduce cca-zoo, an open source python package containing implementations of this family of algorithms. The source code is available at https://github.com/jameschapman19/cca_zoo and documentation at https://cca-zoo.readthedocs.io/en/latest/index.html"
      ]
    },
    {
      "cell_type": "markdown",
      "metadata": {
        "id": "Jp_CSLIvJKBJ"
      },
      "source": [
        "## Set-up <a name=\"set-up\"></a>\n",
        "This tutorial depends on the package cca-zoo and nilearn for a simulated neuroimaging example.\n",
        "\n",
        "In order to make use of the interactive elements, the notebook should be run in a google colab instance."
      ]
    },
    {
      "cell_type": "markdown",
      "metadata": {
        "id": "mvcwPQARKlkY"
      },
      "source": [
        "### Installation and Imports"
      ]
    },
    {
      "cell_type": "code",
      "metadata": {
        "colab": {
          "base_uri": "https://localhost:8080/"
        },
        "id": "0OhyKPp0Lwit",
        "cellView": "form",
        "outputId": "43d9b5c7-0804-41e3-f9d1-22ea7c0de4f0"
      },
      "source": [
        "# @markdown Execute this cell to install cca-zoo and nilearn\n",
        "!pip install cca-zoo --upgrade\n",
        "!pip install nilearn"
      ],
      "execution_count": 1,
      "outputs": [
        {
          "output_type": "stream",
          "name": "stdout",
          "text": [
            "Collecting cca-zoo\n",
            "  Downloading cca_zoo-1.8.0-py3-none-any.whl (68 kB)\n",
            "\u001b[K     |████████████████████████████████| 68 kB 4.8 MB/s \n",
            "\u001b[?25hCollecting tensorly\n",
            "  Downloading tensorly-0.6.0-py3-none-any.whl (160 kB)\n",
            "\u001b[K     |████████████████████████████████| 160 kB 31.6 MB/s \n",
            "\u001b[?25hRequirement already satisfied: scikit-learn in /usr/local/lib/python3.7/dist-packages (from cca-zoo) (0.22.2.post1)\n",
            "Requirement already satisfied: matplotlib in /usr/local/lib/python3.7/dist-packages (from cca-zoo) (3.2.2)\n",
            "Requirement already satisfied: seaborn in /usr/local/lib/python3.7/dist-packages (from cca-zoo) (0.11.2)\n",
            "Requirement already satisfied: pandas in /usr/local/lib/python3.7/dist-packages (from cca-zoo) (1.1.5)\n",
            "Collecting mvlearn\n",
            "  Downloading mvlearn-0.4.1-py3-none-any.whl (2.1 MB)\n",
            "\u001b[K     |████████████████████████████████| 2.1 MB 81.4 MB/s \n",
            "\u001b[?25hRequirement already satisfied: numpy in /usr/local/lib/python3.7/dist-packages (from cca-zoo) (1.19.5)\n",
            "Collecting scipy>=1.7\n",
            "  Downloading scipy-1.7.1-cp37-cp37m-manylinux_2_5_x86_64.manylinux1_x86_64.whl (28.5 MB)\n",
            "\u001b[K     |████████████████████████████████| 28.5 MB 50 kB/s \n",
            "\u001b[?25hRequirement already satisfied: joblib in /usr/local/lib/python3.7/dist-packages (from cca-zoo) (1.0.1)\n",
            "Requirement already satisfied: kiwisolver>=1.0.1 in /usr/local/lib/python3.7/dist-packages (from matplotlib->cca-zoo) (1.3.2)\n",
            "Requirement already satisfied: pyparsing!=2.0.4,!=2.1.2,!=2.1.6,>=2.0.1 in /usr/local/lib/python3.7/dist-packages (from matplotlib->cca-zoo) (2.4.7)\n",
            "Requirement already satisfied: cycler>=0.10 in /usr/local/lib/python3.7/dist-packages (from matplotlib->cca-zoo) (0.10.0)\n",
            "Requirement already satisfied: python-dateutil>=2.1 in /usr/local/lib/python3.7/dist-packages (from matplotlib->cca-zoo) (2.8.2)\n",
            "Requirement already satisfied: six in /usr/local/lib/python3.7/dist-packages (from cycler>=0.10->matplotlib->cca-zoo) (1.15.0)\n",
            "Requirement already satisfied: pytz>=2017.2 in /usr/local/lib/python3.7/dist-packages (from pandas->cca-zoo) (2018.9)\n",
            "Collecting nose\n",
            "  Downloading nose-1.3.7-py3-none-any.whl (154 kB)\n",
            "\u001b[K     |████████████████████████████████| 154 kB 86.6 MB/s \n",
            "\u001b[?25hInstalling collected packages: scipy, nose, tensorly, mvlearn, cca-zoo\n",
            "  Attempting uninstall: scipy\n",
            "    Found existing installation: scipy 1.4.1\n",
            "    Uninstalling scipy-1.4.1:\n",
            "      Successfully uninstalled scipy-1.4.1\n",
            "\u001b[31mERROR: pip's dependency resolver does not currently take into account all the packages that are installed. This behaviour is the source of the following dependency conflicts.\n",
            "albumentations 0.1.12 requires imgaug<0.2.7,>=0.2.5, but you have imgaug 0.2.9 which is incompatible.\u001b[0m\n",
            "Successfully installed cca-zoo-1.8.0 mvlearn-0.4.1 nose-1.3.7 scipy-1.7.1 tensorly-0.6.0\n",
            "Collecting nilearn\n",
            "  Downloading nilearn-0.8.1-py3-none-any.whl (10.0 MB)\n",
            "\u001b[K     |████████████████████████████████| 10.0 MB 9.9 MB/s \n",
            "\u001b[?25hRequirement already satisfied: requests>=2 in /usr/local/lib/python3.7/dist-packages (from nilearn) (2.23.0)\n",
            "Requirement already satisfied: scikit-learn>=0.21 in /usr/local/lib/python3.7/dist-packages (from nilearn) (0.22.2.post1)\n",
            "Requirement already satisfied: joblib>=0.12 in /usr/local/lib/python3.7/dist-packages (from nilearn) (1.0.1)\n",
            "Requirement already satisfied: numpy>=1.16 in /usr/local/lib/python3.7/dist-packages (from nilearn) (1.19.5)\n",
            "Requirement already satisfied: scipy>=1.2 in /usr/local/lib/python3.7/dist-packages (from nilearn) (1.7.1)\n",
            "Requirement already satisfied: nibabel>=2.5 in /usr/local/lib/python3.7/dist-packages (from nilearn) (3.0.2)\n",
            "Requirement already satisfied: pandas>=0.24.0 in /usr/local/lib/python3.7/dist-packages (from nilearn) (1.1.5)\n",
            "Requirement already satisfied: python-dateutil>=2.7.3 in /usr/local/lib/python3.7/dist-packages (from pandas>=0.24.0->nilearn) (2.8.2)\n",
            "Requirement already satisfied: pytz>=2017.2 in /usr/local/lib/python3.7/dist-packages (from pandas>=0.24.0->nilearn) (2018.9)\n",
            "Requirement already satisfied: six>=1.5 in /usr/local/lib/python3.7/dist-packages (from python-dateutil>=2.7.3->pandas>=0.24.0->nilearn) (1.15.0)\n",
            "Requirement already satisfied: urllib3!=1.25.0,!=1.25.1,<1.26,>=1.21.1 in /usr/local/lib/python3.7/dist-packages (from requests>=2->nilearn) (1.24.3)\n",
            "Requirement already satisfied: chardet<4,>=3.0.2 in /usr/local/lib/python3.7/dist-packages (from requests>=2->nilearn) (3.0.4)\n",
            "Requirement already satisfied: idna<3,>=2.5 in /usr/local/lib/python3.7/dist-packages (from requests>=2->nilearn) (2.10)\n",
            "Requirement already satisfied: certifi>=2017.4.17 in /usr/local/lib/python3.7/dist-packages (from requests>=2->nilearn) (2021.5.30)\n",
            "Installing collected packages: nilearn\n",
            "Successfully installed nilearn-0.8.1\n"
          ]
        }
      ]
    },
    {
      "cell_type": "code",
      "metadata": {
        "id": "h9PE1A0fS266",
        "cellView": "form",
        "outputId": "a0721bda-31cf-4e5e-bbf4-506dee0c3fa1",
        "colab": {
          "base_uri": "https://localhost:8080/"
        }
      },
      "source": [
        "# @markdown Execute this cell to import modules\n",
        "import ipywidgets as widgets\n",
        "import seaborn as sns\n",
        "from cca_zoo.models import rCCA, PMD, SCCA\n",
        "from cca_zoo.data import generate_covariance_data\n",
        "import numpy as np\n",
        "import pandas as pd\n",
        "from sklearn.model_selection import train_test_split\n",
        "import matplotlib.pyplot as plt\n",
        "from nilearn import datasets\n",
        "from nilearn.image import index_img\n",
        "from nilearn.input_data import NiftiMasker\n",
        "from nilearn.plotting import view_img\n",
        "from sklearn.preprocessing import OneHotEncoder\n",
        "from nilearn.plotting import plot_stat_map, show\n",
        "from sklearn.model_selection import train_test_split\n",
        "np.random.seed(42)\n",
        "sns.set(font_scale=1)"
      ],
      "execution_count": 2,
      "outputs": [
        {
          "output_type": "stream",
          "name": "stderr",
          "text": [
            "/usr/local/lib/python3.7/dist-packages/nilearn/datasets/__init__.py:96: FutureWarning: Fetchers from the nilearn.datasets module will be updated in version 0.9 to return python strings instead of bytes and Pandas dataframes instead of Numpy arrays.\n",
            "  \"Numpy arrays.\", FutureWarning)\n"
          ]
        }
      ]
    },
    {
      "cell_type": "markdown",
      "metadata": {
        "id": "TMApL_uRnguy"
      },
      "source": [
        "### Plotting Helpers\n",
        "We will use a number of standard figures to visualise the results of models used throughout this notebook"
      ]
    },
    {
      "cell_type": "code",
      "metadata": {
        "id": "MieUEzyKS0eA",
        "cellView": "form"
      },
      "source": [
        "# @markdown Execute this cell to access plotting functions\n",
        "def plot_latent_train_test(train_scores, test_scores, title='Projections of data in latent space'):\n",
        "    train_data = pd.DataFrame(\n",
        "        {'phase': np.asarray(['train'] * train_scores[0].shape[0]).astype(str)})\n",
        "    x_vars=[f'View 1 dimension {f}' for f in range(1,train_scores[0].shape[1]+1)]\n",
        "    y_vars=[f'View 2 dimension {f}' for f in range(1,train_scores[1].shape[1]+1)]\n",
        "    train_data[x_vars] = train_scores[0]\n",
        "    train_data[y_vars] = train_scores[1]\n",
        "    test_data = pd.DataFrame(\n",
        "        {'phase': np.asarray(['test'] * test_scores[0].shape[0]).astype(str)})\n",
        "    test_data[x_vars] = test_scores[0]\n",
        "    test_data[y_vars] = test_scores[1]\n",
        "    data = pd.concat([train_data, test_data], axis=0)\n",
        "    cca_pp = sns.pairplot(data, hue='phase',x_vars=x_vars,y_vars=y_vars, corner=True)\n",
        "    cca_pp.fig.set_size_inches(10,5)\n",
        "    if title:\n",
        "      cca_pp.fig.suptitle(title)\n",
        "    return cca_pp\n",
        "\n",
        "def plot_train_test_corrs(train_scores, test_scores, title='Train vs Test correlations'):\n",
        "    latent_dims=train_scores[0].shape[1]\n",
        "    train_corrs=np.diag(np.corrcoef(train_scores[0],train_scores[1],rowvar=False)[:latent_dims,latent_dims:])\n",
        "    test_corrs=np.diag(np.corrcoef(test_scores[0],test_scores[1],rowvar=False)[:latent_dims,latent_dims:])\n",
        "    train_corr_data=pd.DataFrame({'correlation':train_corrs,'dimension':np.arange(latent_dims)+1,'phase': np.asarray(['train'] * latent_dims).astype(str)})\n",
        "    test_corr_data=pd.DataFrame({'correlation':test_corrs,'dimension':np.arange(latent_dims)+1,'phase': np.asarray(['test'] * latent_dims).astype(str)})\n",
        "    corr_data = pd.concat([train_corr_data, test_corr_data], axis=0)\n",
        "    # setting the dimensions of the plot\n",
        "    fig2, ax = plt.subplots()\n",
        "    cca_bp=sns.barplot(x=\"dimension\", y=\"correlation\", hue=\"phase\", data=corr_data,ax=ax)\n",
        "    cca_bp.set_ylim(bottom=-1, top=1)\n",
        "    if title:\n",
        "      cca_bp.set_title(title)\n",
        "    return cca_bp\n",
        "\n",
        "def plot_true_weights_coloured(ax, weights, true_weights=None, title=''):\n",
        "    if true_weights is None:\n",
        "      true_weights=np.ones(len(weights))\n",
        "    ind = np.arange(len(true_weights))\n",
        "    mask = np.squeeze(true_weights == 0)\n",
        "    ax.scatter(ind[~mask], weights[~mask], c='b',label='Non-Zero')\n",
        "    ax.scatter(ind[mask], weights[mask], c='r',label='Zero')\n",
        "    ax.set_title(title)\n",
        "\n",
        "def plot_model_weights(wx,wy,tx=None,ty=None, title='Model weights vs. True weights'):\n",
        "    if tx is None and ty is None:\n",
        "      fig,axs=plt.subplots(1,2)\n",
        "      plot_true_weights_coloured(axs[0],wx,title='model view 1 weights')\n",
        "      plot_true_weights_coloured(axs[1],wy,title='model view 2 weights')\n",
        "      axs[1].legend()\n",
        "    else:\n",
        "      fig,axs=plt.subplots(2,2,sharex=True,sharey=True)\n",
        "      plot_true_weights_coloured(axs[0,0],tx,tx,title='true view 1 weights')\n",
        "      plot_true_weights_coloured(axs[0,1],ty,ty,title='true view 2 weights')\n",
        "      plot_true_weights_coloured(axs[1,0],wx,tx,title='model view 1 weights')\n",
        "      plot_true_weights_coloured(axs[1,1],wy,ty,title='model view 2 weights')\n",
        "      axs[0,1].legend()\n",
        "    plt.tight_layout()\n",
        "    return fig"
      ],
      "execution_count": 3,
      "outputs": []
    },
    {
      "cell_type": "markdown",
      "metadata": {
        "id": "cqonSYEbE4c6"
      },
      "source": [
        "## Introduction to Multivariate Machine Learning <a name=\"mv\"></a>"
      ]
    },
    {
      "cell_type": "markdown",
      "metadata": {
        "id": "hhiQ_Yg8qc1b"
      },
      "source": [
        "### Latent Variable Models <a name=\"lv\"></a>\n",
        "Latent variable models assume that the two views of data are derived from some shared latent (unobserved) variables. For neuroimaging and behaviour studies we might expect an underlying health condition to influence both an MRI scan of a patient and data relating to their behaviour.\n",
        "\n",
        "PLS and CCA models work by projecting the observed data from each view into latent variables for each view that are highly correlated. These can be interpeted as estimates of the true latent variable. Often in neuroimaging studies the biggest components can be shown to be related to variables like Age, Scanner Type and Gender.\n",
        "\n",
        "![Latent Variable Model of Brain-Behaviour data](https://raw.githubusercontent.com/jameschapman19/education-challenge/main/image.png)"
      ]
    },
    {
      "cell_type": "markdown",
      "metadata": {
        "id": "SmxsMVGQ6VV2"
      },
      "source": [
        "### Optimisation Problems\n",
        "Partial Least Squares and Canonical Correlation Analysis share the same objective function (maximising covariance between the projections of each view). The difference is that PLS constrains the variance of the weights (their 2 norm) whereas CCA constrains the variance of the projections."
      ]
    },
    {
      "cell_type": "markdown",
      "metadata": {
        "id": "-NDpDlMDdCqj"
      },
      "source": [
        "#### Partial Least Squares\n",
        "$w_{opt}=\\underset{w}{\\mathrm{argmax}}\\{ w_1^TX_1^TX_2w_2  \\}$\n",
        "\n",
        "$\\text{subject to:}$\n",
        "\n",
        "$\\|w_1\\|_2=1$,\n",
        "$\\|w_2\\|_2=1$"
      ]
    },
    {
      "cell_type": "markdown",
      "metadata": {
        "id": "BdAh2shKdhKr"
      },
      "source": [
        "#### Canonical Correlation Analysis\n",
        "$w_{opt}=\\underset{w}{\\mathrm{argmax}}\\{ w_1^TX_1^TX_2w_2  \\}$\n",
        "\n",
        "$\\text{subject to:}$\n",
        "\n",
        "$\\|X_1w_1\\|_2=1$\n",
        "\n",
        "$\\|X_2w_2\\|_2=1$\n",
        "\n",
        "\n",
        "The result of these optimisations is that PLS is much more biased towards the largest principal components in the data whereas CCA is sensitive to high correlations, even if they only explain small ammounts of the data.\n",
        "\n",
        "Also notice that in the special case where the covariance matrices for each view ($X_1^TX_1$ and $X_2^TX_2$) are identity matrices $I$, the CCA and PLS problems are identical (since $\\|X_iw_i\\|_2=w_i^TX_i^TX_iw_i=w_i^Tw_i$)."
      ]
    },
    {
      "cell_type": "markdown",
      "metadata": {
        "id": "2YYL_xght8Dk"
      },
      "source": [
        "#### Relationship to PCA\n",
        "It is interesting to compare these objectives to the more familiar principal components analysis. In PCA, we find weights that project the data in directions that maximise variance. If our two views are the same then PLS is exactly the same model as PCA!\n",
        "\n",
        "$w_{opt}=\\underset{w}{\\mathrm{argmax}}\\{ w^TX^TXw  \\}$\n",
        "\n",
        "$\\text{subject to:}$\n",
        "\n",
        "$\\|w\\|_2=1$,"
      ]
    },
    {
      "cell_type": "markdown",
      "metadata": {
        "id": "_irxVD8gTY68"
      },
      "source": [
        "### Machine Learning Framework <a name=\"mlframework\"></a>\n",
        "\n",
        "In a machine learning framework, we are primarily interested in the generalization of a model to data not used in the training process. In this tutorial we will generate simulated data which we will split into train and test data to demonstrate how different models generalize.\n",
        "\n",
        "![Framework](https://raw.githubusercontent.com/jameschapman19/education-challenge/main/image2.png)"
      ]
    },
    {
      "cell_type": "markdown",
      "metadata": {
        "id": "on2NP1JlnmCf"
      },
      "source": [
        "### Simulated Data <a name=\"datagen\"></a>\n",
        "We will use a joint multivariate normal distribution to generate two views of data: view 1 and view 2. This method, described in detail by Helmer et al [1], allows us to control:\n",
        "\n",
        "*   Number of training samples\n",
        "*   Number of test samples\n",
        "*   Number of features in view 1\n",
        "*   Number of features in view 2\n",
        "*   Level of sparsity in view 1 (fraction of variables from view 1 involved in correlation)\n",
        "*   Level of sparsity in view 2 (fraction of variables from view 2 involved in correlation)\n",
        "\n",
        "As well as the strength of the population correlation and the covariance structure within each view. We assume that the underlying correlation is perfect (1) and that the within-view variance is identity.\n",
        "\n",
        "This data generation process is also equivalent to a latent variable model where view 1 and view 2 are conditionally independent given some latent variable Z."
      ]
    },
    {
      "cell_type": "code",
      "metadata": {
        "id": "CQ_1X7_inoCH",
        "colab": {
          "base_uri": "https://localhost:8080/",
          "height": 524,
          "referenced_widgets": [
            "51440888438c4b5c88ef5aa1d11f28ac",
            "7998ab630a404ae68a8fc7d04e1867bf",
            "4b073481e6f2417e89d78a7e00bebb30",
            "deb2554594b54b6598aabc3bdde00eec",
            "b59d719330be4eb8b44752d04823c1f8",
            "4aba134d30d4421bb6cdb6fbc1d5f393",
            "f0852dcbef6e47b58cf6d64447c66e82",
            "2fa5f6eae8c2481f9921e484c979f608",
            "35011900c2c14778bc50c98ca6a29cad",
            "c4c201259b4d4379bf889d732c796414",
            "72910d7a8f18459db60ab7f1708bec46",
            "06b5a631e31d4ce4ad3b11d948ef1f08",
            "11f4362549774c0594c39a08736134ba",
            "2d8ee5e900da4e319959bd258716077d",
            "9432142c75f6493d827a87dec0bcf1d1",
            "996dd8606ef94eddb8243f6857beab12",
            "992f77c5544c44c58115f07b53bf45e7",
            "41eb92b0f4934f4a9ab06b61725cf6b0",
            "c900e24e64b74da1b670a841660f799d",
            "2aa13220ecc442c99952678e769084cd",
            "ca2e790b77c44fe198493eb521043787",
            "07b00f457f6e4e378ede32932c011526"
          ]
        },
        "cellView": "form",
        "outputId": "e492fb77-9c08-4e07-89cf-e3605d6c1194"
      },
      "source": [
        "# @markdown Execute this cell to choose data parameters! You can see the projections of the generated data using the true weights. These should have almost perfect correlations in both the training and test data.\n",
        "style = {'description_width': 'initial'}\n",
        "\n",
        "N_train= widgets.IntSlider(value=100,min=10,max=500,description='Train Samples',style=style,continuous_update=False)\n",
        "N_test= widgets.IntSlider(value=100,min=10,max=500,description='Test Samples',style=style,continuous_update=False)\n",
        "X_features=widgets.IntSlider(value=60,min=10,max=500,description='View 1 features',style=style,continuous_update=False)\n",
        "Y_features=widgets.IntSlider(value=60,min=10,max=500,description='View 2 features',style=style,continuous_update=False)\n",
        "view_1_sparsity=widgets.FloatSlider(value=0.5,min=0,max=1,description='View 1 Sparsity',style=style,continuous_update=False)\n",
        "view_2_sparsity=widgets.FloatSlider(value=0.5,min=0,max=1,description='View 2 Sparsity',style=style,continuous_update=False)\n",
        "\n",
        "def generate_data(N_train,N_test,X_features,Y_features, view_1_sparsity, view_2_sparsity):\n",
        "    (X,Y),(tx,ty)=generate_covariance_data(N_train+N_test,view_features=[X_features,Y_features],latent_dims=1,correlation=1, view_sparsity=[view_1_sparsity, view_2_sparsity])\n",
        "    X_tr,X_te,Y_tr,Y_te=train_test_split(X,Y,train_size=N_train)\n",
        "    plot_latent_train_test(np.stack((X_tr@tx,Y_tr@ty)), np.stack((X_te@tx,Y_te@ty)), title='Projections of data in latent space using true model weights')\n",
        "    return (X_tr,X_te,Y_tr,Y_te,tx,ty)\n",
        "\n",
        "out=widgets.interactive(generate_data, N_train=N_train,N_test=N_test,X_features=X_features,Y_features=Y_features,view_1_sparsity=view_1_sparsity,view_2_sparsity=view_2_sparsity)\n",
        "display(out)"
      ],
      "execution_count": 4,
      "outputs": [
        {
          "output_type": "display_data",
          "data": {
            "application/vnd.jupyter.widget-view+json": {
              "model_id": "51440888438c4b5c88ef5aa1d11f28ac",
              "version_minor": 0,
              "version_major": 2
            },
            "text/plain": [
              "interactive(children=(IntSlider(value=100, continuous_update=False, description='Train Samples', max=500, min=…"
            ]
          },
          "metadata": {}
        }
      ]
    },
    {
      "cell_type": "markdown",
      "metadata": {
        "id": "7bQazPYUFtVD"
      },
      "source": [
        "## Overfitting and Sample Size <a name=\"samplesize\"></a>\n",
        "When the sample size is smaller than the number of features, CCA will overfit the data (you can try this by changing the data parameters). Visually, CCA overfitting looks like all the training samples are projected with perfect correlation but the test samples are almost completely uncorrelated. The intuition behind this is that there will be at least one spurious relationship when the data are not full rank.\n",
        "\n",
        "PLS on the other hand is always well-posed even when the number of samples is less than the number of features. However since PLS maximises covariance rather than correlation, the correlation of the latent variables in the training data is typically much lower. "
      ]
    },
    {
      "cell_type": "code",
      "metadata": {
        "colab": {
          "base_uri": "https://localhost:8080/",
          "height": 389,
          "referenced_widgets": [
            "f555b05d380243fe91b76250463dfdcd",
            "3ca4b047a20148898398843e8824ec76",
            "8aa3c776f023423a92730a60be1036f1",
            "67289f54b4e240e78bc2832d27e69f26",
            "311ea0c41d534481abbc8de6dc3dea39",
            "ff6afc728d934087b8d50571f91c267c",
            "984ae12c54df4bb0aa6f0f5877f6bbfe"
          ]
        },
        "id": "p8Yy3n_mPsJI",
        "outputId": "0c54a678-a04f-49c5-f69a-387f202f99b9"
      },
      "source": [
        "# @markdown Execute this cell to toggle between CCA and PLS models (you may need to toggle when you change the data!)\n",
        "X_tr,X_te,Y_tr,Y_te, tx,ty=out.result\n",
        "tog=widgets.ToggleButtons(\n",
        "    options=['CCA', 'PLS'],\n",
        "    description='Model:',\n",
        "    disabled=False,\n",
        "    button_style='', # 'success', 'info', 'warning', 'danger' or ''\n",
        ")\n",
        "def interactive_cca(tog):\n",
        "  if tog=='CCA':\n",
        "    rcca=rCCA(latent_dims=1,c=1e-9).fit([X_tr,Y_tr])\n",
        "  elif tog=='PLS':\n",
        "    rcca=rCCA(latent_dims=1,c=1).fit([X_tr,Y_tr])\n",
        "  test_scores=rcca.transform([X_te,Y_te])\n",
        "  plot_latent_train_test(rcca.scores,test_scores)\n",
        "\n",
        "plot_widget=widgets.interactive(interactive_cca,tog=tog)\n",
        "display(plot_widget)"
      ],
      "execution_count": 5,
      "outputs": [
        {
          "output_type": "display_data",
          "data": {
            "application/vnd.jupyter.widget-view+json": {
              "model_id": "f555b05d380243fe91b76250463dfdcd",
              "version_minor": 0,
              "version_major": 2
            },
            "text/plain": [
              "interactive(children=(ToggleButtons(description='Model:', options=('CCA', 'PLS'), value='CCA'), Output()), _do…"
            ]
          },
          "metadata": {}
        }
      ]
    },
    {
      "cell_type": "markdown",
      "metadata": {
        "id": "jDWExSvJKvfv"
      },
      "source": [
        "## Ridge Regularised CCA: from CCA to PLS <a name=\"ridge\"></a>\n",
        "\n",
        "Given that PLS has an effect that is similar to ridge regularisation, a natural extension is to mix CCA and PLS to control this regularisation effect. Vinod proposed the Canonical Ridge model [2] which combines the constraints from the two models with mixing parameters $c_1$ and $c_2$ which make the model more or less CCA-like or PLS-like.\n",
        "\n",
        "$w_{opt}=\\underset{w}{\\mathrm{argmax}}\\{ w_1^TX_1^TX_2w_2  \\}$\n",
        "\n",
        "$\\text{subject to:}$\n",
        "\n",
        "$(1-c_1)\\|X_1w_1\\|_2+c_1\\|w_1\\|_2=1$\n",
        "\n",
        "$(1-c_2)\\|X_2w_2\\|_2+c_2\\|w_2\\|_2=1$\n",
        "\n",
        "In the next interactive widget, you can vary $c_1$ and $c_2$ yourself. The plots are provided to help visualise:\n",
        "\n",
        "*   The projections into latent space\n",
        "*   The train and test correlations\n",
        "*   The model weights vs. the true weights"
      ]
    },
    {
      "cell_type": "code",
      "metadata": {
        "colab": {
          "base_uri": "https://localhost:8080/",
          "height": 652,
          "referenced_widgets": [
            "e94587f230824ba8897ac41915a21048",
            "df6ce3df3e2c400a89e920681c0dbfc0",
            "d050946ccb67437b94c8a3987033fa2b",
            "18edf41f48f3491a943e911893955630",
            "7968f2dfb8fa4b1fa6ac96e2bab1220a",
            "f34a18a3e6b1419fb866f1c7f243998b",
            "15197f2459a341f8bb0b67ac1c1f1455",
            "2146004fb1f942de92dda5f8242f0fd9",
            "cfcdddb4dd7341ddb190c3f26539539a",
            "98dfd432f64a4cebb3292dc59598ca9f"
          ]
        },
        "id": "AmfuhADyLyrz",
        "outputId": "2d244abe-8bbc-4924-9123-77e39f5a33f5"
      },
      "source": [
        "# @markdown Execute this cell to change model regularisation (there's a bit of a lag as the model needs to fit in the background!)\n",
        "X_tr,X_te,Y_tr,Y_te, tx,ty=out.result\n",
        "style = {'description_width': 'initial'}\n",
        "cx=widgets.FloatLogSlider(base=10,value=-1, min=-10, max=0,description='cx',readout=True,readout_format='.9f',style=style,continuous_update=False)\n",
        "cy=widgets.FloatLogSlider(base=10,value=-1, min=-10, max=0,description='cy',readout=True,readout_format='.9f',style=style,continuous_update=False)\n",
        "def interactive_cca(cx,cy):\n",
        "    rcca=rCCA(latent_dims=1,c=[cx,cy]).fit([X_tr,Y_tr])\n",
        "    test_scores=rcca.transform(X_te,Y_te)\n",
        "    plot_latent_train_test(rcca.scores,test_scores)\n",
        "    plot_train_test_corrs(rcca.scores,test_scores)\n",
        "    plot_model_weights(rcca.weights[0],rcca.weights[1],tx,ty, title='Model weights vs. True weights')\n",
        "\n",
        "plot_widget=widgets.interactive(interactive_cca, cx=cx,cy=cy)\n",
        "display(plot_widget)"
      ],
      "execution_count": 6,
      "outputs": [
        {
          "output_type": "display_data",
          "data": {
            "application/vnd.jupyter.widget-view+json": {
              "model_id": "e94587f230824ba8897ac41915a21048",
              "version_minor": 0,
              "version_major": 2
            },
            "text/plain": [
              "interactive(children=(FloatLogSlider(value=1e-10, continuous_update=False, description='cx', max=0.0, min=-10.…"
            ]
          },
          "metadata": {}
        }
      ]
    },
    {
      "cell_type": "markdown",
      "metadata": {
        "id": "2CYEeK4Gp51n"
      },
      "source": [
        "As we increase $c_1$ and $c_2$, the correlation of the training data decreases (and the covariance increases). \n",
        "\n",
        "There is often a 'sweet spot' somewhere between CCA and PLS where the test correlation is maximised. You can see the train and test correlations in the bar plot.\n",
        "\n",
        "We now also display the learnt model weights alongside the true weights."
      ]
    },
    {
      "cell_type": "markdown",
      "metadata": {
        "id": "DSSQVqm80IX3"
      },
      "source": [
        "## Lasso Regularisation <a name=\"lasso\"></a>\n",
        "Just as the canonical ridge is analagous to ridge regularised regression, we can also use lasso regularisation in PLS and CCA models. Lasso regularisation is helpful in biomedical applications as the effects we are looking for are often parsimonious (only a small number of the features contain a signal) and the natural feature selection mechanism helps interpretability.\n",
        "\n",
        "In this section, we introduce Sparse Partial Least Squares and Sparse Canonical Correlation Analysis."
      ]
    },
    {
      "cell_type": "markdown",
      "metadata": {
        "id": "r_r4wkcoLClz"
      },
      "source": [
        "### Sparse Partial Least Squares <a name=\"spls\"></a>\n",
        "By adding an additional constraint on the weights, Witten demonstrated a sparse partial least squares model [3] able to recover signals that were only present in a fraction of the variables. Since this method adapts the PLS optimization problem, it also tends to show the same ridge regularisation properties.\n",
        "\n",
        "$w_{opt}=\\underset{w}{\\mathrm{argmax}}\\{ w_1^TX_1^TX_2w_2  \\}$\n",
        "\n",
        "$\\text{subject to:}$\n",
        "\n",
        "$\\|w_1\\|_2=1$,\n",
        "$\\|w_1\\|_2=1$\n",
        "\n",
        "$\\|w_1\\|_1\\leq c_1$,\n",
        "$\\|w_2\\|_1\\leq c_2$\n",
        "\n",
        "reducing the value of $c_1$ and $c_2$ leads to a sparser solution with more zero weights \n",
        "\n",
        "Have a look for yourself!"
      ]
    },
    {
      "cell_type": "code",
      "metadata": {
        "id": "vOowgyeJ2xV_",
        "colab": {
          "base_uri": "https://localhost:8080/",
          "height": 956,
          "referenced_widgets": [
            "096ce8d7c2ee4f0f888c290327b57bd3",
            "b475903829064da9bc34a37267e1e1f5",
            "85d9ceea0892446baf3bb463f9607abb",
            "b4a0324afe744dea8a41cbde1b11b3e2",
            "fe815325fcda4e4789ac9cea38796bf1",
            "a46dd0e92ef742ada24bec0968121244",
            "df08fd8fd2614962af8372fe2ffc4417",
            "e2fb473ef1944c27a915473d08b1528b",
            "393bc870d9394cf69188fa001781af64",
            "3fd470a3f2b2471e817033faf7f104c1"
          ]
        },
        "outputId": "b8382f68-c90d-436e-af26-a835057da5f8"
      },
      "source": [
        "# @markdown Execute this cell to change model regularisation\n",
        "X_tr,X_te,Y_tr,Y_te, tx,ty=out.result\n",
        "style = {'description_width': 'initial'}\n",
        "c1=widgets.FloatSlider(value=3, min=1, max=np.sqrt(X_tr.shape[1]),description='c1',readout=True,readout_format='.5f',style=style,continuous_update=False)\n",
        "c2=widgets.FloatSlider(value=3, min=1, max=np.sqrt(Y_tr.shape[1]),description='c2',readout=True,readout_format='.5f',style=style,continuous_update=False)\n",
        "def interactive_cca(c1,c2):\n",
        "    spls=PMD(latent_dims=1,c=[c1,c2]).fit([X_tr,Y_tr])\n",
        "    test_scores=spls.transform([X_te,Y_te])\n",
        "    plot_latent_train_test(spls.scores,test_scores)\n",
        "    plot_train_test_corrs(spls.scores,test_scores)\n",
        "    plot_model_weights(spls.weights[0],spls.weights[1],tx,ty, title='Model weights vs. True weights')\n",
        "\n",
        "plot_widget=widgets.interactive(interactive_cca, c1=c1,c2=c2)\n",
        "display(plot_widget)"
      ],
      "execution_count": 7,
      "outputs": [
        {
          "output_type": "display_data",
          "data": {
            "application/vnd.jupyter.widget-view+json": {
              "model_id": "096ce8d7c2ee4f0f888c290327b57bd3",
              "version_minor": 0,
              "version_major": 2
            },
            "text/plain": [
              "interactive(children=(FloatSlider(value=3.0, continuous_update=False, description='c1', max=7.745966692414834,…"
            ]
          },
          "metadata": {}
        }
      ]
    },
    {
      "cell_type": "markdown",
      "metadata": {
        "id": "53q1yj1CLGG6"
      },
      "source": [
        "### Sparse Canonical Correlation Analysis <a name=\"scca\"></a>\n",
        "There have been a number of attempts to construct sparse CCA models. One of the most succesful is Mai's variant [4] which uses a lasso penalty with a form much like lasso regression [7].\n",
        "\n",
        "\n",
        "$w_{opt}=\\underset{w}{\\mathrm{argmax}}\\{ w_1^TX_1^TX_2w_2 - c_1\\|w_1\\|_1- c_2\\|w_2\\|_1\\}$\n",
        "\n",
        "$\\text{subject to:}$\n",
        "\n",
        "$w_1^TX_1^TX_1w_1=1$\n",
        "\n",
        "$w_2^TX_2^TX_2w_2=1$\n",
        "\n",
        "This is a slightly different form to the sparse PLS model. Since the 1-norm of the weights penalizes the objective rather than being a constraint, a higher value of $c_1$ and $c_2$ leads to a more sparse (more weights equal to zero) solution.\n",
        "\n",
        "Have a go for yourself!"
      ]
    },
    {
      "cell_type": "code",
      "metadata": {
        "colab": {
          "base_uri": "https://localhost:8080/",
          "height": 956,
          "referenced_widgets": [
            "e2c7c3087b1d4c5fafd27901afd2ce0d",
            "7663f34aed44461f95f89ed8691ac525",
            "b648badf4bf94857ba1334cc518e2170",
            "937fa120ee1e4a3ea4c82ae033014665",
            "42ae69457068459086141d2b0cba8901",
            "57c40e0cf70147059b45453a0571ea3d",
            "b54cbb2a44a340a49c9646f730f8f626",
            "087387fb090947768ef494289e49b62a",
            "daeda251a3914a2ba6e95a04734b8212",
            "dc45503ddcb941e596594f3f9ec7d288"
          ]
        },
        "id": "UYKWAgTTLI5C",
        "outputId": "69eeede6-2739-454d-e453-da5c7274f4ee"
      },
      "source": [
        "# @markdown Execute this cell to change model regularisation\n",
        "X_tr,X_te,Y_tr,Y_te, tx,ty=out.result\n",
        "style = {'description_width': 'initial'}\n",
        "c1=widgets.FloatLogSlider(value=0.005,base=10,min=-10, max=0,description='c1',readout=True,readout_format='.9f',style=style,continuous_update=False)\n",
        "c2=widgets.FloatLogSlider(value=0.005,base=10,min=-10, max=0,description='c2',readout=True,readout_format='.9f',style=style,continuous_update=False)\n",
        "def interactive_cca(c1,c2):\n",
        "    scca=SCCA(latent_dims=1,c=[c1,c2]).fit([X_tr,Y_tr])\n",
        "    test_scores=scca.transform([X_te,Y_te])\n",
        "    plot_latent_train_test(scca.scores,test_scores)\n",
        "    plot_train_test_corrs(scca.scores,test_scores)\n",
        "    plot_model_weights(scca.weights[0],scca.weights[1],tx,ty, title='Model weights vs. True weights')\n",
        "\n",
        "plot_widget=widgets.interactive(interactive_cca, c1=c1,c2=c2)\n",
        "display(plot_widget)"
      ],
      "execution_count": 8,
      "outputs": [
        {
          "output_type": "display_data",
          "data": {
            "application/vnd.jupyter.widget-view+json": {
              "model_id": "e2c7c3087b1d4c5fafd27901afd2ce0d",
              "version_minor": 0,
              "version_major": 2
            },
            "text/plain": [
              "interactive(children=(FloatLogSlider(value=0.005, continuous_update=False, description='c1', max=0.0, min=-10.…"
            ]
          },
          "metadata": {}
        }
      ]
    },
    {
      "cell_type": "markdown",
      "metadata": {
        "id": "cnhys1o9Xdh7"
      },
      "source": [
        "## Apply what we have learnt: a neuroimaging example <a name=\"haxby\"></a>\n",
        "\n",
        "This part leans heavily on the nilearn [5,6] tutorial in:\n",
        "https://nilearn.github.io/auto_examples/02_decoding/plot_haxby_different_estimators.html#sphx-glr-auto-examples-02-decoding-plot-haxby-different-estimators-py.\n",
        "\n",
        "The Haxby dataset a well known neuroscience dataset which contains functional magnetic resonance images (fMRI) from various subjects while they observe different tasks (e.g. house, cat). \n",
        "\n",
        "We will apply our multivariate models to this data.\n",
        "\n",
        "We take masked versions of the fMRI data as view 1. As the other view we will take one hot encoded matrix of the 12 task labels. We will also add 12 random columns to view 2 which we hope our model will learn to ignore since there should be no correlated signal with the fMRI data.\n",
        "\n",
        "![Hax](https://raw.githubusercontent.com/jameschapman19/education-challenge/main/image3.png)"
      ]
    },
    {
      "cell_type": "code",
      "metadata": {
        "colab": {
          "base_uri": "https://localhost:8080/"
        },
        "id": "1YS65dje8BHO",
        "cellView": "form",
        "outputId": "7c74860b-b805-44de-828a-defab5b99db5"
      },
      "source": [
        "# @markdown Execute this cell to fetch and preprocess the Haxby Dataset!\n",
        "haxby_dataset = datasets.fetch_haxby()\n",
        "mask_filename = haxby_dataset.mask_vt[0]\n",
        "fmri_filename = haxby_dataset.func[0]\n",
        "behavioural = pd.read_csv(haxby_dataset.session_target[0], delimiter=' ')\n",
        "condition_mask=np.ones(len(behavioural),dtype=bool)\n",
        "fmri_niimgs = index_img(fmri_filename,condition_mask)\n",
        "session_label = behavioural['chunks']\n",
        "masker = NiftiMasker(mask_img=mask_filename, sessions=session_label,\n",
        "                     smoothing_fwhm=4, standardize=True,\n",
        "                     memory=\"nilearn_cache\", memory_level=1)\n",
        "#Transform data so it is usable\n",
        "fmri_masked = masker.fit_transform(fmri_niimgs)\n",
        "session_label = OneHotEncoder(handle_unknown='ignore').fit_transform(session_label[:,None])\n",
        "session_label = np.hstack((session_label.toarray(),np.zeros((session_label.shape[0],12))))\n",
        "session_label = session_label + 0.00001*np.random.normal(size=(session_label.shape))\n",
        "HX_tr,HX_te,HY_tr,HY_te=train_test_split(fmri_masked,session_label)"
      ],
      "execution_count": 9,
      "outputs": [
        {
          "output_type": "stream",
          "name": "stdout",
          "text": [
            "\n",
            "Dataset created in /root/nilearn_data/haxby2001\n",
            "\n",
            "Downloading data from https://www.nitrc.org/frs/download.php/7868/mask.nii.gz ...\n"
          ]
        },
        {
          "output_type": "stream",
          "name": "stderr",
          "text": [
            " ...done. (0 seconds, 0 min)\n"
          ]
        },
        {
          "output_type": "stream",
          "name": "stdout",
          "text": [
            "Downloading data from http://data.pymvpa.org/datasets/haxby2001/MD5SUMS ...\n"
          ]
        },
        {
          "output_type": "stream",
          "name": "stderr",
          "text": [
            " ...done. (0 seconds, 0 min)\n"
          ]
        },
        {
          "output_type": "stream",
          "name": "stdout",
          "text": [
            "Downloading data from http://data.pymvpa.org/datasets/haxby2001/subj2-2010.01.14.tar.gz ...\n"
          ]
        },
        {
          "output_type": "stream",
          "name": "stderr",
          "text": [
            "Downloaded 275546112 of 291168628 bytes (94.6%,    0.7s remaining) ...done. (13 seconds, 0 min)\n",
            "Extracting data from /root/nilearn_data/haxby2001/f33ff337e914bf7fded743c7107979f9/subj2-2010.01.14.tar.gz..... done.\n",
            "/usr/local/lib/python3.7/dist-packages/nilearn/_utils/helpers.py:145: FutureWarning: The parameter \"sessions\" will be removed in 0.9.0 release of Nilearn. Please use the parameter \"runs\" instead.\n",
            "  return func(*args, **kwargs)\n",
            "/usr/local/lib/python3.7/dist-packages/nilearn/input_data/nifti_masker.py:529: UserWarning: Persisting input arguments took 1.58s to run.\n",
            "If this happens often in your code, it can cause performance problems \n",
            "(results will be correct in all cases). \n",
            "The reason for this is probably some large input arguments for a wrapped\n",
            " function (e.g. large strings).\n",
            "THIS IS A JOBLIB ISSUE. If you can, kindly provide the joblib's team with an\n",
            " example so that they can fix the problem.\n",
            "  dtype=self.dtype\n",
            "/usr/local/lib/python3.7/dist-packages/ipykernel_launcher.py:14: FutureWarning: Support for multi-dimensional indexing (e.g. `obj[:, None]`) is deprecated and will be removed in a future version.  Convert to a numpy array before indexing instead.\n",
            "  \n"
          ]
        }
      ]
    },
    {
      "cell_type": "markdown",
      "metadata": {
        "id": "xOG2MTBtMD0M"
      },
      "source": [
        "### Regularised CCA <a name=\"rccahaxby\"></a>"
      ]
    },
    {
      "cell_type": "code",
      "metadata": {
        "colab": {
          "base_uri": "https://localhost:8080/",
          "height": 420,
          "referenced_widgets": [
            "94a5bd227d7b488caf59c822680a4a3e",
            "0e22b29bcbff461dadcbbdff4e08c958",
            "881a0caab57e4dca893d676b4d182a2f",
            "5455f8ed1c154c379872027632cc1921",
            "1e0254cf2d904bf8b6e8dfc2777497bb",
            "71c017b242e145d396af100d01569ce0",
            "f482cd5c147344ffa721939de832eb04",
            "74c7d292bc064023869b1eb06c0ceceb",
            "0b92cdfcaaf9461e85ef2929a532cfcc",
            "728f862954b043af8f9fe0ea336ee514"
          ]
        },
        "id": "kAXZD20_Mhl8",
        "outputId": "a770b273-2aaf-4540-f588-b52918829388"
      },
      "source": [
        "# @markdown Execute this cell to change model regularisation (there's a bit of a lag as the model needs to fit in the background!)\n",
        "style = {'description_width': 'initial'}\n",
        "cx=widgets.FloatLogSlider(base=10,value=-1, min=-10, max=0,description='cx',readout=True,readout_format='.9f',style=style,continuous_update=False)\n",
        "cy=widgets.FloatLogSlider(base=10,value=-1, min=-10, max=0,description='cy',readout=True,readout_format='.9f',style=style,continuous_update=False)\n",
        "def interactive_cca(cx,cy):\n",
        "    rcca=rCCA(latent_dims=1,c=[cx,cy]).fit([HX_tr,HY_tr])\n",
        "    test_scores=rcca.transform([HX_te,HY_te])\n",
        "    plot_latent_train_test(rcca.scores,test_scores)\n",
        "    plot_train_test_corrs(rcca.scores,test_scores)\n",
        "    plot_model_weights(rcca.weights[0],rcca.weights[1], title='Model weights')\n",
        "\n",
        "plot_widget=widgets.interactive(interactive_cca, cx=cx,cy=cy)\n",
        "display(plot_widget)"
      ],
      "execution_count": 10,
      "outputs": [
        {
          "output_type": "display_data",
          "data": {
            "application/vnd.jupyter.widget-view+json": {
              "model_id": "94a5bd227d7b488caf59c822680a4a3e",
              "version_minor": 0,
              "version_major": 2
            },
            "text/plain": [
              "interactive(children=(FloatLogSlider(value=1e-10, continuous_update=False, description='cx', max=0.0, min=-10.…"
            ]
          },
          "metadata": {}
        }
      ]
    },
    {
      "cell_type": "markdown",
      "metadata": {
        "id": "O3tNrjn4MDp5"
      },
      "source": [
        "### Sparse PLS <a name=\"splshaxby\"></a>"
      ]
    },
    {
      "cell_type": "code",
      "metadata": {
        "colab": {
          "base_uri": "https://localhost:8080/",
          "height": 956,
          "referenced_widgets": [
            "ad01695dbcdc489d8415f0c3cc924cdb",
            "4bb6933b2fd64a0da6d6fb6959aade49",
            "7d7fddd785a74588801cd71896b14952",
            "9ed516053b5b4e2d9d787f1b99e15c4a",
            "a4cacf496c554dfb9350c53b557c9375",
            "778390be376d4dd4b471502d6e5edab0",
            "aa5c980c1fa14946b2a77c46ebbbf938",
            "ba401055761440a4b4235c07df788126",
            "df67a74b94cc4c3c96310dacd2c181cd",
            "b8f10b7b621d46c09b27f67b6c7961de"
          ]
        },
        "id": "OmbViQYYMjjL",
        "outputId": "a94b6744-9162-4b94-bd44-6417a907c380"
      },
      "source": [
        "# @markdown Execute this cell to change model regularisation\n",
        "style = {'description_width': 'initial'}\n",
        "c1=widgets.FloatSlider(value=3, min=1, max=np.sqrt(HX_tr.shape[1]),description='c1',readout=True,readout_format='.5f',style=style,continuous_update=False)\n",
        "c2=widgets.FloatSlider(value=3, min=1, max=np.sqrt(HY_tr.shape[1]),description='c2',readout=True,readout_format='.5f',style=style,continuous_update=False)\n",
        "def interactive_cca(c1,c2):\n",
        "    spls=PMD(latent_dims=1,c=[c1,c2]).fit([HX_tr,HY_tr])\n",
        "    test_scores=spls.transform([HX_te,HY_te])\n",
        "    plot_latent_train_test(spls.scores,test_scores)\n",
        "    plot_train_test_corrs(spls.scores,test_scores)\n",
        "    plot_model_weights(spls.weights[0],spls.weights[1], title='Model weights')\n",
        "\n",
        "plot_widget=widgets.interactive(interactive_cca, c1=c1,c2=c2)\n",
        "display(plot_widget)"
      ],
      "execution_count": 11,
      "outputs": [
        {
          "output_type": "display_data",
          "data": {
            "application/vnd.jupyter.widget-view+json": {
              "model_id": "ad01695dbcdc489d8415f0c3cc924cdb",
              "version_minor": 0,
              "version_major": 2
            },
            "text/plain": [
              "interactive(children=(FloatSlider(value=3.0, continuous_update=False, description='c1', max=21.540659228538015…"
            ]
          },
          "metadata": {}
        }
      ]
    },
    {
      "cell_type": "markdown",
      "metadata": {
        "id": "BiFXzjF2MDMh"
      },
      "source": [
        "### Sparse CCA <a name=\"sccahaxby\"></a>"
      ]
    },
    {
      "cell_type": "code",
      "metadata": {
        "colab": {
          "base_uri": "https://localhost:8080/",
          "height": 956,
          "referenced_widgets": [
            "f57a6ccd4bec4baab3c3671fdb0a4716",
            "97f9ea9d12a5470c985a84effe3c5dff",
            "273793c55bed4e679b0223622c3996a6",
            "b9643dd502144e8bbbd6b40b08276e2a",
            "f627454aecc34f7180c78f97b2521cc1",
            "7eddd5452e7744abaecafb2c5fead94f",
            "d6dbd61dbc5f434bb23afba97ce37772",
            "22ab22b2e0d64fafa316210d48498524",
            "67ad838913b740c2be9f5f0b32f96342",
            "12abc5621c7d48c9afc1418cfd5f2452"
          ]
        },
        "id": "xzUD-ylNgq2L",
        "cellView": "form",
        "outputId": "5a2fafeb-b085-4f8b-b44b-1980e3aae0d8"
      },
      "source": [
        "# @markdown Execute this cell to change model regularisation\n",
        "style = {'description_width': 'initial'}\n",
        "c1=widgets.FloatLogSlider(value=0.005,base=10,min=-10, max=0,description='c1',readout=True,readout_format='.9f',style=style,continuous_update=False)\n",
        "c2=widgets.FloatLogSlider(value=0.005,base=10,min=-10, max=0,description='c2',readout=True,readout_format='.9f',style=style,continuous_update=False)\n",
        "def interactive_cca(c1,c2):\n",
        "    scca=SCCA(latent_dims=1,c=0.01,initialization='random').fit([HX_tr,HY_tr])\n",
        "    test_scores=scca.transform([HX_te,HY_te])\n",
        "    plot_latent_train_test(scca.scores,test_scores)\n",
        "    plot_train_test_corrs(scca.scores,test_scores)\n",
        "    plot_model_weights(scca.weights[0],scca.weights[1], title='Model weights')\n",
        "    \n",
        "plot_widget=widgets.interactive(interactive_cca, c1=c1,c2=c2)\n",
        "display(plot_widget)"
      ],
      "execution_count": 12,
      "outputs": [
        {
          "output_type": "display_data",
          "data": {
            "application/vnd.jupyter.widget-view+json": {
              "model_id": "f57a6ccd4bec4baab3c3671fdb0a4716",
              "version_minor": 0,
              "version_major": 2
            },
            "text/plain": [
              "interactive(children=(FloatLogSlider(value=0.005, continuous_update=False, description='c1', max=0.0, min=-10.…"
            ]
          },
          "metadata": {}
        }
      ]
    },
    {
      "cell_type": "markdown",
      "metadata": {
        "id": "JWvWx2SdwDlB"
      },
      "source": [
        "## Conclusion <a name=\"conclusion\"></a>\n",
        "We have introduced Canonical Correlation Analysis and Partial Least Squares in an interactive way.\n",
        "\n",
        "We showed how regularisation can be used to improve the generalizability and interpretability of our models.\n",
        "\n",
        "We applied these models to a well-known neuroimaging dataset.\n",
        "\n",
        "We introduced cca-zoo, an open-source python package that implements variants of CCA and PLS models with different regularisation effects. The goal of the package is to give researchers access to flexible regularisation methods. \n",
        "\n",
        "Further documentation is available at https://cca-zoo.readthedocs.io/en/latest/index.html \n",
        "\n",
        "the source code is available at https://github.com/jameschapman19/cca_zoo\n",
        "\n",
        "\n",
        "### Acknowledgements\n",
        "Thanks to the authors of the winners of last year's MEC 'Introduction to Medical Image Registration with DeepReg, Between Old and New'[8] for the basic structure of a tutorial notebook. Also thanks to the Neuromatch Academy summer school [9] who's extensive use of notebooks with widgets taught me everything I know!\n"
      ]
    },
    {
      "cell_type": "markdown",
      "metadata": {
        "id": "holjn-oSNdy6"
      },
      "source": [
        "## References <a name=\"references\"></a>"
      ]
    },
    {
      "cell_type": "markdown",
      "metadata": {
        "id": "IvJXI8Vg-OMM"
      },
      "source": [
        "[1] Helmer, Markus, et al. \"On stability of Canonical Correlation Analysis and Partial Least Squares with application to brain-behavior associations.\" BioRxiv (2021): 2020-08.\n",
        "\n",
        "[2] Vinod, Hrishikesh D. \"Canonical ridge and econometrics of joint production.\" Journal of econometrics 4.2 (1976): 147-166.\n",
        "\n",
        "[3] Witten, Daniela M., Robert Tibshirani, and Trevor Hastie. \"A penalized matrix decomposition, with applications to sparse principal components and canonical correlation analysis.\" Biostatistics 10.3 (2009): 515-534.\n",
        "\n",
        "[4] Mai, Qing, and Xin Zhang. \"An iterative penalized least squares approach to sparse canonical correlation analysis.\" Biometrics 75.3 (2019): 734-744.\n",
        "\n",
        "[5] Abraham, Alexandre, et al. \"Machine learning for neuroimaging with scikit-learn.\" Frontiers in neuroinformatics 8 (2014): 14.\n",
        "\n",
        "[6] Pedregosa, Fabian, et al. \"Scikit-learn: Machine learning in Python.\" the Journal of machine Learning research 12 (2011): 2825-2830.\n",
        "\n",
        "[7] Tibshirani, Robert. \"Regression shrinkage and selection via the lasso.\" Journal of the Royal Statistical Society: Series B (Methodological) 58.1 (1996): 267-288.\n",
        "\n",
        "[8] Fu, Yunguan, et al. \"DeepReg: a deep learning toolkit for medical image registration.\" arXiv preprint arXiv:2011.02580 (2020).\n",
        "\n",
        "[9] van Viegen, Tara, et al. \"Neuromatch Academy: teaching computational neuroscience with global accessibility.\" arXiv preprint arXiv:2012.08973 (2020)."
      ]
    }
  ]
}